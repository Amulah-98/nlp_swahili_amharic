{
 "cells": [
  {
   "cell_type": "markdown",
   "id": "2dd8e0fb",
   "metadata": {},
   "source": [
    "# Predictions\n",
    "Prediction of sales is the central task in this challenge. you want to predict daily sales in various stores up to 6 weeks ahead of time. This will help the company plan ahead of time. \n",
    "\n",
    "The following steps outline the various sub tasks needed to effectively do this: \n"
   ]
  },
  {
   "cell_type": "code",
   "execution_count": 4,
   "id": "ef789c92",
   "metadata": {},
   "outputs": [],
   "source": [
    "# importing of libraries\n",
    "import numpy as np\n",
    "import pandas as pd\n",
    "import warnings\n",
    "import matplotlib.pyplot as plt\n",
    "from pandas.plotting import scatter_matrix\n",
    "import seaborn as sns\n",
    "import os,sys\n",
    "sys.path.append(os.path.abspath(os.path.join('../scripts')))\n",
    "from timeseries import TimeSeries\n",
    "from clean import Clean\n",
    "sns.set()\n",
    "warnings.simplefilter(action='ignore', category=FutureWarning)\n",
    "pd.set_option('display.float_format', lambda x: '%.3f' % x)\n",
    "pd.options.mode.chained_assignment = None  # default='warn'\n",
    "plt.rcParams[\"figure.figsize\"] = (12, 8)\n",
    "pd.set_option('display.max_columns', None)"
   ]
  },
  {
   "cell_type": "markdown",
   "id": "3d701d93",
   "metadata": {},
   "source": [
    "# Preprocessing\n",
    "It is important to process the data into a format where it can be fed to a machine learning model. This typically means converting all non-numeric columns to numeric, handling NaN values and generating new features from already existing features. \n",
    "\n",
    "In our case, you have a few datetime columns to preprocess. you can extract the following from them:\n",
    "weekdays\n",
    "weekends \n",
    "number of days to holidays\n",
    "Number of days after holiday\n",
    "Beginning of month, mid month and ending of month\n",
    "(think of more features to extract), extra marks for it\n",
    "            \n",
    "As a final thing, you have to scale the data. This helps with predictions especially when using machine learning algorithms that use Euclidean distances. you can use the standard scaler in sklearn for this.\n"
   ]
  },
  {
   "cell_type": "code",
   "execution_count": 7,
   "id": "bd76c480",
   "metadata": {},
   "outputs": [
    {
     "name": "stderr",
     "output_type": "stream",
     "text": [
      "/tmp/ipykernel_7183/2395586539.py:2: DtypeWarning: Columns (7) have mixed types. Specify dtype option on import or set low_memory=False.\n",
      "  df = pd.read_csv(\"../data/train.csv\")\n",
      "2022-05-24 16:06:12,316:logger:Successfully initialized clean class\n",
      "2022-05-24 16:06:12,684:logger:Successfully merged the dataframe\n",
      "2022-05-24 16:06:22,157:logger:Successfully saved the dataframe\n",
      "2022-05-24 16:06:24,804:logger:Successfully dropped the columns with missing values\n",
      "2022-05-24 16:06:24,864:logger:Successfully stored the features\n",
      "2022-05-24 16:06:24,963:logger:Successfully handled outliers\n",
      "2022-05-24 16:06:25,059:logger:Successfully removed columns with head unnamed\n",
      "2022-05-24 16:06:26,648:logger:Successfully transformed data to time series data\n",
      "2022-05-24 16:06:34,789:logger:Successfully saved the dataframe\n"
     ]
    }
   ],
   "source": [
    "store = pd.read_csv(\"../data/store.csv\")\n",
    "df = pd.read_csv(\"../data/train.csv\")\n",
    "clean_df = Clean(df)\n",
    "clean_df.merge_df(store,'Store')\n",
    "clean_df.save(name='../data/unclean_train.csv')\n",
    "clean_df.drop_missing_values()\n",
    "clean_df.fix_outliers('Sales',25000)\n",
    "clean_df.remove_unnamed_cols()\n",
    "clean_df.transfrom_time_series(\"Store\",\"Date\")\n",
    "clean_df.save(name=\"../data/training.csv\")\n"
   ]
  },
  {
   "cell_type": "code",
   "execution_count": 8,
   "id": "04f9ed6f",
   "metadata": {},
   "outputs": [
    {
     "name": "stderr",
     "output_type": "stream",
     "text": [
      "2022-05-24 16:06:35,157:logger:Successfully initialized clean class\n",
      "2022-05-24 16:06:35,179:logger:Successfully merged the dataframe\n",
      "2022-05-24 16:06:35,893:logger:Successfully saved the dataframe\n",
      "2022-05-24 16:06:35,958:logger:Successfully dropped the columns with missing values\n",
      "2022-05-24 16:06:35,960:logger:Successfully stored the features\n",
      "2022-05-24 16:06:35,961:logger:Successfully handled outliers\n",
      "2022-05-24 16:06:35,969:logger:Successfully removed columns with head unnamed\n",
      "2022-05-24 16:06:36,094:logger:Successfully transformed data to time series data\n",
      "2022-05-24 16:06:36,461:logger:Successfully saved the dataframe\n"
     ]
    }
   ],
   "source": [
    "df = pd.read_csv(\"../data/test.csv\")\n",
    "clean_df = Clean(df)\n",
    "clean_df.merge_df(store,'Store')\n",
    "clean_df.save(name='../data/unclean_test.csv')\n",
    "clean_df.drop_missing_values()\n",
    "clean_df.fix_outliers('Sales',25000)\n",
    "clean_df.remove_unnamed_cols()\n",
    "clean_df.transfrom_time_series(\"Store\",\"Date\")\n",
    "clean_df.get_df().drop('Id',axis=1,inplace=True)\n",
    "clean_df.save(name=\"../data/testing.csv\")"
   ]
  },
  {
   "cell_type": "code",
   "execution_count": null,
   "id": "5b1eb0ac",
   "metadata": {},
   "outputs": [],
   "source": []
  }
 ],
 "metadata": {
  "kernelspec": {
   "display_name": "Python 3 (ipykernel)",
   "language": "python",
   "name": "python3"
  },
  "language_info": {
   "codemirror_mode": {
    "name": "ipython",
    "version": 3
   },
   "file_extension": ".py",
   "mimetype": "text/x-python",
   "name": "python",
   "nbconvert_exporter": "python",
   "pygments_lexer": "ipython3",
   "version": "3.10.4"
  }
 },
 "nbformat": 4,
 "nbformat_minor": 5
}
