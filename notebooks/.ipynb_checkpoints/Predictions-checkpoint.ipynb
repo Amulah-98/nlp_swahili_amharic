{
 "cells": [
  {
   "cell_type": "markdown",
   "id": "2dd8e0fb",
   "metadata": {},
   "source": [
    "# Predictions\n",
    "Prediction of sales is the central task in this challenge. you want to predict daily sales in various stores up to 6 weeks ahead of time. This will help the company plan ahead of time. \n",
    "\n",
    "The following steps outline the various sub tasks needed to effectively do this: \n"
   ]
  },
  {
   "cell_type": "code",
   "execution_count": 1,
   "id": "ef789c92",
   "metadata": {},
   "outputs": [
    {
     "name": "stdout",
     "output_type": "stream",
     "text": [
      "/home/martin/Documents/pharm_sales/notebooks\n"
     ]
    }
   ],
   "source": [
    "# importing of libraries\n",
    "import numpy as np\n",
    "import pandas as pd\n",
    "import warnings\n",
    "import matplotlib.pyplot as plt\n",
    "from pandas.plotting import scatter_matrix\n",
    "import seaborn as sns\n",
    "import os,sys\n",
    "sys.path.append(os.path.abspath(os.path.join('../scripts')))\n",
    "from timeseries import TimeSeries\n",
    "from clean import Clean\n",
    "sns.set()\n",
    "warnings.simplefilter(action='ignore', category=FutureWarning)\n",
    "pd.set_option('display.float_format', lambda x: '%.3f' % x)\n",
    "pd.options.mode.chained_assignment = None  # default='warn'\n",
    "plt.rcParams[\"figure.figsize\"] = (12, 8)\n",
    "pd.set_option('display.max_columns', None)"
   ]
  },
  {
   "cell_type": "markdown",
   "id": "3d701d93",
   "metadata": {},
   "source": [
    "# Preprocessing\n",
    "It is important to process the data into a format where it can be fed to a machine learning model. This typically means converting all non-numeric columns to numeric, handling NaN values and generating new features from already existing features. \n",
    "\n",
    "In our case, you have a few datetime columns to preprocess. you can extract the following from them:\n",
    "weekdays\n",
    "weekends \n",
    "number of days to holidays\n",
    "Number of days after holiday\n",
    "Beginning of month, mid month and ending of month\n",
    "(think of more features to extract), extra marks for it\n",
    "            \n",
    "As a final thing, you have to scale the data. This helps with predictions especially when using machine learning algorithms that use Euclidean distances. you can use the standard scaler in sklearn for this.\n"
   ]
  },
  {
   "cell_type": "code",
   "execution_count": 2,
   "id": "bd76c480",
   "metadata": {},
   "outputs": [
    {
     "name": "stderr",
     "output_type": "stream",
     "text": [
      "/tmp/ipykernel_11502/2395586539.py:2: DtypeWarning: Columns (7) have mixed types. Specify dtype option on import or set low_memory=False.\n",
      "  df = pd.read_csv(\"../data/train.csv\")\n",
      "2022-05-24 17:33:54,044:logger:Successfully initialized clean class\n",
      "2022-05-24 17:33:54,353:logger:Successfully merged the dataframe\n",
      "2022-05-24 17:34:04,601:logger:Successfully saved the dataframe\n",
      "2022-05-24 17:34:05,775:logger:Successfully dropped the columns with missing values\n",
      "2022-05-24 17:34:05,777:logger:Successfully stored the features\n",
      "2022-05-24 17:34:05,886:logger:Successfully handled outliers\n",
      "2022-05-24 17:34:05,925:logger:Successfully removed columns with head unnamed\n",
      "2022-05-24 17:34:06,729:logger:Successfully transformed data to time series data\n",
      "2022-05-24 17:34:14,000:logger:Successfully saved the dataframe\n"
     ]
    }
   ],
   "source": [
    "store = pd.read_csv(\"../data/store.csv\")\n",
    "df = pd.read_csv(\"../data/train.csv\")\n",
    "clean_df = Clean(df)\n",
    "clean_df.merge_df(store,'Store')\n",
    "clean_df.save(name='../data/unclean_train.csv')\n",
    "clean_df.drop_missing_values()\n",
    "clean_df.fix_outliers('Sales',25000)\n",
    "clean_df.remove_unnamed_cols()\n",
    "clean_df.transfrom_time_series(\"Store\",\"Date\")\n",
    "clean_df.save(name=\"../data/training.csv\")\n"
   ]
  },
  {
   "cell_type": "code",
   "execution_count": 3,
   "id": "04f9ed6f",
   "metadata": {},
   "outputs": [
    {
     "name": "stderr",
     "output_type": "stream",
     "text": [
      "2022-05-24 17:34:14,084:logger:Successfully initialized clean class\n",
      "2022-05-24 17:34:14,101:logger:Successfully merged the dataframe\n",
      "2022-05-24 17:34:14,459:logger:Successfully saved the dataframe\n",
      "2022-05-24 17:34:14,520:logger:Successfully dropped the columns with missing values\n",
      "2022-05-24 17:34:14,524:logger:Successfully stored the features\n",
      "2022-05-24 17:34:14,526:logger:Successfully handled outliers\n",
      "2022-05-24 17:34:14,531:logger:Successfully removed columns with head unnamed\n",
      "2022-05-24 17:34:14,619:logger:Successfully transformed data to time series data\n",
      "2022-05-24 17:34:14,966:logger:Successfully saved the dataframe\n"
     ]
    }
   ],
   "source": [
    "df = pd.read_csv(\"../data/test.csv\")\n",
    "clean_df = Clean(df)\n",
    "clean_df.merge_df(store,'Store')\n",
    "clean_df.save(name='../data/unclean_test.csv')\n",
    "clean_df.drop_missing_values()\n",
    "clean_df.fix_outliers('Sales',25000)\n",
    "clean_df.remove_unnamed_cols()\n",
    "clean_df.transfrom_time_series(\"Store\",\"Date\")\n",
    "clean_df.get_df().drop('Id',axis=1,inplace=True)\n",
    "clean_df.save(name=\"../data/testing.csv\")"
   ]
  },
  {
   "cell_type": "code",
   "execution_count": 4,
   "id": "26bde304",
   "metadata": {},
   "outputs": [],
   "source": [
    "train = pd.read_csv(\"../data/training.csv\")\n",
    "test = pd.read_csv(\"../data/testing.csv\")"
   ]
  },
  {
   "cell_type": "markdown",
   "id": "6ed1e163",
   "metadata": {},
   "source": [
    "Feature Engineering"
   ]
  },
  {
   "cell_type": "code",
   "execution_count": 8,
   "id": "6e0abca4",
   "metadata": {},
   "outputs": [
    {
     "name": "stderr",
     "output_type": "stream",
     "text": [
      "2022-05-24 17:35:17,051:logger:successful aggregation\n",
      "2022-05-24 17:35:17,087:logger:successful aggregation\n",
      "2022-05-24 17:35:17,144:logger:successful aggregation\n",
      "2022-05-24 17:35:17,176:logger:successful aggregation\n"
     ]
    }
   ],
   "source": [
    "daily_sales = clean_df.aggregations(train,'Store','Sales','Open','sum')\n",
    "daily_customers = clean_df.aggregations(train,'Store','Customers','Open','sum')\n",
    "avg_sales = clean_df.aggregations(train,'Store','Sales','Open','mean')\n",
    "avg_customers = clean_df.aggregations(train,'Store','Customers','Open','mean')\n",
    "train['DailySales'] = train['Store'].map(daily_sales)\n",
    "train['DailyCustomers'] = train['Store'].map(daily_customers)\n",
    "train['AvgSales'] = train['Store'].map(avg_sales)\n",
    "train['AvgCustomers'] = train['Store'].map(avg_customers)"
   ]
  },
  {
   "cell_type": "markdown",
   "id": "d61d709c",
   "metadata": {},
   "source": [
    "Label Encoding"
   ]
  },
  {
   "cell_type": "code",
   "execution_count": 11,
   "id": "80fa63cd",
   "metadata": {},
   "outputs": [
    {
     "name": "stderr",
     "output_type": "stream",
     "text": [
      "2022-05-24 17:36:11,579:logger:Successfully stored the features\n",
      "2022-05-24 17:36:12,193:logger:Successfully encoded your categorical data\n"
     ]
    }
   ],
   "source": [
    "clean_df.label_encoding(train,test)"
   ]
  },
  {
   "cell_type": "markdown",
   "id": "e53bcd2d",
   "metadata": {},
   "source": [
    "Scaling Data"
   ]
  },
  {
   "cell_type": "code",
   "execution_count": 12,
   "id": "a232f0db",
   "metadata": {},
   "outputs": [],
   "source": [
    "training_data_ = train[train.columns.difference(['DayOfWeek','Day', 'Month', 'Year', 'DayOfYear','WeekOfYear'])]\n",
    "testing_data_ = test[test.columns.difference(['DayOfWeek','Day', 'Month', 'Year', 'DayOfYear','WeekOfYear'])]"
   ]
  },
  {
   "cell_type": "code",
   "execution_count": 13,
   "id": "0cf8605a",
   "metadata": {},
   "outputs": [
    {
     "name": "stderr",
     "output_type": "stream",
     "text": [
      "2022-05-24 17:36:17,939:logger:Successfully transformed numerical data\n",
      "2022-05-24 17:36:17,957:logger:Successfully transformed numerical data\n"
     ]
    }
   ],
   "source": [
    "train_transformation=clean_df.generate_transformation(training_data_,\"numeric\",\"number\")\n",
    "test_transformation=clean_df.generate_transformation(testing_data_,\"numeric\",\"number\")"
   ]
  },
  {
   "cell_type": "code",
   "execution_count": 14,
   "id": "0cee504f",
   "metadata": {},
   "outputs": [],
   "source": [
    "indexes = ['DayOfWeek','Day', 'Month', 'Year', 'DayOfYear','WeekOfYear']\n",
    "train_transformed = pd.DataFrame(train_transformation,columns=train.columns.difference(indexes))\n",
    "test_transformed = pd.DataFrame(test_transformation,columns=test.columns.difference(indexes))\n",
    "train_index = train[indexes]\n",
    "test_index = test[indexes]\n",
    "train = pd.concat([train_index,train_transformed],axis=1)\n",
    "test = pd.concat([test_index,test_transformed],axis=1)"
   ]
  },
  {
   "cell_type": "code",
   "execution_count": 16,
   "id": "e0a286e7",
   "metadata": {},
   "outputs": [],
   "source": [
    "train.sort_values([\"Year\",\"Month\",\"Day\"], ascending=False ,ignore_index=True, inplace=True)\n",
    "test.sort_values([\"Year\",\"Month\",\"Day\"], ascending=False ,ignore_index=True, inplace=True)"
   ]
  },
  {
   "cell_type": "code",
   "execution_count": 18,
   "id": "f33f0cda",
   "metadata": {},
   "outputs": [
    {
     "data": {
      "text/html": [
       "<div>\n",
       "<style scoped>\n",
       "    .dataframe tbody tr th:only-of-type {\n",
       "        vertical-align: middle;\n",
       "    }\n",
       "\n",
       "    .dataframe tbody tr th {\n",
       "        vertical-align: top;\n",
       "    }\n",
       "\n",
       "    .dataframe thead th {\n",
       "        text-align: right;\n",
       "    }\n",
       "</style>\n",
       "<table border=\"1\" class=\"dataframe\">\n",
       "  <thead>\n",
       "    <tr style=\"text-align: right;\">\n",
       "      <th></th>\n",
       "      <th>DayOfWeek</th>\n",
       "      <th>Day</th>\n",
       "      <th>Month</th>\n",
       "      <th>Year</th>\n",
       "      <th>DayOfYear</th>\n",
       "      <th>WeekOfYear</th>\n",
       "      <th>Assortment</th>\n",
       "      <th>AvgCustomers</th>\n",
       "      <th>AvgSales</th>\n",
       "      <th>CompetitionDistance</th>\n",
       "      <th>CompetitionOpenSinceMonth</th>\n",
       "      <th>CompetitionOpenSinceYear</th>\n",
       "      <th>Customers</th>\n",
       "      <th>DailyCustomers</th>\n",
       "      <th>DailySales</th>\n",
       "      <th>Open</th>\n",
       "      <th>Promo</th>\n",
       "      <th>Promo2</th>\n",
       "      <th>Promo2SinceWeek</th>\n",
       "      <th>Promo2SinceYear</th>\n",
       "      <th>PromoInterval</th>\n",
       "      <th>Sales</th>\n",
       "      <th>SchoolHoliday</th>\n",
       "      <th>StateHoliday</th>\n",
       "      <th>Store</th>\n",
       "      <th>StoreType</th>\n",
       "    </tr>\n",
       "  </thead>\n",
       "  <tbody>\n",
       "    <tr>\n",
       "      <th>324270</th>\n",
       "      <td>2</td>\n",
       "      <td>1</td>\n",
       "      <td>1</td>\n",
       "      <td>2013</td>\n",
       "      <td>1</td>\n",
       "      <td>1</td>\n",
       "      <td>1.000</td>\n",
       "      <td>0.140</td>\n",
       "      <td>0.125</td>\n",
       "      <td>0.011</td>\n",
       "      <td>0.909</td>\n",
       "      <td>0.939</td>\n",
       "      <td>0.000</td>\n",
       "      <td>0.160</td>\n",
       "      <td>0.144</td>\n",
       "      <td>0.000</td>\n",
       "      <td>0.000</td>\n",
       "      <td>0.000</td>\n",
       "      <td>0.085</td>\n",
       "      <td>0.667</td>\n",
       "      <td>1.000</td>\n",
       "      <td>0.000</td>\n",
       "      <td>1.000</td>\n",
       "      <td>0.000</td>\n",
       "      <td>0.995</td>\n",
       "      <td>1.000</td>\n",
       "    </tr>\n",
       "    <tr>\n",
       "      <th>324271</th>\n",
       "      <td>2</td>\n",
       "      <td>1</td>\n",
       "      <td>1</td>\n",
       "      <td>2013</td>\n",
       "      <td>1</td>\n",
       "      <td>1</td>\n",
       "      <td>1.000</td>\n",
       "      <td>0.169</td>\n",
       "      <td>0.153</td>\n",
       "      <td>0.195</td>\n",
       "      <td>0.727</td>\n",
       "      <td>0.965</td>\n",
       "      <td>0.000</td>\n",
       "      <td>0.193</td>\n",
       "      <td>0.175</td>\n",
       "      <td>0.000</td>\n",
       "      <td>0.000</td>\n",
       "      <td>0.000</td>\n",
       "      <td>0.638</td>\n",
       "      <td>0.667</td>\n",
       "      <td>0.000</td>\n",
       "      <td>0.000</td>\n",
       "      <td>1.000</td>\n",
       "      <td>0.000</td>\n",
       "      <td>0.995</td>\n",
       "      <td>0.000</td>\n",
       "    </tr>\n",
       "    <tr>\n",
       "      <th>324272</th>\n",
       "      <td>2</td>\n",
       "      <td>1</td>\n",
       "      <td>1</td>\n",
       "      <td>2013</td>\n",
       "      <td>1</td>\n",
       "      <td>1</td>\n",
       "      <td>0.000</td>\n",
       "      <td>0.317</td>\n",
       "      <td>0.363</td>\n",
       "      <td>0.050</td>\n",
       "      <td>0.455</td>\n",
       "      <td>0.974</td>\n",
       "      <td>0.000</td>\n",
       "      <td>0.259</td>\n",
       "      <td>0.285</td>\n",
       "      <td>0.000</td>\n",
       "      <td>0.000</td>\n",
       "      <td>0.000</td>\n",
       "      <td>0.255</td>\n",
       "      <td>0.167</td>\n",
       "      <td>0.000</td>\n",
       "      <td>0.000</td>\n",
       "      <td>1.000</td>\n",
       "      <td>0.000</td>\n",
       "      <td>0.996</td>\n",
       "      <td>0.000</td>\n",
       "    </tr>\n",
       "    <tr>\n",
       "      <th>324273</th>\n",
       "      <td>2</td>\n",
       "      <td>1</td>\n",
       "      <td>1</td>\n",
       "      <td>2013</td>\n",
       "      <td>1</td>\n",
       "      <td>1</td>\n",
       "      <td>0.000</td>\n",
       "      <td>0.167</td>\n",
       "      <td>0.240</td>\n",
       "      <td>0.127</td>\n",
       "      <td>0.273</td>\n",
       "      <td>0.965</td>\n",
       "      <td>0.000</td>\n",
       "      <td>0.121</td>\n",
       "      <td>0.172</td>\n",
       "      <td>0.000</td>\n",
       "      <td>0.000</td>\n",
       "      <td>0.000</td>\n",
       "      <td>0.447</td>\n",
       "      <td>0.500</td>\n",
       "      <td>0.000</td>\n",
       "      <td>0.000</td>\n",
       "      <td>1.000</td>\n",
       "      <td>0.000</td>\n",
       "      <td>0.998</td>\n",
       "      <td>1.000</td>\n",
       "    </tr>\n",
       "    <tr>\n",
       "      <th>324274</th>\n",
       "      <td>2</td>\n",
       "      <td>1</td>\n",
       "      <td>1</td>\n",
       "      <td>2013</td>\n",
       "      <td>1</td>\n",
       "      <td>1</td>\n",
       "      <td>0.000</td>\n",
       "      <td>0.108</td>\n",
       "      <td>0.177</td>\n",
       "      <td>0.069</td>\n",
       "      <td>0.455</td>\n",
       "      <td>0.991</td>\n",
       "      <td>0.000</td>\n",
       "      <td>0.123</td>\n",
       "      <td>0.203</td>\n",
       "      <td>0.000</td>\n",
       "      <td>0.000</td>\n",
       "      <td>0.000</td>\n",
       "      <td>0.638</td>\n",
       "      <td>0.667</td>\n",
       "      <td>0.000</td>\n",
       "      <td>0.000</td>\n",
       "      <td>1.000</td>\n",
       "      <td>0.000</td>\n",
       "      <td>1.000</td>\n",
       "      <td>0.000</td>\n",
       "    </tr>\n",
       "  </tbody>\n",
       "</table>\n",
       "</div>"
      ],
      "text/plain": [
       "        DayOfWeek  Day  Month  Year  DayOfYear  WeekOfYear  Assortment  \\\n",
       "324270          2    1      1  2013          1           1       1.000   \n",
       "324271          2    1      1  2013          1           1       1.000   \n",
       "324272          2    1      1  2013          1           1       0.000   \n",
       "324273          2    1      1  2013          1           1       0.000   \n",
       "324274          2    1      1  2013          1           1       0.000   \n",
       "\n",
       "        AvgCustomers  AvgSales  CompetitionDistance  \\\n",
       "324270         0.140     0.125                0.011   \n",
       "324271         0.169     0.153                0.195   \n",
       "324272         0.317     0.363                0.050   \n",
       "324273         0.167     0.240                0.127   \n",
       "324274         0.108     0.177                0.069   \n",
       "\n",
       "        CompetitionOpenSinceMonth  CompetitionOpenSinceYear  Customers  \\\n",
       "324270                      0.909                     0.939      0.000   \n",
       "324271                      0.727                     0.965      0.000   \n",
       "324272                      0.455                     0.974      0.000   \n",
       "324273                      0.273                     0.965      0.000   \n",
       "324274                      0.455                     0.991      0.000   \n",
       "\n",
       "        DailyCustomers  DailySales  Open  Promo  Promo2  Promo2SinceWeek  \\\n",
       "324270           0.160       0.144 0.000  0.000   0.000            0.085   \n",
       "324271           0.193       0.175 0.000  0.000   0.000            0.638   \n",
       "324272           0.259       0.285 0.000  0.000   0.000            0.255   \n",
       "324273           0.121       0.172 0.000  0.000   0.000            0.447   \n",
       "324274           0.123       0.203 0.000  0.000   0.000            0.638   \n",
       "\n",
       "        Promo2SinceYear  PromoInterval  Sales  SchoolHoliday  StateHoliday  \\\n",
       "324270            0.667          1.000  0.000          1.000         0.000   \n",
       "324271            0.667          0.000  0.000          1.000         0.000   \n",
       "324272            0.167          0.000  0.000          1.000         0.000   \n",
       "324273            0.500          0.000  0.000          1.000         0.000   \n",
       "324274            0.667          0.000  0.000          1.000         0.000   \n",
       "\n",
       "        Store  StoreType  \n",
       "324270  0.995      1.000  \n",
       "324271  0.995      0.000  \n",
       "324272  0.996      0.000  \n",
       "324273  0.998      1.000  \n",
       "324274  1.000      0.000  "
      ]
     },
     "execution_count": 18,
     "metadata": {},
     "output_type": "execute_result"
    }
   ],
   "source": [
    "train.tail()"
   ]
  }
 ],
 "metadata": {
  "kernelspec": {
   "display_name": "Python 3 (ipykernel)",
   "language": "python",
   "name": "python3"
  },
  "language_info": {
   "codemirror_mode": {
    "name": "ipython",
    "version": 3
   },
   "file_extension": ".py",
   "mimetype": "text/x-python",
   "name": "python",
   "nbconvert_exporter": "python",
   "pygments_lexer": "ipython3",
   "version": "3.10.4"
  }
 },
 "nbformat": 4,
 "nbformat_minor": 5
}
