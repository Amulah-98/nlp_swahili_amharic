{
 "cells": [
  {
   "cell_type": "code",
   "execution_count": 10,
   "id": "4b7ce640",
   "metadata": {},
   "outputs": [],
   "source": [
    "import pandas as pd\n",
    "import os,sys\n",
    "sys.path.append(os.path.abspath(os.path.join('..')))\n",
    "from xgboost import XGBClassifier\n",
    "from scripts.modeling import Modeler\n",
    "from sklearn.tree import DecisionTreeClassifier\n",
    "from sklearn.ensemble import RandomForestClassifier\n",
    "from sklearn.neighbors import KNeighborsClassifier\n",
    "from sklearn.linear_model import LogisticRegression\n",
    "from sklearn.naive_bayes import BernoulliNB, GaussianNB"
   ]
  },
  {
   "cell_type": "code",
   "execution_count": 2,
   "id": "aee12aa1",
   "metadata": {},
   "outputs": [],
   "source": [
    "df = pd.read_csv(\"../data/AdSmartABdata.csv\")\n",
    "analyzer = Modeler(df)\n",
    "numeric_pipeline = analyzer.generate_pipeline(\"numeric\")\n",
    "numeric_transformation =  analyzer.generate_transformation(numeric_pipeline,\"numeric\",\"number\")\n",
    "numerical_features = analyzer.store_features(\"numeric\",\"number\")\n",
    "categorical_features = analyzer.store_features(\"categorical\",\"number\")"
   ]
  },
  {
   "cell_type": "code",
   "execution_count": 3,
   "id": "3fbf93bf",
   "metadata": {},
   "outputs": [
    {
     "data": {
      "text/plain": [
       "(array([[2430,   38],\n",
       "        [ 193,    5]], dtype=int64),\n",
       " 0.9133533383345837)"
      ]
     },
     "execution_count": 3,
     "metadata": {},
     "output_type": "execute_result"
    }
   ],
   "source": [
    "analyzer.model(RandomForestClassifier,n_estimators=100)"
   ]
  },
  {
   "cell_type": "code",
   "execution_count": 4,
   "id": "807be904",
   "metadata": {},
   "outputs": [
    {
     "data": {
      "text/plain": [
       "(array([[2255,  219],\n",
       "        [ 178,   14]], dtype=int64),\n",
       " 0.8510877719429858)"
      ]
     },
     "execution_count": 4,
     "metadata": {},
     "output_type": "execute_result"
    }
   ],
   "source": [
    "analyzer.model( DecisionTreeClassifier)"
   ]
  },
  {
   "cell_type": "code",
   "execution_count": 5,
   "id": "e7afea8e",
   "metadata": {},
   "outputs": [
    {
     "name": "stderr",
     "output_type": "stream",
     "text": [
      "c:\\users\\user\\appdata\\local\\programs\\python\\python37\\lib\\site-packages\\sklearn\\linear_model\\_logistic.py:818: ConvergenceWarning: lbfgs failed to converge (status=1):\n",
      "STOP: TOTAL NO. of ITERATIONS REACHED LIMIT.\n",
      "\n",
      "Increase the number of iterations (max_iter) or scale the data as shown in:\n",
      "    https://scikit-learn.org/stable/modules/preprocessing.html\n",
      "Please also refer to the documentation for alternative solver options:\n",
      "    https://scikit-learn.org/stable/modules/linear_model.html#logistic-regression\n",
      "  extra_warning_msg=_LOGISTIC_SOLVER_CONVERGENCE_MSG,\n"
     ]
    },
    {
     "data": {
      "text/plain": [
       "(array([[2500,    0],\n",
       "        [ 166,    0]], dtype=int64),\n",
       " 0.9377344336084021)"
      ]
     },
     "execution_count": 5,
     "metadata": {},
     "output_type": "execute_result"
    }
   ],
   "source": [
    "analyzer.model(LogisticRegression)"
   ]
  },
  {
   "cell_type": "code",
   "execution_count": 6,
   "id": "2bd4045e",
   "metadata": {},
   "outputs": [
    {
     "data": {
      "text/plain": [
       "(array([[2473,    1],\n",
       "        [ 192,    0]], dtype=int64),\n",
       " 0.9276069017254314)"
      ]
     },
     "execution_count": 6,
     "metadata": {},
     "output_type": "execute_result"
    }
   ],
   "source": [
    "analyzer.model(BernoulliNB)"
   ]
  },
  {
   "cell_type": "code",
   "execution_count": 7,
   "id": "437ffd28",
   "metadata": {},
   "outputs": [
    {
     "data": {
      "text/plain": [
       "(array([[2054,  406],\n",
       "        [ 166,   40]], dtype=int64),\n",
       " 0.7854463615903976)"
      ]
     },
     "execution_count": 7,
     "metadata": {},
     "output_type": "execute_result"
    }
   ],
   "source": [
    "analyzer.model(GaussianNB)"
   ]
  },
  {
   "cell_type": "code",
   "execution_count": 8,
   "id": "41a22f5c",
   "metadata": {},
   "outputs": [
    {
     "data": {
      "text/plain": [
       "(array([[2435,   21],\n",
       "        [ 208,    2]], dtype=int64),\n",
       " 0.9141035258814704)"
      ]
     },
     "execution_count": 8,
     "metadata": {},
     "output_type": "execute_result"
    }
   ],
   "source": [
    "analyzer.model(KNeighborsClassifier,n_neighbors=3, metric=\"minkowski\")"
   ]
  },
  {
   "cell_type": "code",
   "execution_count": 11,
   "id": "b93d7b8e",
   "metadata": {},
   "outputs": [
    {
     "data": {
      "text/plain": [
       "(array([[2479,    9],\n",
       "        [ 177,    1]], dtype=int64),\n",
       " 0.9302325581395349)"
      ]
     },
     "execution_count": 11,
     "metadata": {},
     "output_type": "execute_result"
    }
   ],
   "source": [
    "analyzer.model(XGBClassifier,n_estimators=1000, learning_rate=0.05)"
   ]
  },
  {
   "cell_type": "code",
   "execution_count": null,
   "id": "2313368f",
   "metadata": {},
   "outputs": [],
   "source": []
  }
 ],
 "metadata": {
  "kernelspec": {
   "display_name": "Python 3 (ipykernel)",
   "language": "python",
   "name": "python3"
  },
  "language_info": {
   "codemirror_mode": {
    "name": "ipython",
    "version": 3
   },
   "file_extension": ".py",
   "mimetype": "text/x-python",
   "name": "python",
   "nbconvert_exporter": "python",
   "pygments_lexer": "ipython3",
   "version": "3.7.9"
  }
 },
 "nbformat": 4,
 "nbformat_minor": 5
}
