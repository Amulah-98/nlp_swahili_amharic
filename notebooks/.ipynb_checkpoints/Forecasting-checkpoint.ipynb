{
 "cells": [
  {
   "cell_type": "markdown",
   "id": "a7140172",
   "metadata": {},
   "source": [
    "# Forecasting\n",
    "Prediction of sales is the central task in this challenge. you want to predict daily sales in various stores up to 6 weeks ahead of time. This will help the company plan ahead of time. \n",
    "\n",
    "The following steps outline the various sub tasks needed to effectively do this: "
   ]
  },
  {
   "cell_type": "code",
   "execution_count": null,
   "id": "42be6b13",
   "metadata": {},
   "outputs": [],
   "source": [
    "# importing of libraries\n",
    "import numpy as np\n",
    "import pandas as pd\n",
    "import warnings\n",
    "import matplotlib.pyplot as plt\n",
    "from matplotlib.gridspec import GridSpec\n",
    "from matplotlib import ticker\n",
    "from statsmodels.tsa.stattools import adfuller, acf, pacf\n",
    "from sklearn.preprocessing import MinMaxScaler\n",
    "import tensorflow as tf\n",
    "from tensorflow.keras.models import Sequential\n",
    "from tensorflow.keras.layers import Dense\n",
    "from tensorflow.keras.layers import LSTM\n",
    "from pandas.plotting import scatter_matrix\n",
    "import seaborn as sns\n",
    "import os,sys\n",
    "sys.path.append(os.path.abspath(os.path.join('../scripts')))\n",
    "from timeseries import TimeSeries\n",
    "sns.set()\n"
   ]
  },
  {
   "cell_type": "markdown",
   "id": "664cbd1b",
   "metadata": {},
   "source": [
    "2.2 Building models with sklearn pipelines\n",
    "At this point, all our features are numeric. Since our problem is a regression problem, you can narrow down the list of algorithms you can use for modelling. \n",
    "\n",
    "A reasonable starting point will be to use any of the tree based algorithms. Random forests Regressor will make for a good start. \n",
    "\n",
    "Also, for the sake of this challenge, work with sklearn pipelines. This makes modeling modular and more reproducible. Working with pipelines will also significantly reduce your workload when you are moving your setup into files for the next part of the challenge. Extra marks will be awarded for doing this.\n"
   ]
  },
  {
   "cell_type": "code",
   "execution_count": null,
   "id": "ef16c949",
   "metadata": {},
   "outputs": [],
   "source": [
    "train = pd.read_csv(\"../data/cleaned_train.csv\")\n",
    "test = pd.read_csv(\"../data/cleaned_test.csv\")"
   ]
  },
  {
   "cell_type": "markdown",
   "id": "e73a1ff8",
   "metadata": {},
   "source": [
    "Unit Root Tests helps us determine the stationarity of our data"
   ]
  },
  {
   "cell_type": "code",
   "execution_count": null,
   "id": "7b4a867a",
   "metadata": {},
   "outputs": [],
   "source": [
    "timeseries = TimeSeries(train)\n",
    "timeseries.perform_adfuller('Sales')"
   ]
  },
  {
   "cell_type": "code",
   "execution_count": null,
   "id": "d9155107",
   "metadata": {},
   "outputs": [],
   "source": []
  }
 ],
 "metadata": {
  "kernelspec": {
   "display_name": "Python 3 (ipykernel)",
   "language": "python",
   "name": "python3"
  },
  "language_info": {
   "codemirror_mode": {
    "name": "ipython",
    "version": 3
   },
   "file_extension": ".py",
   "mimetype": "text/x-python",
   "name": "python",
   "nbconvert_exporter": "python",
   "pygments_lexer": "ipython3",
   "version": "3.10.4"
  }
 },
 "nbformat": 4,
 "nbformat_minor": 5
}
