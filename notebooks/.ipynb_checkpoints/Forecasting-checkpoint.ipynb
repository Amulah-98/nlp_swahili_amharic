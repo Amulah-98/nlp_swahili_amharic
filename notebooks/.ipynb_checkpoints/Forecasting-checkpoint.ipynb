{
 "cells": [
  {
   "cell_type": "markdown",
   "id": "a7140172",
   "metadata": {},
   "source": [
    "# Forecasting\n",
    "Prediction of sales is the central task in this challenge. you want to predict daily sales in various stores up to 6 weeks ahead of time. This will help the company plan ahead of time. \n",
    "\n",
    "The following steps outline the various sub tasks needed to effectively do this: "
   ]
  },
  {
   "cell_type": "code",
   "execution_count": 1,
   "id": "42be6b13",
   "metadata": {},
   "outputs": [
    {
     "name": "stderr",
     "output_type": "stream",
     "text": [
      "2022-05-25 10:56:45.109228: W tensorflow/stream_executor/platform/default/dso_loader.cc:64] Could not load dynamic library 'libcudart.so.11.0'; dlerror: libcudart.so.11.0: cannot open shared object file: No such file or directory\n",
      "2022-05-25 10:56:45.109267: I tensorflow/stream_executor/cuda/cudart_stub.cc:29] Ignore above cudart dlerror if you do not have a GPU set up on your machine.\n"
     ]
    },
    {
     "name": "stdout",
     "output_type": "stream",
     "text": [
      "/home/martin/Documents/pharm_sales/notebooks\n"
     ]
    }
   ],
   "source": [
    "# importing of libraries\n",
    "import numpy as np\n",
    "import pandas as pd\n",
    "import warnings\n",
    "import matplotlib.pyplot as plt\n",
    "from matplotlib.gridspec import GridSpec\n",
    "from matplotlib import ticker\n",
    "from statsmodels.tsa.stattools import adfuller, acf, pacf\n",
    "from sklearn.preprocessing import MinMaxScaler\n",
    "from sklearn.ensemble import RandomForestRegressor\n",
    "from sklearn.linear_model import LogisticRegression\n",
    "import tensorflow as tf\n",
    "from tensorflow.keras.models import Sequential\n",
    "from tensorflow.keras.layers import Dense\n",
    "from tensorflow.keras.layers import LSTM\n",
    "from pandas.plotting import scatter_matrix\n",
    "from sklearn.model_selection import cross_val_score\n",
    "import seaborn as sns\n",
    "import os,sys\n",
    "sys.path.append(os.path.abspath(os.path.join('../scripts')))\n",
    "from timeseries import TimeSeries\n",
    "from modeling import Modeler\n",
    "sns.set()\n"
   ]
  },
  {
   "cell_type": "markdown",
   "id": "664cbd1b",
   "metadata": {},
   "source": [
    "2.2 Building models with sklearn pipelines\n",
    "At this point, all our features are numeric. Since our problem is a regression problem, you can narrow down the list of algorithms you can use for modelling. \n",
    "\n",
    "A reasonable starting point will be to use any of the tree based algorithms. Random forests Regressor will make for a good start. \n",
    "\n",
    "Also, for the sake of this challenge, work with sklearn pipelines. This makes modeling modular and more reproducible. Working with pipelines will also significantly reduce your workload when you are moving your setup into files for the next part of the challenge. Extra marks will be awarded for doing this.\n"
   ]
  },
  {
   "cell_type": "code",
   "execution_count": 2,
   "id": "ef16c949",
   "metadata": {},
   "outputs": [],
   "source": [
    "train_ = pd.read_csv(\"../data/cleaned_train.csv\")\n",
    "test = pd.read_csv(\"../data/cleaned_test.csv\")\n",
    "train_.drop(['DayOfWeek','DayOfYear','WeekOfYear',\n",
    "            'Customers',\"Month\",\"Day\"],axis=1,inplace=True)\n",
    "test.drop([\"Id\",'DayOfWeek','DayOfYear','WeekOfYear'\n",
    "           ,\"Month\",\"Day\"],axis=1,inplace=True)\n",
    "train=train_.loc[:,train_.columns!='Sales']\n",
    "train['Sales']=train_['Sales']\n",
    "train.sort_values([\"Year\"], ascending=False ,ignore_index=True, inplace=True)\n",
    "test.sort_values([\"Year\"], ascending=False ,ignore_index=True, inplace=True)\n",
    "train.index.name = 'Year'\n",
    "train = train.set_index('Year')\n",
    "test.index.name = 'Year'\n",
    "test = test.set_index('Year')\n"
   ]
  },
  {
   "cell_type": "code",
   "execution_count": 6,
   "id": "c6794369",
   "metadata": {},
   "outputs": [
    {
     "data": {
      "text/plain": [
       "RangeIndex(start=0, stop=324275, step=1)"
      ]
     },
     "execution_count": 6,
     "metadata": {},
     "output_type": "execute_result"
    }
   ],
   "source": [
    "train.index"
   ]
  },
  {
   "cell_type": "code",
   "execution_count": 4,
   "id": "8d0eb92a",
   "metadata": {},
   "outputs": [],
   "source": [
    "inputs = train[:1]"
   ]
  },
  {
   "cell_type": "markdown",
   "id": "32543974",
   "metadata": {},
   "source": [
    "# Modeling with RandomForest"
   ]
  },
  {
   "cell_type": "code",
   "execution_count": 3,
   "id": "5b6f5b1c",
   "metadata": {},
   "outputs": [],
   "source": [
    "analyzer = Modeler(train)"
   ]
  },
  {
   "cell_type": "code",
   "execution_count": 12,
   "id": "1a8ded2e",
   "metadata": {},
   "outputs": [
    {
     "name": "stderr",
     "output_type": "stream",
     "text": [
      "/home/martin/Documents/pharm_sales/env/lib/python3.10/site-packages/sklearn/base.py:450: UserWarning: X does not have valid feature names, but RandomForestRegressor was fitted with feature names\n",
      "  warnings.warn(\n"
     ]
    }
   ],
   "source": [
    "forecast = analyzer.regr_models(model_=RandomForestRegressor,column='Sales',inputs=inputs,\n",
    "                                connect=True,n_estimators=10)"
   ]
  },
  {
   "cell_type": "code",
   "execution_count": 13,
   "id": "d2569403",
   "metadata": {},
   "outputs": [],
   "source": [
    "scores,forecast = forecast"
   ]
  },
  {
   "cell_type": "code",
   "execution_count": 14,
   "id": "5fd1095b",
   "metadata": {},
   "outputs": [
    {
     "data": {
      "text/plain": [
       "0.006357809049529761"
      ]
     },
     "execution_count": 14,
     "metadata": {},
     "output_type": "execute_result"
    }
   ],
   "source": [
    "scores"
   ]
  },
  {
   "cell_type": "markdown",
   "id": "1d66957c",
   "metadata": {},
   "source": [
    "# Modeling with LSTM"
   ]
  },
  {
   "cell_type": "markdown",
   "id": "e73a1ff8",
   "metadata": {},
   "source": [
    "Unit Root Tests helps us determine the stationarity of our data"
   ]
  },
  {
   "cell_type": "code",
   "execution_count": 3,
   "id": "7b4a867a",
   "metadata": {},
   "outputs": [
    {
     "name": "stderr",
     "output_type": "stream",
     "text": [
      "2022-05-25 04:58:36,870:logger:Initialized the time series class\n"
     ]
    }
   ],
   "source": [
    "timeseries = TimeSeries(train)\n",
    "# timeseries.perform_adfuller('Sales')"
   ]
  },
  {
   "cell_type": "markdown",
   "id": "3c8af4bf",
   "metadata": {},
   "source": [
    "Remove stationarity from the data"
   ]
  },
  {
   "cell_type": "code",
   "execution_count": 10,
   "id": "91486733",
   "metadata": {},
   "outputs": [],
   "source": [
    "train['Sales'] = timeseries.remove_stationarity(train.Sales.values)"
   ]
  },
  {
   "cell_type": "code",
   "execution_count": 9,
   "id": "30404278",
   "metadata": {},
   "outputs": [],
   "source": [
    "SIZE = len(train.Sales)\n",
    "WINDOW_SIZE = 489\n",
    "BATCH_SIZE= SIZE-WINDOW_SIZE*2\n",
    "EPOCHS = 5\n",
    "ID = test['Id']"
   ]
  },
  {
   "cell_type": "code",
   "execution_count": 10,
   "id": "867cd519",
   "metadata": {},
   "outputs": [
    {
     "name": "stderr",
     "output_type": "stream",
     "text": [
      "2022-05-25 04:17:45,860:logger:Successfully windowed the dataset\n",
      "2022-05-25 04:17:45,928:logger:Successfully windowed the dataset\n"
     ]
    }
   ],
   "source": [
    "DatasetTrain = timeseries.split_dataset(train.Sales[0:BATCH_SIZE])\n",
    "DatasetVal = timeseries.split_dataset(train.Sales[BATCH_SIZE])"
   ]
  },
  {
   "cell_type": "code",
   "execution_count": 11,
   "id": "cc3ebc60",
   "metadata": {},
   "outputs": [
    {
     "name": "stderr",
     "output_type": "stream",
     "text": [
      "2022-05-25 04:17:47,740:logger:Successfully modeled the neural network\n"
     ]
    },
    {
     "name": "stdout",
     "output_type": "stream",
     "text": [
      "Epoch 1/10\n",
      "1617/1617 [==============================] - 113s 67ms/step - loss: 0.0041\n",
      "Epoch 2/10\n",
      "1617/1617 [==============================] - 113s 70ms/step - loss: 0.0037\n",
      "Epoch 3/10\n",
      "1617/1617 [==============================] - 123s 76ms/step - loss: 0.0037\n",
      "Epoch 4/10\n",
      "1617/1617 [==============================] - 124s 76ms/step - loss: 0.0037\n",
      "Epoch 5/10\n",
      "1617/1617 [==============================] - 109s 68ms/step - loss: 0.0037\n",
      "Epoch 6/10\n",
      "1617/1617 [==============================] - 112s 69ms/step - loss: 0.0037\n",
      "Epoch 7/10\n",
      "1617/1617 [==============================] - 108s 67ms/step - loss: 0.0037\n",
      "Epoch 8/10\n",
      "1617/1617 [==============================] - 108s 67ms/step - loss: 0.0037\n",
      "Epoch 9/10\n",
      "1617/1617 [==============================] - 101s 63ms/step - loss: 0.0037\n",
      "Epoch 10/10\n",
      "1617/1617 [==============================] - 104s 65ms/step - loss: 0.0037\n"
     ]
    }
   ],
   "source": [
    "model = timeseries.model()\n",
    "results = model.fit(DatasetTrain, epochs=EPOCHS, validation_data=DatasetVal, verbose=1)"
   ]
  },
  {
   "cell_type": "code",
   "execution_count": null,
   "id": "c6f303af",
   "metadata": {},
   "outputs": [
    {
     "name": "stderr",
     "output_type": "stream",
     "text": [
      "2022-05-25 04:42:53.952693: W tensorflow/core/framework/cpu_allocator_impl.cc:82] Allocation of 1264737864 exceeds 10% of free system memory.\n"
     ]
    }
   ],
   "source": [
    "forecast = timeseries.model_forecast(model, train.Sales.values[:, np.newaxis], WINDOW_SIZE,SIZE=BATCH_SIZE)\n",
    "results = forecast[BATCH_SIZE-WINDOW_SIZE:-1]\n",
    "results_ = scaler.inverse_transform(results.reshape(-1,1))\n",
    "XValid_ = scaler.inverse_transform(XValid.reshape(-1,1))"
   ]
  },
  {
   "cell_type": "code",
   "execution_count": null,
   "id": "17a1c5ac",
   "metadata": {},
   "outputs": [],
   "source": [
    "view_forecast_= timeseries.view_forecast(DateValid,XValid_,results_,results,WINDOW_SIZE=48)"
   ]
  },
  {
   "cell_type": "markdown",
   "id": "8857288b",
   "metadata": {},
   "source": [
    "# Loss function\n",
    "\n",
    "Loss functions indicate how well our model is performing. This means that the loss functions affect the overall output of sales prediction.\n",
    "Different loss functions have different use cases.\n",
    "\n",
    "In this challenge, you’re allowed to choose your own loss function. you need to defend the loss function you choose for this challenge. Feel free to be creative with your choice. You might want to use loss functions that are easily interpretable."
   ]
  },
  {
   "cell_type": "code",
   "execution_count": 4,
   "id": "ba9b0431",
   "metadata": {},
   "outputs": [
    {
     "data": {
      "text/plain": [
       "-0.45870789761223196"
      ]
     },
     "execution_count": 4,
     "metadata": {},
     "output_type": "execute_result"
    }
   ],
   "source": [
    "analyzer.log_loss(model = RandomForestRegressor,column='Sales',custom=True)"
   ]
  },
  {
   "cell_type": "code",
   "execution_count": null,
   "id": "a91d45a6",
   "metadata": {},
   "outputs": [],
   "source": []
  }
 ],
 "metadata": {
  "kernelspec": {
   "display_name": "Python 3 (ipykernel)",
   "language": "python",
   "name": "python3"
  },
  "language_info": {
   "codemirror_mode": {
    "name": "ipython",
    "version": 3
   },
   "file_extension": ".py",
   "mimetype": "text/x-python",
   "name": "python",
   "nbconvert_exporter": "python",
   "pygments_lexer": "ipython3",
   "version": "3.10.4"
  }
 },
 "nbformat": 4,
 "nbformat_minor": 5
}
