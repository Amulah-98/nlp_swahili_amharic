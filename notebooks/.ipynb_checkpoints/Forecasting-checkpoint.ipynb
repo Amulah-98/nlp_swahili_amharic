{
 "cells": [
  {
   "cell_type": "markdown",
   "id": "a7140172",
   "metadata": {},
   "source": [
    "# Forecasting\n",
    "Prediction of sales is the central task in this challenge. you want to predict daily sales in various stores up to 6 weeks ahead of time. This will help the company plan ahead of time. \n",
    "\n",
    "The following steps outline the various sub tasks needed to effectively do this: "
   ]
  },
  {
   "cell_type": "code",
   "execution_count": 5,
   "id": "014e2a3d",
   "metadata": {},
   "outputs": [
    {
     "name": "stdout",
     "output_type": "stream",
     "text": [
      "Collecting lightgbm\n",
      "  Downloading lightgbm-3.3.2-py3-none-manylinux1_x86_64.whl (2.0 MB)\n",
      "\u001b[2K     \u001b[38;2;114;156;31m━━━━━━━━━━━━━━━━━━━━━━━━━━━━━━━━━━━━━━━━\u001b[0m \u001b[32m2.0/2.0 MB\u001b[0m \u001b[31m39.7 kB/s\u001b[0m eta \u001b[36m0:00:00\u001b[0mm eta \u001b[36m0:00:01\u001b[0m[36m0:00:02\u001b[0mm\n",
      "\u001b[?25hRequirement already satisfied: scipy in /home/martin/Documents/pharm_sales/env/lib/python3.10/site-packages (from lightgbm) (1.8.1)\n",
      "Requirement already satisfied: scikit-learn!=0.22.0 in /home/martin/Documents/pharm_sales/env/lib/python3.10/site-packages (from lightgbm) (1.1.1)\n",
      "Requirement already satisfied: wheel in /home/martin/Documents/pharm_sales/env/lib/python3.10/site-packages (from lightgbm) (0.37.1)\n",
      "Requirement already satisfied: numpy in /home/martin/Documents/pharm_sales/env/lib/python3.10/site-packages (from lightgbm) (1.22.4)\n",
      "Requirement already satisfied: joblib>=1.0.0 in /home/martin/Documents/pharm_sales/env/lib/python3.10/site-packages (from scikit-learn!=0.22.0->lightgbm) (1.1.0)\n",
      "Requirement already satisfied: threadpoolctl>=2.0.0 in /home/martin/Documents/pharm_sales/env/lib/python3.10/site-packages (from scikit-learn!=0.22.0->lightgbm) (3.1.0)\n",
      "Installing collected packages: lightgbm\n",
      "Successfully installed lightgbm-3.3.2\n"
     ]
    }
   ],
   "source": [
    "!pip install lightgbm"
   ]
  },
  {
   "cell_type": "code",
   "execution_count": 1,
   "id": "42be6b13",
   "metadata": {},
   "outputs": [
    {
     "name": "stderr",
     "output_type": "stream",
     "text": [
      "2022-05-28 22:21:50.995396: W tensorflow/stream_executor/platform/default/dso_loader.cc:64] Could not load dynamic library 'libcudart.so.11.0'; dlerror: libcudart.so.11.0: cannot open shared object file: No such file or directory\n",
      "2022-05-28 22:21:50.995438: I tensorflow/stream_executor/cuda/cudart_stub.cc:29] Ignore above cudart dlerror if you do not have a GPU set up on your machine.\n"
     ]
    },
    {
     "name": "stdout",
     "output_type": "stream",
     "text": [
      "/home/martin/Documents/pharm_sales/notebooks\n",
      "The Zen of Python, by Tim Peters\n",
      "\n",
      "Beautiful is better than ugly.\n",
      "Explicit is better than implicit.\n",
      "Simple is better than complex.\n",
      "Complex is better than complicated.\n",
      "Flat is better than nested.\n",
      "Sparse is better than dense.\n",
      "Readability counts.\n",
      "Special cases aren't special enough to break the rules.\n",
      "Although practicality beats purity.\n",
      "Errors should never pass silently.\n",
      "Unless explicitly silenced.\n",
      "In the face of ambiguity, refuse the temptation to guess.\n",
      "There should be one-- and preferably only one --obvious way to do it.\n",
      "Although that way may not be obvious at first unless you're Dutch.\n",
      "Now is better than never.\n",
      "Although never is often better than *right* now.\n",
      "If the implementation is hard to explain, it's a bad idea.\n",
      "If the implementation is easy to explain, it may be a good idea.\n",
      "Namespaces are one honking great idea -- let's do more of those!\n"
     ]
    }
   ],
   "source": [
    "# importing of libraries\n",
    "import numpy as np\n",
    "import pandas as pd\n",
    "import warnings\n",
    "import matplotlib.pyplot as plt\n",
    "from matplotlib.gridspec import GridSpec\n",
    "from matplotlib import ticker\n",
    "from statsmodels.tsa.stattools import adfuller, acf, pacf\n",
    "from sklearn.preprocessing import MinMaxScaler\n",
    "from sklearn.ensemble import RandomForestRegressor\n",
    "from sklearn.linear_model import LogisticRegression\n",
    "import tensorflow as tf\n",
    "from tensorflow.keras.models import Sequential\n",
    "from tensorflow.keras.layers import Dense\n",
    "from tensorflow.keras.layers import LSTM\n",
    "from pandas.plotting import scatter_matrix\n",
    "from sklearn.model_selection import cross_val_score\n",
    "import seaborn as sns\n",
    "import os,sys\n",
    "from lightgbm import LGBMRegressor\n",
    "sys.path.append(os.path.abspath(os.path.join('../scripts')))\n",
    "from timeseries import TimeSeries\n",
    "from modeling import Modeler\n",
    "sns.set()\n"
   ]
  },
  {
   "cell_type": "markdown",
   "id": "664cbd1b",
   "metadata": {},
   "source": [
    "2.2 Building models with sklearn pipelines\n",
    "At this point, all our features are numeric. Since our problem is a regression problem, you can narrow down the list of algorithms you can use for modelling. \n",
    "\n",
    "A reasonable starting point will be to use any of the tree based algorithms. Random forests Regressor will make for a good start. \n",
    "\n",
    "Also, for the sake of this challenge, work with sklearn pipelines. This makes modeling modular and more reproducible. Working with pipelines will also significantly reduce your workload when you are moving your setup into files for the next part of the challenge. Extra marks will be awarded for doing this.\n"
   ]
  },
  {
   "cell_type": "code",
   "execution_count": 2,
   "id": "ef16c949",
   "metadata": {},
   "outputs": [],
   "source": [
    "train_ = pd.read_csv(\"../data/cleaned_train.csv\")\n",
    "test = pd.read_csv(\"../data/cleaned_test.csv\")\n",
    "train=train_.loc[:,train_.columns!='Sales']\n",
    "train['Sales']=train_['Sales']\n",
    "train.set_index('Date',inplace=True)"
   ]
  },
  {
   "cell_type": "code",
   "execution_count": 6,
   "id": "c6794369",
   "metadata": {},
   "outputs": [
    {
     "data": {
      "text/plain": [
       "RangeIndex(start=0, stop=324275, step=1)"
      ]
     },
     "execution_count": 6,
     "metadata": {},
     "output_type": "execute_result"
    }
   ],
   "source": [
    "train.index"
   ]
  },
  {
   "cell_type": "code",
   "execution_count": 4,
   "id": "4907949c",
   "metadata": {},
   "outputs": [],
   "source": [
    "inputs = train[:1]"
   ]
  },
  {
   "cell_type": "markdown",
   "id": "32543974",
   "metadata": {},
   "source": [
    "# Modeling with RandomForest"
   ]
  },
  {
   "cell_type": "code",
   "execution_count": 4,
   "id": "5b6f5b1c",
   "metadata": {},
   "outputs": [],
   "source": [
    "analyzer = Modeler(train)"
   ]
  },
  {
   "cell_type": "code",
   "execution_count": 12,
   "id": "1a8ded2e",
   "metadata": {},
   "outputs": [
    {
     "name": "stderr",
     "output_type": "stream",
     "text": [
      "/home/martin/Documents/pharm_sales/env/lib/python3.10/site-packages/sklearn/base.py:450: UserWarning: X does not have valid feature names, but RandomForestRegressor was fitted with feature names\n",
      "  warnings.warn(\n"
     ]
    }
   ],
   "source": [
    "forecast = analyzer.regr_models(model_=RandomForestRegressor,column='Sales',inputs=inputs,\n",
    "                                connect=True,n_estimators=10)"
   ]
  },
  {
   "cell_type": "code",
   "execution_count": 13,
   "id": "d2569403",
   "metadata": {},
   "outputs": [],
   "source": [
    "scores,forecast = forecast"
   ]
  },
  {
   "cell_type": "code",
   "execution_count": 14,
   "id": "5fd1095b",
   "metadata": {},
   "outputs": [
    {
     "data": {
      "text/plain": [
       "0.006357809049529761"
      ]
     },
     "execution_count": 14,
     "metadata": {},
     "output_type": "execute_result"
    }
   ],
   "source": [
    "scores"
   ]
  },
  {
   "cell_type": "code",
   "execution_count": 7,
   "id": "2a48d9bb",
   "metadata": {},
   "outputs": [
    {
     "name": "stderr",
     "output_type": "stream",
     "text": [
      "2022/05/28 22:14:32 WARNING mlflow.utils.autologging_utils: You are using an unsupported version of sklearn. If you encounter errors during autologging, try upgrading / downgrading sklearn to a supported version, or try upgrading MLflow.\n",
      "2022-05-28 22:14:54,929:scripts.logger:fitted a LGBMRegressor(n_estimators=10) model\n",
      "2022-05-28 22:14:54,974:scripts.logger:predicting for a group instance\n"
     ]
    }
   ],
   "source": [
    "forecast = analyzer.regr_models(model_=LGBMRegressor,column='Sales',\n",
    "                                connect=False,serialize=False,n_estimators=10)"
   ]
  },
  {
   "cell_type": "code",
   "execution_count": 8,
   "id": "c1513299",
   "metadata": {},
   "outputs": [
    {
     "data": {
      "text/plain": [
       "1199.9361030914247"
      ]
     },
     "execution_count": 8,
     "metadata": {},
     "output_type": "execute_result"
    }
   ],
   "source": [
    "scores,forecast = forecast\n",
    "scores"
   ]
  },
  {
   "cell_type": "markdown",
   "id": "573c204d",
   "metadata": {},
   "source": [
    "From the random forest regressor we notice that we have a mean absolute error of 0.00636, this is not a bad standard but we can try other models to see there performance and how well this works."
   ]
  },
  {
   "cell_type": "markdown",
   "id": "7349209c",
   "metadata": {},
   "source": [
    "# Loss function\n",
    "\n",
    "Loss functions indicate how well our model is performing. This means that the loss functions affect the overall output of sales prediction.\n",
    "Different loss functions have different use cases.\n",
    "\n",
    "In this challenge, you’re allowed to choose your own loss function. you need to defend the loss function you choose for this challenge. Feel free to be creative with your choice. You might want to use loss functions that are easily interpretable."
   ]
  },
  {
   "cell_type": "code",
   "execution_count": 2,
   "id": "5dd88ee5",
   "metadata": {},
   "outputs": [
    {
     "data": {
      "text/plain": [
       "0.458"
      ]
     },
     "execution_count": 2,
     "metadata": {},
     "output_type": "execute_result"
    }
   ],
   "source": [
    "abs(analyzer.log_loss(model = RandomForestRegressor,column='Sales',custom=True))"
   ]
  },
  {
   "cell_type": "code",
   "execution_count": 3,
   "id": "e1d9508f",
   "metadata": {},
   "outputs": [
    {
     "data": {
      "text/plain": [
       "0.543"
      ]
     },
     "execution_count": 3,
     "metadata": {},
     "output_type": "execute_result"
    }
   ],
   "source": [
    "abs(analyzer.log_loss(model = LGBMRegressor,column='Sales',custom=True))"
   ]
  },
  {
   "cell_type": "markdown",
   "id": "da38eda2",
   "metadata": {},
   "source": [
    "So using the log loss function we know that the closer you are to zero the better your log loss function and therefore for this challenge the best log loss is for the RandomForest Regressor because it was the one with the closest value to zeror of 0.458"
   ]
  },
  {
   "cell_type": "markdown",
   "id": "9cf14739",
   "metadata": {},
   "source": [
    "# Feature Importance \n",
    "Explore the feature importance from our modelling. Creatively deduce a way to estimate the confidence interval of your predictions. Extra marks will be given for this"
   ]
  },
  {
   "cell_type": "code",
   "execution_count": 5,
   "id": "87bf052a",
   "metadata": {},
   "outputs": [
    {
     "data": {
      "image/png": "[encoded data removed]",
      "text/plain": [
       "<Figure size 432x288 with 1 Axes>"
      ]
     },
     "metadata": {
      "needs_background": "light"
     },
     "output_type": "display_data"
    },
    {
     "data": {
      "text/plain": [
       "Assortment                   0.000444\n",
       "AvgCustomers                 0.001173\n",
       "AvgSales                     0.006662\n",
       "CompetitionDistance          0.001599\n",
       "CompetitionOpenSinceMonth    0.001349\n",
       "CompetitionOpenSinceYear     0.000906\n",
       "DailyCustomers               0.001186\n",
       "DailySales                   0.282274\n",
       "Open                         0.586433\n",
       "Promo                        0.111027\n",
       "Promo2                       0.000000\n",
       "Promo2SinceWeek              0.001232\n",
       "Promo2SinceYear              0.000871\n",
       "PromoInterval                0.000316\n",
       "SchoolHoliday                0.001995\n",
       "StateHoliday                 0.000166\n",
       "Store                        0.001556\n",
       "StoreType                    0.000811\n",
       "dtype: float64"
      ]
     },
     "execution_count": 5,
     "metadata": {},
     "output_type": "execute_result"
    }
   ],
   "source": [
    "analyzer.feature_importance(model_=RandomForestRegressor,column='Sales')"
   ]
  },
  {
   "cell_type": "markdown",
   "id": "e7f27f16",
   "metadata": {},
   "source": [
    "For feature importance we notice that the Open variable is the most important feature with a probability of 0.586, and then it is followed by DailySales with a 0.2822 and then promo with a 0.111, we also notice that there are some variables that do not have any effect like promo2 and in our second run we shall remove it and see how our results shall behave, if it is good then we shall realize the issue is with our function"
   ]
  },
  {
   "cell_type": "markdown",
   "id": "3ee3eae8",
   "metadata": {},
   "source": [
    "# Serialization\n",
    "\n",
    "To serve the models you built above, you need to serialize them. Save the model with the timestamp(eg. 10-08-2020-16-32-31-00.pkl). This is necessary so that you can track predictions from various models.\n",
    "\n",
    "Assume that you’ll make daily predictions. This means you’ll have various models for predictions hence the reason for serializing the models in the format above."
   ]
  },
  {
   "cell_type": "code",
   "execution_count": 4,
   "id": "735c16bb",
   "metadata": {},
   "outputs": [
    {
     "name": "stderr",
     "output_type": "stream",
     "text": [
      "2022-05-25 11:36:07,382:logger:Successfully saved the model\n"
     ]
    }
   ],
   "source": [
    "forecast = analyzer.regr_models(model_=RandomForestRegressor,column='Sales',\n",
    "                                connect=False,serialize=True,n_estimators=10)"
   ]
  },
  {
   "cell_type": "markdown",
   "id": "9cf4d6ba",
   "metadata": {},
   "source": [
    "Serializing or saving the data, is done in the function regr_models, and it is good that we do this because also in the case of an api, this shall come in really handy"
   ]
  }
 ],
 "metadata": {
  "kernelspec": {
   "display_name": "Python 3 (ipykernel)",
   "language": "python",
   "name": "python3"
  },
  "language_info": {
   "codemirror_mode": {
    "name": "ipython",
    "version": 3
   },
   "file_extension": ".py",
   "mimetype": "text/x-python",
   "name": "python",
   "nbconvert_exporter": "python",
   "pygments_lexer": "ipython3",
   "version": "3.10.4"
  }
 },
 "nbformat": 4,
 "nbformat_minor": 5
}
