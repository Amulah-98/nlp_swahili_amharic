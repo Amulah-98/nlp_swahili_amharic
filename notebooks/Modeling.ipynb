{
 "cells": [
  {
   "cell_type": "code",
   "execution_count": 1,
   "id": "4b7ce640",
   "metadata": {},
   "outputs": [],
   "source": [
    "import pandas as pd\n",
    "import os,sys\n",
    "sys.path.append(os.path.abspath(os.path.join('..')))\n",
    "from xgboost import XGBClassifier\n",
    "from scripts.modeling import Modeler\n",
    "from sklearn.tree import DecisionTreeClassifier\n",
    "from sklearn.ensemble import RandomForestClassifier\n",
    "from sklearn.neighbors import KNeighborsClassifier\n",
    "from sklearn.linear_model import LogisticRegression\n",
    "from sklearn.naive_bayes import BernoulliNB, GaussianNB"
   ]
  },
  {
   "cell_type": "code",
   "execution_count": 2,
   "id": "aee12aa1",
   "metadata": {},
   "outputs": [],
   "source": [
    "df = pd.read_csv(\"../data/AdSmartABdata.csv\")\n",
    "analyzer = Modeler(df)\n",
    "numeric_pipeline = analyzer.generate_pipeline(\"numeric\")\n",
    "numeric_transformation =  analyzer.generate_transformation(numeric_pipeline,\"numeric\",\"number\")\n",
    "numerical_features = analyzer.store_features(\"numeric\",\"number\")\n",
    "categorical_features = analyzer.store_features(\"categorical\",\"number\")"
   ]
  },
  {
   "cell_type": "code",
   "execution_count": 3,
   "id": "3fbf93bf",
   "metadata": {},
   "outputs": [
    {
     "data": {
      "text/plain": [
       "(array([[742,  10],\n",
       "        [ 55,   1]], dtype=int64),\n",
       " 0.9195544554455446)"
      ]
     },
     "execution_count": 3,
     "metadata": {},
     "output_type": "execute_result"
    }
   ],
   "source": [
    "analyzer.model(RandomForestClassifier,n_estimators=100)"
   ]
  },
  {
   "cell_type": "code",
   "execution_count": 4,
   "id": "807be904",
   "metadata": {},
   "outputs": [
    {
     "data": {
      "text/plain": [
       "(array([[681,  71],\n",
       "        [ 54,   2]], dtype=int64),\n",
       " 0.8452970297029703)"
      ]
     },
     "execution_count": 4,
     "metadata": {},
     "output_type": "execute_result"
    }
   ],
   "source": [
    "analyzer.model( DecisionTreeClassifier)"
   ]
  },
  {
   "cell_type": "code",
   "execution_count": 5,
   "id": "26179de0",
   "metadata": {},
   "outputs": [
    {
     "name": "stderr",
     "output_type": "stream",
     "text": [
      "c:\\users\\user\\appdata\\local\\programs\\python\\python37\\lib\\site-packages\\sklearn\\linear_model\\_logistic.py:818: ConvergenceWarning: lbfgs failed to converge (status=1):\n",
      "STOP: TOTAL NO. of ITERATIONS REACHED LIMIT.\n",
      "\n",
      "Increase the number of iterations (max_iter) or scale the data as shown in:\n",
      "    https://scikit-learn.org/stable/modules/preprocessing.html\n",
      "Please also refer to the documentation for alternative solver options:\n",
      "    https://scikit-learn.org/stable/modules/linear_model.html#logistic-regression\n",
      "  extra_warning_msg=_LOGISTIC_SOLVER_CONVERGENCE_MSG,\n"
     ]
    },
    {
     "data": {
      "text/plain": [
       "(array([[752,   0],\n",
       "        [ 56,   0]], dtype=int64),\n",
       " 0.9306930693069307)"
      ]
     },
     "execution_count": 5,
     "metadata": {},
     "output_type": "execute_result"
    }
   ],
   "source": [
    "analyzer.model(LogisticRegression)"
   ]
  },
  {
   "cell_type": "code",
   "execution_count": 6,
   "id": "4795ff1e",
   "metadata": {},
   "outputs": [
    {
     "data": {
      "text/plain": [
       "(array([[752,   0],\n",
       "        [ 56,   0]], dtype=int64),\n",
       " 0.9306930693069307)"
      ]
     },
     "execution_count": 6,
     "metadata": {},
     "output_type": "execute_result"
    }
   ],
   "source": [
    "analyzer.model(BernoulliNB)"
   ]
  },
  {
   "cell_type": "code",
   "execution_count": 7,
   "id": "0f5dff54",
   "metadata": {},
   "outputs": [
    {
     "data": {
      "text/plain": [
       "(array([[602, 150],\n",
       "        [ 42,  14]], dtype=int64),\n",
       " 0.7623762376237624)"
      ]
     },
     "execution_count": 7,
     "metadata": {},
     "output_type": "execute_result"
    }
   ],
   "source": [
    "analyzer.model(GaussianNB)"
   ]
  },
  {
   "cell_type": "code",
   "execution_count": 8,
   "id": "5885106a",
   "metadata": {},
   "outputs": [
    {
     "data": {
      "text/plain": [
       "(array([[736,  16],\n",
       "        [ 55,   1]], dtype=int64),\n",
       " 0.9121287128712872)"
      ]
     },
     "execution_count": 8,
     "metadata": {},
     "output_type": "execute_result"
    }
   ],
   "source": [
    "analyzer.model(KNeighborsClassifier,n_neighbors=3, metric=\"minkowski\")"
   ]
  },
  {
   "cell_type": "code",
   "execution_count": 9,
   "id": "03e20dff",
   "metadata": {},
   "outputs": [
    {
     "data": {
      "text/plain": [
       "(array([[750,   2],\n",
       "        [ 55,   1]], dtype=int64),\n",
       " 0.9294554455445545)"
      ]
     },
     "execution_count": 9,
     "metadata": {},
     "output_type": "execute_result"
    }
   ],
   "source": [
    "analyzer.model(XGBClassifier,n_estimators=1000, learning_rate=0.05)"
   ]
  },
  {
   "cell_type": "code",
   "execution_count": 10,
   "id": "8fc679f2",
   "metadata": {},
   "outputs": [
    {
     "data": {
      "image/png": "[encoded data removed]",
      "text/plain": [
       "<Figure size 432x288 with 1 Axes>"
      ]
     },
     "metadata": {
      "needs_background": "light"
     },
     "output_type": "display_data"
    },
    {
     "data": {
      "text/plain": [
       "hour               0.204122\n",
       "platform_os        0.002761\n",
       "no                 0.007931\n",
       "date_2020-07-03    0.002937\n",
       "date_2020-07-04    0.003003\n",
       "date_2020-07-05    0.002450\n",
       "date_2020-07-06    0.002501\n",
       "date_2020-07-07    0.002938\n",
       "date_2020-07-08    0.003079\n",
       "date_2020-07-09    0.003955\n",
       "date_2020-07-10    0.002874\n",
       "auction_id         0.556086\n",
       "experiment         0.009359\n",
       "device_make        0.151493\n",
       "browser            0.044512\n",
       "dtype: float64"
      ]
     },
     "execution_count": 10,
     "metadata": {},
     "output_type": "execute_result"
    }
   ],
   "source": [
    "analyzer.feature_importance()"
   ]
  }
 ],
 "metadata": {
  "kernelspec": {
   "display_name": "Python 3 (ipykernel)",
   "language": "python",
   "name": "python3"
  },
  "language_info": {
   "codemirror_mode": {
    "name": "ipython",
    "version": 3
   },
   "file_extension": ".py",
   "mimetype": "text/x-python",
   "name": "python",
   "nbconvert_exporter": "python",
   "pygments_lexer": "ipython3",
   "version": "3.7.9"
  }
 },
 "nbformat": 4,
 "nbformat_minor": 5
}
