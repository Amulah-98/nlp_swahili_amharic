{
 "cells": [
  {
   "cell_type": "markdown",
   "id": "2dd8e0fb",
   "metadata": {},
   "source": [
    "# Preparing data\n",
    "Prediction of sales is the central task in this challenge. you want to predict daily sales in various stores up to 6 weeks ahead of time. This will help the company plan ahead of time. \n",
    "\n",
    "The following steps outline the various sub tasks needed to effectively do this: \n"
   ]
  },
  {
   "cell_type": "code",
   "execution_count": 35,
   "id": "ef789c92",
   "metadata": {},
   "outputs": [
    {
     "name": "stderr",
     "output_type": "stream",
     "text": [
      "2022-05-30 23:46:12,169:logger:Successfully initialized clean class\n"
     ]
    }
   ],
   "source": [
    "# importing of libraries\n",
    "import numpy as np\n",
    "import pandas as pd\n",
    "import librosa\n",
    "import warnings\n",
    "import matplotlib.pyplot as plt\n",
    "from pandas.plotting import scatter_matrix\n",
    "import seaborn as sns\n",
    "\n",
    "import plotly.io as pio\n",
    "from IPython.display import Image\n",
    "import plotly.express as px\n",
    "\n",
    "import os,sys\n",
    "sys.path.append(os.path.abspath(os.path.join('../scripts')))\n",
    "from timeseries import TimeSeries\n",
    "from clean import Clean\n",
    "cleaner = Clean()\n",
    "\n",
    "sns.set()\n",
    "warnings.simplefilter(action='ignore', category=FutureWarning)\n",
    "pd.set_option('display.float_format', lambda x: '%.3f' % x)\n",
    "pd.options.mode.chained_assignment = None  # default='warn'\n",
    "plt.rcParams[\"figure.figsize\"] = (12, 8)\n",
    "pd.set_option('display.max_columns', None)"
   ]
  },
  {
   "cell_type": "code",
   "execution_count": 19,
   "id": "7a36faff",
   "metadata": {},
   "outputs": [],
   "source": [
    "PATH_TRAIN_TEXT = \"../data/amharic_train_text.txt\"\n",
    "PATH_TRAIN_WAV = \"../data/amharic_train_wav/\"\n",
    "PATH_TEST_TEXT = \"../data/amharic_test_text.txt\"\n",
    "PATH_TEST_WAV = \"../data/amharic_test_wav/\""
   ]
  },
  {
   "cell_type": "code",
   "execution_count": 20,
   "id": "d2e06a50",
   "metadata": {},
   "outputs": [
    {
     "name": "stdout",
     "output_type": "stream",
     "text": [
      "Total number of training data: 10875\n",
      " Total number of testing data: 359\n"
     ]
    }
   ],
   "source": [
    "train_labels = os.listdir(PATH_TRAIN_WAV)\n",
    "test_labels = os.listdir(PATH_TEST_WAV)\n",
    "train_labels = [i.strip('.wav') for i in train_labels]\n",
    "test_labels = [i.strip('.wav') for i in test_labels]\n",
    "print(f\"Total number of training data: {len(train_labels)}\")\n",
    "print(f\" Total number of testing data: {len(test_labels)}\")"
   ]
  },
  {
   "cell_type": "markdown",
   "id": "3d701d93",
   "metadata": {},
   "source": [
    "# Preprocessing\n",
    "It is important to process the data into a format where it can be fed to a machine learning model."
   ]
  },
  {
   "cell_type": "markdown",
   "id": "ca096099",
   "metadata": {},
   "source": [
    "## Create Meta Data"
   ]
  },
  {
   "cell_type": "code",
   "execution_count": 21,
   "id": "df6d2805",
   "metadata": {},
   "outputs": [
    {
     "name": "stderr",
     "output_type": "stream",
     "text": [
      "2022-05-30 23:40:50,497:logger:Successfully read the data\n"
     ]
    }
   ],
   "source": [
    "text_data, label_data = cleaner.read_data(PATH_TRAIN_TEXT, PATH_TEST_TEXT, train_labels, test_labels)"
   ]
  },
  {
   "cell_type": "code",
   "execution_count": 22,
   "id": "ddeae9a8",
   "metadata": {},
   "outputs": [
    {
     "name": "stdout",
     "output_type": "stream",
     "text": [
      "Total Amharic training data: 11234\n",
      " Total Amharic testing data: 11234\n"
     ]
    }
   ],
   "source": [
    "print(f\"Total Amharic training data: {len(text_data)}\")\n",
    "\n",
    "print(f\" Total Amharic testing data: {len(label_data)}\")"
   ]
  },
  {
   "cell_type": "code",
   "execution_count": 23,
   "id": "ea09f6d5",
   "metadata": {},
   "outputs": [
    {
     "data": {
      "text/html": [
       "<div>\n",
       "<style scoped>\n",
       "    .dataframe tbody tr th:only-of-type {\n",
       "        vertical-align: middle;\n",
       "    }\n",
       "\n",
       "    .dataframe tbody tr th {\n",
       "        vertical-align: top;\n",
       "    }\n",
       "\n",
       "    .dataframe thead th {\n",
       "        text-align: right;\n",
       "    }\n",
       "</style>\n",
       "<table border=\"1\" class=\"dataframe\">\n",
       "  <thead>\n",
       "    <tr style=\"text-align: right;\">\n",
       "      <th></th>\n",
       "      <th>key</th>\n",
       "      <th>text</th>\n",
       "    </tr>\n",
       "  </thead>\n",
       "  <tbody>\n",
       "    <tr>\n",
       "      <th>0</th>\n",
       "      <td>tr_10000_tr097082</td>\n",
       "      <td>የተለያዩ የ ትግራይ አውራጃ ተወላጆች ገንዘባቸው ን አዋጥ ተው የ ልማት ...</td>\n",
       "    </tr>\n",
       "    <tr>\n",
       "      <th>1</th>\n",
       "      <td>tr_10001_tr097083</td>\n",
       "      <td>የ ጠመንጃ ተኩስ ተከፈተ ና አራት የኤርትራ ወታደሮች ተገደሉ</td>\n",
       "    </tr>\n",
       "    <tr>\n",
       "      <th>2</th>\n",
       "      <td>tr_10002_tr097084</td>\n",
       "      <td>ላነሷቸው ጥያቄዎች የ ሰጡት ን መልስ አቅርበ ነዋል</td>\n",
       "    </tr>\n",
       "    <tr>\n",
       "      <th>3</th>\n",
       "      <td>tr_10003_tr097085</td>\n",
       "      <td>እ ብዱ አስፋልቱ ላይ የ ኰለኰ ለ ው ድንጋይ መኪና አላ ሳልፍ አለ</td>\n",
       "    </tr>\n",
       "    <tr>\n",
       "      <th>4</th>\n",
       "      <td>tr_10004_tr097086</td>\n",
       "      <td>ጠጁ ን ኰ መኰ መ ኰ መኰ መ ና ሚስቱ ን ሲ ያሰቃ ያት አደረ</td>\n",
       "    </tr>\n",
       "  </tbody>\n",
       "</table>\n",
       "</div>"
      ],
      "text/plain": [
       "                 key                                               text\n",
       "0  tr_10000_tr097082  የተለያዩ የ ትግራይ አውራጃ ተወላጆች ገንዘባቸው ን አዋጥ ተው የ ልማት ...\n",
       "1  tr_10001_tr097083             የ ጠመንጃ ተኩስ ተከፈተ ና አራት የኤርትራ ወታደሮች ተገደሉ\n",
       "2  tr_10002_tr097084                   ላነሷቸው ጥያቄዎች የ ሰጡት ን መልስ አቅርበ ነዋል\n",
       "3  tr_10003_tr097085         እ ብዱ አስፋልቱ ላይ የ ኰለኰ ለ ው ድንጋይ መኪና አላ ሳልፍ አለ\n",
       "4  tr_10004_tr097086            ጠጁ ን ኰ መኰ መ ኰ መኰ መ ና ሚስቱ ን ሲ ያሰቃ ያት አደረ"
      ]
     },
     "execution_count": 23,
     "metadata": {},
     "output_type": "execute_result"
    }
   ],
   "source": [
    "data = pd.DataFrame({'key': label_data, 'text': text_data})\n",
    "data[:5]"
   ]
  },
  {
   "cell_type": "code",
   "execution_count": 24,
   "id": "3c95c0fe",
   "metadata": {},
   "outputs": [
    {
     "name": "stderr",
     "output_type": "stream",
     "text": [
      "2022-05-30 23:40:59,064:logger:The audio files duration is successfully computed\n"
     ]
    }
   ],
   "source": [
    "duration_of_recordings = cleaner.get_duration(PATH_TRAIN_WAV, PATH_TEST_WAV, label_data)"
   ]
  },
  {
   "cell_type": "code",
   "execution_count": 25,
   "id": "d6add5c8",
   "metadata": {},
   "outputs": [],
   "source": [
    "data[\"duration\"] = duration_of_recordings"
   ]
  },
  {
   "cell_type": "code",
   "execution_count": 26,
   "id": "3fc1c4e3",
   "metadata": {},
   "outputs": [
    {
     "data": {
      "text/html": [
       "<div>\n",
       "<style scoped>\n",
       "    .dataframe tbody tr th:only-of-type {\n",
       "        vertical-align: middle;\n",
       "    }\n",
       "\n",
       "    .dataframe tbody tr th {\n",
       "        vertical-align: top;\n",
       "    }\n",
       "\n",
       "    .dataframe thead th {\n",
       "        text-align: right;\n",
       "    }\n",
       "</style>\n",
       "<table border=\"1\" class=\"dataframe\">\n",
       "  <thead>\n",
       "    <tr style=\"text-align: right;\">\n",
       "      <th></th>\n",
       "      <th>key</th>\n",
       "      <th>text</th>\n",
       "      <th>duration</th>\n",
       "      <th>category</th>\n",
       "    </tr>\n",
       "  </thead>\n",
       "  <tbody>\n",
       "    <tr>\n",
       "      <th>0</th>\n",
       "      <td>tr_10000_tr097082</td>\n",
       "      <td>የተለያዩ የ ትግራይ አውራጃ ተወላጆች ገንዘባቸው ን አዋጥ ተው የ ልማት ...</td>\n",
       "      <td>9.088</td>\n",
       "      <td>Train</td>\n",
       "    </tr>\n",
       "    <tr>\n",
       "      <th>1</th>\n",
       "      <td>tr_10001_tr097083</td>\n",
       "      <td>የ ጠመንጃ ተኩስ ተከፈተ ና አራት የኤርትራ ወታደሮች ተገደሉ</td>\n",
       "      <td>5.632</td>\n",
       "      <td>Train</td>\n",
       "    </tr>\n",
       "    <tr>\n",
       "      <th>2</th>\n",
       "      <td>tr_10002_tr097084</td>\n",
       "      <td>ላነሷቸው ጥያቄዎች የ ሰጡት ን መልስ አቅርበ ነዋል</td>\n",
       "      <td>6.144</td>\n",
       "      <td>Train</td>\n",
       "    </tr>\n",
       "    <tr>\n",
       "      <th>3</th>\n",
       "      <td>tr_10003_tr097085</td>\n",
       "      <td>እ ብዱ አስፋልቱ ላይ የ ኰለኰ ለ ው ድንጋይ መኪና አላ ሳልፍ አለ</td>\n",
       "      <td>5.760</td>\n",
       "      <td>Train</td>\n",
       "    </tr>\n",
       "    <tr>\n",
       "      <th>4</th>\n",
       "      <td>tr_10004_tr097086</td>\n",
       "      <td>ጠጁ ን ኰ መኰ መ ኰ መኰ መ ና ሚስቱ ን ሲ ያሰቃ ያት አደረ</td>\n",
       "      <td>5.376</td>\n",
       "      <td>Train</td>\n",
       "    </tr>\n",
       "  </tbody>\n",
       "</table>\n",
       "</div>"
      ],
      "text/plain": [
       "                 key                                               text  \\\n",
       "0  tr_10000_tr097082  የተለያዩ የ ትግራይ አውራጃ ተወላጆች ገንዘባቸው ን አዋጥ ተው የ ልማት ...   \n",
       "1  tr_10001_tr097083             የ ጠመንጃ ተኩስ ተከፈተ ና አራት የኤርትራ ወታደሮች ተገደሉ   \n",
       "2  tr_10002_tr097084                   ላነሷቸው ጥያቄዎች የ ሰጡት ን መልስ አቅርበ ነዋል   \n",
       "3  tr_10003_tr097085         እ ብዱ አስፋልቱ ላይ የ ኰለኰ ለ ው ድንጋይ መኪና አላ ሳልፍ አለ   \n",
       "4  tr_10004_tr097086            ጠጁ ን ኰ መኰ መ ኰ መኰ መ ና ሚስቱ ን ሲ ያሰቃ ያት አደረ   \n",
       "\n",
       "   duration category  \n",
       "0     9.088    Train  \n",
       "1     5.632    Train  \n",
       "2     6.144    Train  \n",
       "3     5.760    Train  \n",
       "4     5.376    Train  "
      ]
     },
     "execution_count": 26,
     "metadata": {},
     "output_type": "execute_result"
    }
   ],
   "source": [
    "y = [x in test_labels for x in data.key]\n",
    "data[\"category\"] = [\"Test\" if i else \"Train\" for i in y]\n",
    "data[:5]"
   ]
  },
  {
   "cell_type": "code",
   "execution_count": 27,
   "id": "3929b55e",
   "metadata": {},
   "outputs": [
    {
     "data": {
      "text/html": [
       "<div>\n",
       "<style scoped>\n",
       "    .dataframe tbody tr th:only-of-type {\n",
       "        vertical-align: middle;\n",
       "    }\n",
       "\n",
       "    .dataframe tbody tr th {\n",
       "        vertical-align: top;\n",
       "    }\n",
       "\n",
       "    .dataframe thead th {\n",
       "        text-align: right;\n",
       "    }\n",
       "</style>\n",
       "<table border=\"1\" class=\"dataframe\">\n",
       "  <thead>\n",
       "    <tr style=\"text-align: right;\">\n",
       "      <th></th>\n",
       "      <th>key</th>\n",
       "      <th>text</th>\n",
       "      <th>duration</th>\n",
       "      <th>category</th>\n",
       "    </tr>\n",
       "  </thead>\n",
       "  <tbody>\n",
       "    <tr>\n",
       "      <th>0</th>\n",
       "      <td>tr_10000_tr097082</td>\n",
       "      <td>የተለያዩ የ ትግራይ አውራጃ ተወላጆች ገንዘባቸው ን አዋጥ ተው የ ልማት ...</td>\n",
       "      <td>9.088</td>\n",
       "      <td>Train</td>\n",
       "    </tr>\n",
       "    <tr>\n",
       "      <th>1</th>\n",
       "      <td>tr_10001_tr097083</td>\n",
       "      <td>የ ጠመንጃ ተኩስ ተከፈተ ና አራት የኤርትራ ወታደሮች ተገደሉ</td>\n",
       "      <td>5.632</td>\n",
       "      <td>Train</td>\n",
       "    </tr>\n",
       "    <tr>\n",
       "      <th>2</th>\n",
       "      <td>tr_10002_tr097084</td>\n",
       "      <td>ላነሷቸው ጥያቄዎች የ ሰጡት ን መልስ አቅርበ ነዋል</td>\n",
       "      <td>6.144</td>\n",
       "      <td>Train</td>\n",
       "    </tr>\n",
       "    <tr>\n",
       "      <th>3</th>\n",
       "      <td>tr_10003_tr097085</td>\n",
       "      <td>እ ብዱ አስፋልቱ ላይ የ ኰለኰ ለ ው ድንጋይ መኪና አላ ሳልፍ አለ</td>\n",
       "      <td>5.760</td>\n",
       "      <td>Train</td>\n",
       "    </tr>\n",
       "    <tr>\n",
       "      <th>4</th>\n",
       "      <td>tr_10004_tr097086</td>\n",
       "      <td>ጠጁ ን ኰ መኰ መ ኰ መኰ መ ና ሚስቱ ን ሲ ያሰቃ ያት አደረ</td>\n",
       "      <td>5.376</td>\n",
       "      <td>Train</td>\n",
       "    </tr>\n",
       "  </tbody>\n",
       "</table>\n",
       "</div>"
      ],
      "text/plain": [
       "                 key                                               text  \\\n",
       "0  tr_10000_tr097082  የተለያዩ የ ትግራይ አውራጃ ተወላጆች ገንዘባቸው ን አዋጥ ተው የ ልማት ...   \n",
       "1  tr_10001_tr097083             የ ጠመንጃ ተኩስ ተከፈተ ና አራት የኤርትራ ወታደሮች ተገደሉ   \n",
       "2  tr_10002_tr097084                   ላነሷቸው ጥያቄዎች የ ሰጡት ን መልስ አቅርበ ነዋል   \n",
       "3  tr_10003_tr097085         እ ብዱ አስፋልቱ ላይ የ ኰለኰ ለ ው ድንጋይ መኪና አላ ሳልፍ አለ   \n",
       "4  tr_10004_tr097086            ጠጁ ን ኰ መኰ መ ኰ መኰ መ ና ሚስቱ ን ሲ ያሰቃ ያት አደረ   \n",
       "\n",
       "   duration category  \n",
       "0     9.088    Train  \n",
       "1     5.632    Train  \n",
       "2     6.144    Train  \n",
       "3     5.760    Train  \n",
       "4     5.376    Train  "
      ]
     },
     "execution_count": 27,
     "metadata": {},
     "output_type": "execute_result"
    }
   ],
   "source": [
    "y = [x in test_labels for x in data.key]\n",
    "data[\"category\"] = [\"Test\" if i else \"Train\" for i in y]\n",
    "data[:5]"
   ]
  },
  {
   "cell_type": "markdown",
   "id": "bdfc0140",
   "metadata": {},
   "source": [
    "## Transcription of the Data"
   ]
  },
  {
   "cell_type": "code",
   "execution_count": 34,
   "id": "1effee98",
   "metadata": {},
   "outputs": [
    {
     "data": {
      "text/html": [
       "<div>\n",
       "<style scoped>\n",
       "    .dataframe tbody tr th:only-of-type {\n",
       "        vertical-align: middle;\n",
       "    }\n",
       "\n",
       "    .dataframe tbody tr th {\n",
       "        vertical-align: top;\n",
       "    }\n",
       "\n",
       "    .dataframe thead th {\n",
       "        text-align: right;\n",
       "    }\n",
       "</style>\n",
       "<table border=\"1\" class=\"dataframe\">\n",
       "  <thead>\n",
       "    <tr style=\"text-align: right;\">\n",
       "      <th></th>\n",
       "      <th>word</th>\n",
       "      <th>counts</th>\n",
       "    </tr>\n",
       "  </thead>\n",
       "  <tbody>\n",
       "    <tr>\n",
       "      <th>11779</th>\n",
       "      <td>የ</td>\n",
       "      <td>7952</td>\n",
       "    </tr>\n",
       "    <tr>\n",
       "      <th>4889</th>\n",
       "      <td>በ</td>\n",
       "      <td>6570</td>\n",
       "    </tr>\n",
       "    <tr>\n",
       "      <th>7746</th>\n",
       "      <td>ን</td>\n",
       "      <td>6470</td>\n",
       "    </tr>\n",
       "    <tr>\n",
       "      <th>7704</th>\n",
       "      <td>ና</td>\n",
       "      <td>3238</td>\n",
       "    </tr>\n",
       "    <tr>\n",
       "      <th>2708</th>\n",
       "      <td>ም</td>\n",
       "      <td>2958</td>\n",
       "    </tr>\n",
       "    <tr>\n",
       "      <th>305</th>\n",
       "      <td>ለ</td>\n",
       "      <td>2529</td>\n",
       "    </tr>\n",
       "    <tr>\n",
       "      <th>7571</th>\n",
       "      <td>ነው</td>\n",
       "      <td>2477</td>\n",
       "    </tr>\n",
       "    <tr>\n",
       "      <th>9359</th>\n",
       "      <td>ኢትዮጵያ</td>\n",
       "      <td>2160</td>\n",
       "    </tr>\n",
       "    <tr>\n",
       "      <th>10273</th>\n",
       "      <td>ከ</td>\n",
       "      <td>1982</td>\n",
       "    </tr>\n",
       "    <tr>\n",
       "      <th>9830</th>\n",
       "      <td>እንደ</td>\n",
       "      <td>1080</td>\n",
       "    </tr>\n",
       "  </tbody>\n",
       "</table>\n",
       "</div>"
      ],
      "text/plain": [
       "        word  counts\n",
       "11779      የ    7952\n",
       "4889       በ    6570\n",
       "7746       ን    6470\n",
       "7704       ና    3238\n",
       "2708       ም    2958\n",
       "305        ለ    2529\n",
       "7571      ነው    2477\n",
       "9359   ኢትዮጵያ    2160\n",
       "10273      ከ    1982\n",
       "9830     እንደ    1080"
      ]
     },
     "execution_count": 34,
     "metadata": {},
     "output_type": "execute_result"
    }
   ],
   "source": [
    "words_in_data = pd.DataFrame(' '.join(data['text']).split())\n",
    "words_in_data.columns = ['word']\n",
    "words_data = words_in_data.groupby(['word']).agg({'word': 'count'})\n",
    "words_data.columns = ['counts']\n",
    "words_data.reset_index(inplace=True)\n",
    "words_data = words_data.sort_values(\"counts\", ascending=False)\n",
    "words_data.head(10)"
   ]
  },
  {
   "cell_type": "code",
   "execution_count": 36,
   "id": "3ba2a89d",
   "metadata": {},
   "outputs": [
    {
     "data": {
      "image/png": "[encoded data removed]",
      "text/plain": [
       "<IPython.core.display.Image object>"
      ]
     },
     "execution_count": 36,
     "metadata": {},
     "output_type": "execute_result"
    }
   ],
   "source": [
    "words_data.loc[words_data['counts'] < 1000, 'word'] = 'Others'\n",
    "fig = px.pie(words_data, values='counts', names='word', title='Distribution of Words', width=800, height=500)\n",
    "Image(pio.to_image(fig, format='png', width=1200))"
   ]
  },
  {
   "cell_type": "markdown",
   "id": "18a26439",
   "metadata": {},
   "source": [
    "Feature Engineering"
   ]
  },
  {
   "cell_type": "code",
   "execution_count": null,
   "id": "457b8dc8",
   "metadata": {},
   "outputs": [],
   "source": [
    "daily_sales = clean_df.aggregations(train,'Store','Sales','Open','sum')\n",
    "daily_customers = clean_df.aggregations(train,'Store','Customers','Open','sum')\n",
    "avg_sales = clean_df.aggregations(train,'Store','Sales','Open','mean')\n",
    "avg_customers = clean_df.aggregations(train,'Store','Customers','Open','mean')\n",
    "train['DailySales'] = train['Store'].map(daily_sales)\n",
    "train['DailyCustomers'] = train['Store'].map(daily_customers)\n",
    "train['AvgSales'] = train['Store'].map(avg_sales)\n",
    "train['AvgCustomers'] = train['Store'].map(avg_customers)"
   ]
  },
  {
   "cell_type": "markdown",
   "id": "dad74686",
   "metadata": {},
   "source": [
    "For feature engineering the columns that are necessary for this particular analysis are;\n",
    "- DailySales - this is an aggregation of the daily sales per store\n",
    "- DailyCustomer - this is an aggregation of the daily customers per store\n",
    "- AvgSales - this is an aggregation of the average sales per store\n",
    "- AvgCustomers - this is an aggregation of the average customers per store\n",
    "\n",
    "Why are these features necessary?. It is because the weight of the information is on the sales, because we are doing sales predictions and that the relationship between the customers and the sales is a positive linear relationship, therefore it shall come in handy in the predictions"
   ]
  },
  {
   "cell_type": "markdown",
   "id": "de37f6a4",
   "metadata": {},
   "source": [
    "Label Encoding"
   ]
  },
  {
   "cell_type": "code",
   "execution_count": null,
   "id": "c934305c",
   "metadata": {},
   "outputs": [
    {
     "name": "stderr",
     "output_type": "stream",
     "text": [
      "2022-05-25 04:46:59,750:logger:Successfully stored the features\n",
      "2022-05-25 04:47:00,279:logger:Successfully encoded your categorical data\n"
     ]
    }
   ],
   "source": [
    "clean_df.label_encoding(train,test)"
   ]
  },
  {
   "cell_type": "markdown",
   "id": "6c1aecd0",
   "metadata": {},
   "source": [
    "The encoding that we do for the categorical data features is we use the factorize method, which encodes each element of the data to a coresponding integer"
   ]
  },
  {
   "cell_type": "markdown",
   "id": "24e83efa",
   "metadata": {},
   "source": [
    "Scaling Data"
   ]
  },
  {
   "cell_type": "code",
   "execution_count": null,
   "id": "ebe7e022",
   "metadata": {},
   "outputs": [],
   "source": [
    "training_data_ = train[train.columns.difference(['DayOfWeek','Day', 'Month', 'Year', 'DayOfYear','WeekOfYear'])]\n",
    "testing_data_ = test[test.columns.difference(['DayOfWeek','Day', 'Month', 'Year', 'DayOfYear','WeekOfYear'])]"
   ]
  },
  {
   "cell_type": "code",
   "execution_count": null,
   "id": "7d6e6689",
   "metadata": {},
   "outputs": [
    {
     "name": "stderr",
     "output_type": "stream",
     "text": [
      "2022-05-25 04:47:00,646:logger:Successfully transformed numerical data\n",
      "2022-05-25 04:47:00,664:logger:Successfully transformed numerical data\n"
     ]
    }
   ],
   "source": [
    "train_transformation=clean_df.generate_transformation(training_data_,\"numeric\",\"number\")\n",
    "test_transformation=clean_df.generate_transformation(testing_data_,\"numeric\",\"number\")"
   ]
  },
  {
   "cell_type": "code",
   "execution_count": null,
   "id": "e8b9bc14",
   "metadata": {},
   "outputs": [],
   "source": [
    "indexes = ['DayOfWeek','Day', 'Month', 'Year', 'DayOfYear','WeekOfYear']\n",
    "train_transformed = pd.DataFrame(train_transformation,columns=train.columns.difference(indexes))\n",
    "test_transformed = pd.DataFrame(test_transformation,columns=test.columns.difference(indexes))\n",
    "train_index = train[indexes]\n",
    "test_index = test[indexes]\n",
    "train = pd.concat([train_index,train_transformed],axis=1)\n",
    "test = pd.concat([test_index,test_transformed],axis=1)"
   ]
  },
  {
   "cell_type": "markdown",
   "id": "6afea142",
   "metadata": {},
   "source": [
    "For the transformations of our data we realize that the minmaxscaler because we want to ensure that when doing the backpropagation it shall be more stable,also it shall help our code to run faster when placing it."
   ]
  },
  {
   "cell_type": "code",
   "execution_count": null,
   "id": "628bb5af",
   "metadata": {},
   "outputs": [],
   "source": [
    "train.sort_values([\"Year\",\"Month\",\"Day\"], ascending=False ,ignore_index=True, inplace=True)\n",
    "test.sort_values([\"Year\",\"Month\",\"Day\"], ascending=False ,ignore_index=True, inplace=True)"
   ]
  },
  {
   "cell_type": "code",
   "execution_count": null,
   "id": "295885cb",
   "metadata": {},
   "outputs": [],
   "source": [
    "train.to_csv(\"../data/cleaned_train.csv\",index=False)\n",
    "test.to_csv(\"../data/cleaned_test.csv\",index=False)"
   ]
  },
  {
   "cell_type": "code",
   "execution_count": null,
   "id": "749ca3c6",
   "metadata": {},
   "outputs": [],
   "source": []
  }
 ],
 "metadata": {
  "interpreter": {
   "hash": "0f08ea943be090a14eff5269cda570ac55dcc0e2bd93317a14b7d7e20047a087"
  },
  "kernelspec": {
   "display_name": "Python 3 (ipykernel)",
   "language": "python",
   "name": "python3"
  },
  "language_info": {
   "codemirror_mode": {
    "name": "ipython",
    "version": 3
   },
   "file_extension": ".py",
   "mimetype": "text/x-python",
   "name": "python",
   "nbconvert_exporter": "python",
   "pygments_lexer": "ipython3",
   "version": "3.10.4"
  }
 },
 "nbformat": 4,
 "nbformat_minor": 5
}
