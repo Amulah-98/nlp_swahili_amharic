{
 "cells": [
  {
   "cell_type": "markdown",
   "id": "a7140172",
   "metadata": {},
   "source": [
    "# Forecasting\n",
    "Prediction of sales is the central task in this challenge. you want to predict daily sales in various stores up to 6 weeks ahead of time. This will help the company plan ahead of time. \n",
    "\n",
    "The following steps outline the various sub tasks needed to effectively do this: "
   ]
  },
  {
   "cell_type": "code",
   "execution_count": 1,
   "id": "42be6b13",
   "metadata": {},
   "outputs": [
    {
     "name": "stderr",
     "output_type": "stream",
     "text": [
      "2022-05-25 09:54:13.961953: W tensorflow/stream_executor/platform/default/dso_loader.cc:64] Could not load dynamic library 'libcudart.so.11.0'; dlerror: libcudart.so.11.0: cannot open shared object file: No such file or directory\n",
      "2022-05-25 09:54:13.961987: I tensorflow/stream_executor/cuda/cudart_stub.cc:29] Ignore above cudart dlerror if you do not have a GPU set up on your machine.\n"
     ]
    },
    {
     "name": "stdout",
     "output_type": "stream",
     "text": [
      "/home/martin/Documents/pharm_sales/notebooks\n"
     ]
    }
   ],
   "source": [
    "# importing of libraries\n",
    "import numpy as np\n",
    "import pandas as pd\n",
    "import warnings\n",
    "import matplotlib.pyplot as plt\n",
    "from matplotlib.gridspec import GridSpec\n",
    "from matplotlib import ticker\n",
    "from statsmodels.tsa.stattools import adfuller, acf, pacf\n",
    "from sklearn.preprocessing import MinMaxScaler\n",
    "from sklearn.ensemble import RandomForestRegressor\n",
    "import tensorflow as tf\n",
    "from tensorflow.keras.models import Sequential\n",
    "from tensorflow.keras.layers import Dense\n",
    "from tensorflow.keras.layers import LSTM\n",
    "from pandas.plotting import scatter_matrix\n",
    "from sklearn.model_selection import cross_val_score\n",
    "import seaborn as sns\n",
    "import os,sys\n",
    "sys.path.append(os.path.abspath(os.path.join('../scripts')))\n",
    "from timeseries import TimeSeries\n",
    "from modeling import Modeler\n",
    "sns.set()\n"
   ]
  },
  {
   "cell_type": "markdown",
   "id": "664cbd1b",
   "metadata": {},
   "source": [
    "2.2 Building models with sklearn pipelines\n",
    "At this point, all our features are numeric. Since our problem is a regression problem, you can narrow down the list of algorithms you can use for modelling. \n",
    "\n",
    "A reasonable starting point will be to use any of the tree based algorithms. Random forests Regressor will make for a good start. \n",
    "\n",
    "Also, for the sake of this challenge, work with sklearn pipelines. This makes modeling modular and more reproducible. Working with pipelines will also significantly reduce your workload when you are moving your setup into files for the next part of the challenge. Extra marks will be awarded for doing this.\n"
   ]
  },
  {
   "cell_type": "code",
   "execution_count": 2,
   "id": "ef16c949",
   "metadata": {},
   "outputs": [],
   "source": [
    "train_ = pd.read_csv(\"../data/cleaned_train.csv\")\n",
    "test = pd.read_csv(\"../data/cleaned_test.csv\")\n",
    "train_.drop(['DayOfWeek','DayOfYear','WeekOfYear',\n",
    "            'Customers',\"Month\",\"Day\"],axis=1,inplace=True)\n",
    "test.drop([\"Id\",'DayOfWeek','DayOfYear','WeekOfYear'\n",
    "           ,\"Month\",\"Day\"],axis=1,inplace=True)\n",
    "train=train_.loc[:,train_.columns!='Sales']\n",
    "train['Sales']=train_['Sales']\n",
    "train.sort_values([\"Year\"], ascending=False ,ignore_index=True, inplace=True)\n",
    "test.sort_values([\"Year\"], ascending=False ,ignore_index=True, inplace=True)\n",
    "train.index.name = 'Year'\n",
    "train = train.set_index('Year')\n",
    "test.index.name = 'Year'\n",
    "test = test.set_index('Year')\n"
   ]
  },
  {
   "cell_type": "code",
   "execution_count": 3,
   "id": "c6794369",
   "metadata": {},
   "outputs": [
    {
     "data": {
      "text/html": [
       "<div>\n",
       "<style scoped>\n",
       "    .dataframe tbody tr th:only-of-type {\n",
       "        vertical-align: middle;\n",
       "    }\n",
       "\n",
       "    .dataframe tbody tr th {\n",
       "        vertical-align: top;\n",
       "    }\n",
       "\n",
       "    .dataframe thead th {\n",
       "        text-align: right;\n",
       "    }\n",
       "</style>\n",
       "<table border=\"1\" class=\"dataframe\">\n",
       "  <thead>\n",
       "    <tr style=\"text-align: right;\">\n",
       "      <th></th>\n",
       "      <th>Assortment</th>\n",
       "      <th>AvgCustomers</th>\n",
       "      <th>AvgSales</th>\n",
       "      <th>CompetitionDistance</th>\n",
       "      <th>CompetitionOpenSinceMonth</th>\n",
       "      <th>CompetitionOpenSinceYear</th>\n",
       "      <th>DailyCustomers</th>\n",
       "      <th>DailySales</th>\n",
       "      <th>Open</th>\n",
       "      <th>Promo</th>\n",
       "      <th>Promo2</th>\n",
       "      <th>Promo2SinceWeek</th>\n",
       "      <th>Promo2SinceYear</th>\n",
       "      <th>PromoInterval</th>\n",
       "      <th>SchoolHoliday</th>\n",
       "      <th>StateHoliday</th>\n",
       "      <th>Store</th>\n",
       "      <th>StoreType</th>\n",
       "      <th>Sales</th>\n",
       "    </tr>\n",
       "    <tr>\n",
       "      <th>Year</th>\n",
       "      <th></th>\n",
       "      <th></th>\n",
       "      <th></th>\n",
       "      <th></th>\n",
       "      <th></th>\n",
       "      <th></th>\n",
       "      <th></th>\n",
       "      <th></th>\n",
       "      <th></th>\n",
       "      <th></th>\n",
       "      <th></th>\n",
       "      <th></th>\n",
       "      <th></th>\n",
       "      <th></th>\n",
       "      <th></th>\n",
       "      <th></th>\n",
       "      <th></th>\n",
       "      <th></th>\n",
       "      <th></th>\n",
       "    </tr>\n",
       "  </thead>\n",
       "  <tbody>\n",
       "    <tr>\n",
       "      <th>2015</th>\n",
       "      <td>0.0</td>\n",
       "      <td>0.183768</td>\n",
       "      <td>0.157115</td>\n",
       "      <td>0.019521</td>\n",
       "      <td>0.909091</td>\n",
       "      <td>0.930435</td>\n",
       "      <td>0.209999</td>\n",
       "      <td>0.180225</td>\n",
       "      <td>1.0</td>\n",
       "      <td>1.0</td>\n",
       "      <td>0.0</td>\n",
       "      <td>0.255319</td>\n",
       "      <td>0.166667</td>\n",
       "      <td>0.0</td>\n",
       "      <td>1.0</td>\n",
       "      <td>0.333333</td>\n",
       "      <td>0.000000</td>\n",
       "      <td>0.0</td>\n",
       "      <td>0.242764</td>\n",
       "    </tr>\n",
       "    <tr>\n",
       "      <th>2015</th>\n",
       "      <td>0.0</td>\n",
       "      <td>0.235718</td>\n",
       "      <td>0.206591</td>\n",
       "      <td>0.015470</td>\n",
       "      <td>0.909091</td>\n",
       "      <td>0.991304</td>\n",
       "      <td>0.269365</td>\n",
       "      <td>0.236980</td>\n",
       "      <td>1.0</td>\n",
       "      <td>0.0</td>\n",
       "      <td>0.0</td>\n",
       "      <td>0.638298</td>\n",
       "      <td>0.666667</td>\n",
       "      <td>1.0</td>\n",
       "      <td>0.0</td>\n",
       "      <td>0.333333</td>\n",
       "      <td>0.350766</td>\n",
       "      <td>0.0</td>\n",
       "      <td>0.207454</td>\n",
       "    </tr>\n",
       "    <tr>\n",
       "      <th>2015</th>\n",
       "      <td>0.0</td>\n",
       "      <td>0.395239</td>\n",
       "      <td>0.462220</td>\n",
       "      <td>0.064825</td>\n",
       "      <td>0.909091</td>\n",
       "      <td>0.921739</td>\n",
       "      <td>0.451656</td>\n",
       "      <td>0.530211</td>\n",
       "      <td>1.0</td>\n",
       "      <td>0.0</td>\n",
       "      <td>0.0</td>\n",
       "      <td>0.085106</td>\n",
       "      <td>0.666667</td>\n",
       "      <td>1.0</td>\n",
       "      <td>0.0</td>\n",
       "      <td>0.333333</td>\n",
       "      <td>0.341749</td>\n",
       "      <td>0.0</td>\n",
       "      <td>0.331799</td>\n",
       "    </tr>\n",
       "    <tr>\n",
       "      <th>2015</th>\n",
       "      <td>0.0</td>\n",
       "      <td>0.626386</td>\n",
       "      <td>0.874092</td>\n",
       "      <td>0.081031</td>\n",
       "      <td>0.363636</td>\n",
       "      <td>0.982609</td>\n",
       "      <td>0.713926</td>\n",
       "      <td>1.000000</td>\n",
       "      <td>1.0</td>\n",
       "      <td>0.0</td>\n",
       "      <td>0.0</td>\n",
       "      <td>0.191489</td>\n",
       "      <td>0.833333</td>\n",
       "      <td>0.5</td>\n",
       "      <td>0.0</td>\n",
       "      <td>0.333333</td>\n",
       "      <td>0.340848</td>\n",
       "      <td>0.0</td>\n",
       "      <td>0.409744</td>\n",
       "    </tr>\n",
       "    <tr>\n",
       "      <th>2015</th>\n",
       "      <td>1.0</td>\n",
       "      <td>0.400381</td>\n",
       "      <td>0.375524</td>\n",
       "      <td>0.002210</td>\n",
       "      <td>0.454545</td>\n",
       "      <td>0.956522</td>\n",
       "      <td>0.457531</td>\n",
       "      <td>0.430761</td>\n",
       "      <td>1.0</td>\n",
       "      <td>0.0</td>\n",
       "      <td>0.0</td>\n",
       "      <td>0.361702</td>\n",
       "      <td>0.166667</td>\n",
       "      <td>1.0</td>\n",
       "      <td>0.0</td>\n",
       "      <td>0.333333</td>\n",
       "      <td>0.338142</td>\n",
       "      <td>0.0</td>\n",
       "      <td>0.294127</td>\n",
       "    </tr>\n",
       "  </tbody>\n",
       "</table>\n",
       "</div>"
      ],
      "text/plain": [
       "      Assortment  AvgCustomers  AvgSales  CompetitionDistance  \\\n",
       "Year                                                            \n",
       "2015         0.0      0.183768  0.157115             0.019521   \n",
       "2015         0.0      0.235718  0.206591             0.015470   \n",
       "2015         0.0      0.395239  0.462220             0.064825   \n",
       "2015         0.0      0.626386  0.874092             0.081031   \n",
       "2015         1.0      0.400381  0.375524             0.002210   \n",
       "\n",
       "      CompetitionOpenSinceMonth  CompetitionOpenSinceYear  DailyCustomers  \\\n",
       "Year                                                                        \n",
       "2015                   0.909091                  0.930435        0.209999   \n",
       "2015                   0.909091                  0.991304        0.269365   \n",
       "2015                   0.909091                  0.921739        0.451656   \n",
       "2015                   0.363636                  0.982609        0.713926   \n",
       "2015                   0.454545                  0.956522        0.457531   \n",
       "\n",
       "      DailySales  Open  Promo  Promo2  Promo2SinceWeek  Promo2SinceYear  \\\n",
       "Year                                                                      \n",
       "2015    0.180225   1.0    1.0     0.0         0.255319         0.166667   \n",
       "2015    0.236980   1.0    0.0     0.0         0.638298         0.666667   \n",
       "2015    0.530211   1.0    0.0     0.0         0.085106         0.666667   \n",
       "2015    1.000000   1.0    0.0     0.0         0.191489         0.833333   \n",
       "2015    0.430761   1.0    0.0     0.0         0.361702         0.166667   \n",
       "\n",
       "      PromoInterval  SchoolHoliday  StateHoliday     Store  StoreType  \\\n",
       "Year                                                                    \n",
       "2015            0.0            1.0      0.333333  0.000000        0.0   \n",
       "2015            1.0            0.0      0.333333  0.350766        0.0   \n",
       "2015            1.0            0.0      0.333333  0.341749        0.0   \n",
       "2015            0.5            0.0      0.333333  0.340848        0.0   \n",
       "2015            1.0            0.0      0.333333  0.338142        0.0   \n",
       "\n",
       "         Sales  \n",
       "Year            \n",
       "2015  0.242764  \n",
       "2015  0.207454  \n",
       "2015  0.331799  \n",
       "2015  0.409744  \n",
       "2015  0.294127  "
      ]
     },
     "execution_count": 3,
     "metadata": {},
     "output_type": "execute_result"
    }
   ],
   "source": [
    "train.head()"
   ]
  },
  {
   "cell_type": "code",
   "execution_count": 4,
   "id": "3ade7080",
   "metadata": {},
   "outputs": [],
   "source": [
    "inputs = train[:1]"
   ]
  },
  {
   "cell_type": "markdown",
   "id": "32543974",
   "metadata": {},
   "source": [
    "# Modeling with RandomForest"
   ]
  },
  {
   "cell_type": "code",
   "execution_count": 5,
   "id": "5b6f5b1c",
   "metadata": {},
   "outputs": [],
   "source": [
    "analyzer = Modeler(train)"
   ]
  },
  {
   "cell_type": "code",
   "execution_count": 6,
   "id": "1a8ded2e",
   "metadata": {},
   "outputs": [
    {
     "name": "stderr",
     "output_type": "stream",
     "text": [
      "/home/martin/Documents/pharm_sales/env/lib/python3.10/site-packages/sklearn/base.py:450: UserWarning: X does not have valid feature names, but RandomForestRegressor was fitted with feature names\n",
      "  warnings.warn(\n"
     ]
    }
   ],
   "source": [
    "forecast = analyzer.regr_models(inputs,RandomForestRegressor,column='Sales',\n",
    "                                encoded=True,n_estimators=10)"
   ]
  },
  {
   "cell_type": "code",
   "execution_count": 7,
   "id": "d2569403",
   "metadata": {},
   "outputs": [],
   "source": [
    "scores,forecast = forecast"
   ]
  },
  {
   "cell_type": "code",
   "execution_count": 9,
   "id": "5fd1095b",
   "metadata": {},
   "outputs": [
    {
     "data": {
      "text/plain": [
       "0.007165473383690862"
      ]
     },
     "execution_count": 9,
     "metadata": {},
     "output_type": "execute_result"
    }
   ],
   "source": [
    "scores"
   ]
  },
  {
   "cell_type": "markdown",
   "id": "1d66957c",
   "metadata": {},
   "source": [
    "# Modeling with LSTM"
   ]
  },
  {
   "cell_type": "markdown",
   "id": "e73a1ff8",
   "metadata": {},
   "source": [
    "Unit Root Tests helps us determine the stationarity of our data"
   ]
  },
  {
   "cell_type": "code",
   "execution_count": 3,
   "id": "7b4a867a",
   "metadata": {},
   "outputs": [
    {
     "name": "stderr",
     "output_type": "stream",
     "text": [
      "2022-05-25 04:58:36,870:logger:Initialized the time series class\n"
     ]
    }
   ],
   "source": [
    "timeseries = TimeSeries(train)\n",
    "# timeseries.perform_adfuller('Sales')"
   ]
  },
  {
   "cell_type": "markdown",
   "id": "3c8af4bf",
   "metadata": {},
   "source": [
    "Remove stationarity from the data"
   ]
  },
  {
   "cell_type": "code",
   "execution_count": 10,
   "id": "91486733",
   "metadata": {},
   "outputs": [],
   "source": [
    "train['Sales'] = timeseries.remove_stationarity(train.Sales.values)"
   ]
  },
  {
   "cell_type": "code",
   "execution_count": 9,
   "id": "30404278",
   "metadata": {},
   "outputs": [],
   "source": [
    "SIZE = len(train.Sales)\n",
    "WINDOW_SIZE = 489\n",
    "BATCH_SIZE= SIZE-WINDOW_SIZE*2\n",
    "EPOCHS = 5\n",
    "ID = test['Id']"
   ]
  },
  {
   "cell_type": "code",
   "execution_count": 10,
   "id": "867cd519",
   "metadata": {},
   "outputs": [
    {
     "name": "stderr",
     "output_type": "stream",
     "text": [
      "2022-05-25 04:17:45,860:logger:Successfully windowed the dataset\n",
      "2022-05-25 04:17:45,928:logger:Successfully windowed the dataset\n"
     ]
    }
   ],
   "source": [
    "DatasetTrain = timeseries.split_dataset(train.Sales[0:BATCH_SIZE])\n",
    "DatasetVal = timeseries.split_dataset(train.Sales[BATCH_SIZE])"
   ]
  },
  {
   "cell_type": "code",
   "execution_count": 11,
   "id": "cc3ebc60",
   "metadata": {},
   "outputs": [
    {
     "name": "stderr",
     "output_type": "stream",
     "text": [
      "2022-05-25 04:17:47,740:logger:Successfully modeled the neural network\n"
     ]
    },
    {
     "name": "stdout",
     "output_type": "stream",
     "text": [
      "Epoch 1/10\n",
      "1617/1617 [==============================] - 113s 67ms/step - loss: 0.0041\n",
      "Epoch 2/10\n",
      "1617/1617 [==============================] - 113s 70ms/step - loss: 0.0037\n",
      "Epoch 3/10\n",
      "1617/1617 [==============================] - 123s 76ms/step - loss: 0.0037\n",
      "Epoch 4/10\n",
      "1617/1617 [==============================] - 124s 76ms/step - loss: 0.0037\n",
      "Epoch 5/10\n",
      "1617/1617 [==============================] - 109s 68ms/step - loss: 0.0037\n",
      "Epoch 6/10\n",
      "1617/1617 [==============================] - 112s 69ms/step - loss: 0.0037\n",
      "Epoch 7/10\n",
      "1617/1617 [==============================] - 108s 67ms/step - loss: 0.0037\n",
      "Epoch 8/10\n",
      "1617/1617 [==============================] - 108s 67ms/step - loss: 0.0037\n",
      "Epoch 9/10\n",
      "1617/1617 [==============================] - 101s 63ms/step - loss: 0.0037\n",
      "Epoch 10/10\n",
      "1617/1617 [==============================] - 104s 65ms/step - loss: 0.0037\n"
     ]
    }
   ],
   "source": [
    "model = timeseries.model()\n",
    "results = model.fit(DatasetTrain, epochs=EPOCHS, validation_data=DatasetVal, verbose=1)"
   ]
  },
  {
   "cell_type": "code",
   "execution_count": null,
   "id": "c6f303af",
   "metadata": {},
   "outputs": [
    {
     "name": "stderr",
     "output_type": "stream",
     "text": [
      "2022-05-25 04:42:53.952693: W tensorflow/core/framework/cpu_allocator_impl.cc:82] Allocation of 1264737864 exceeds 10% of free system memory.\n"
     ]
    }
   ],
   "source": [
    "forecast = timeseries.model_forecast(model, train.Sales.values[:, np.newaxis], WINDOW_SIZE,SIZE=BATCH_SIZE)\n",
    "results = forecast[BATCH_SIZE-WINDOW_SIZE:-1]\n",
    "results_ = scaler.inverse_transform(results.reshape(-1,1))\n",
    "XValid_ = scaler.inverse_transform(XValid.reshape(-1,1))"
   ]
  },
  {
   "cell_type": "code",
   "execution_count": null,
   "id": "17a1c5ac",
   "metadata": {},
   "outputs": [],
   "source": [
    "view_forecast_= timeseries.view_forecast(DateValid,XValid_,results_,results,WINDOW_SIZE=48)"
   ]
  },
  {
   "cell_type": "code",
   "execution_count": null,
   "id": "98edc0ca",
   "metadata": {},
   "outputs": [],
   "source": []
  }
 ],
 "metadata": {
  "kernelspec": {
   "display_name": "Python 3 (ipykernel)",
   "language": "python",
   "name": "python3"
  },
  "language_info": {
   "codemirror_mode": {
    "name": "ipython",
    "version": 3
   },
   "file_extension": ".py",
   "mimetype": "text/x-python",
   "name": "python",
   "nbconvert_exporter": "python",
   "pygments_lexer": "ipython3",
   "version": "3.10.4"
  }
 },
 "nbformat": 4,
 "nbformat_minor": 5
}
