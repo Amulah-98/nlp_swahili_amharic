{
 "cells": [
  {
   "cell_type": "markdown",
   "id": "6b43a8ed",
   "metadata": {},
   "source": [
    "AB Testing\n"
   ]
  },
  {
   "cell_type": "code",
   "execution_count": 1,
   "id": "d2a08975",
   "metadata": {},
   "outputs": [],
   "source": [
    "import pandas as pd"
   ]
  },
  {
   "cell_type": "code",
   "execution_count": 2,
   "id": "37891283",
   "metadata": {},
   "outputs": [],
   "source": [
    "df = pd.read_csv(\"../data/AdSmartABdata.csv\")"
   ]
  },
  {
   "cell_type": "code",
   "execution_count": 41,
   "id": "bab12057",
   "metadata": {},
   "outputs": [
    {
     "data": {
      "text/html": [
       "<div>\n",
       "<style scoped>\n",
       "    .dataframe tbody tr th:only-of-type {\n",
       "        vertical-align: middle;\n",
       "    }\n",
       "\n",
       "    .dataframe tbody tr th {\n",
       "        vertical-align: top;\n",
       "    }\n",
       "\n",
       "    .dataframe thead th {\n",
       "        text-align: right;\n",
       "    }\n",
       "</style>\n",
       "<table border=\"1\" class=\"dataframe\">\n",
       "  <thead>\n",
       "    <tr style=\"text-align: right;\">\n",
       "      <th></th>\n",
       "      <th>auction_id</th>\n",
       "      <th>experiment</th>\n",
       "      <th>date</th>\n",
       "      <th>hour</th>\n",
       "      <th>device_make</th>\n",
       "      <th>platform_os</th>\n",
       "      <th>browser</th>\n",
       "      <th>yes</th>\n",
       "      <th>no</th>\n",
       "    </tr>\n",
       "  </thead>\n",
       "  <tbody>\n",
       "    <tr>\n",
       "      <th>8072</th>\n",
       "      <td>ffea24ec-cec1-43fb-b1d1-8f93828c2be2</td>\n",
       "      <td>exposed</td>\n",
       "      <td>2020-07-05</td>\n",
       "      <td>7</td>\n",
       "      <td>Generic Smartphone</td>\n",
       "      <td>6</td>\n",
       "      <td>Chrome Mobile</td>\n",
       "      <td>0</td>\n",
       "      <td>0</td>\n",
       "    </tr>\n",
       "    <tr>\n",
       "      <th>8073</th>\n",
       "      <td>ffea3210-2c3e-426f-a77d-0aa72e73b20f</td>\n",
       "      <td>control</td>\n",
       "      <td>2020-07-03</td>\n",
       "      <td>15</td>\n",
       "      <td>Generic Smartphone</td>\n",
       "      <td>6</td>\n",
       "      <td>Chrome Mobile</td>\n",
       "      <td>0</td>\n",
       "      <td>0</td>\n",
       "    </tr>\n",
       "    <tr>\n",
       "      <th>8074</th>\n",
       "      <td>ffeaa0f1-1d72-4ba9-afb4-314b3b00a7c7</td>\n",
       "      <td>control</td>\n",
       "      <td>2020-07-04</td>\n",
       "      <td>9</td>\n",
       "      <td>Generic Smartphone</td>\n",
       "      <td>6</td>\n",
       "      <td>Chrome Mobile</td>\n",
       "      <td>0</td>\n",
       "      <td>0</td>\n",
       "    </tr>\n",
       "    <tr>\n",
       "      <th>8075</th>\n",
       "      <td>ffeeed62-3f7c-4a6e-8ba7-95d303d40969</td>\n",
       "      <td>exposed</td>\n",
       "      <td>2020-07-05</td>\n",
       "      <td>15</td>\n",
       "      <td>Samsung SM-A515F</td>\n",
       "      <td>6</td>\n",
       "      <td>Samsung Internet</td>\n",
       "      <td>0</td>\n",
       "      <td>0</td>\n",
       "    </tr>\n",
       "    <tr>\n",
       "      <th>8076</th>\n",
       "      <td>fffbb9ff-568a-41a5-a0c3-6866592f80d8</td>\n",
       "      <td>control</td>\n",
       "      <td>2020-07-10</td>\n",
       "      <td>14</td>\n",
       "      <td>Samsung SM-G960F</td>\n",
       "      <td>6</td>\n",
       "      <td>Facebook</td>\n",
       "      <td>0</td>\n",
       "      <td>0</td>\n",
       "    </tr>\n",
       "  </tbody>\n",
       "</table>\n",
       "</div>"
      ],
      "text/plain": [
       "                                auction_id experiment        date  hour  \\\n",
       "8072  ffea24ec-cec1-43fb-b1d1-8f93828c2be2    exposed  2020-07-05     7   \n",
       "8073  ffea3210-2c3e-426f-a77d-0aa72e73b20f    control  2020-07-03    15   \n",
       "8074  ffeaa0f1-1d72-4ba9-afb4-314b3b00a7c7    control  2020-07-04     9   \n",
       "8075  ffeeed62-3f7c-4a6e-8ba7-95d303d40969    exposed  2020-07-05    15   \n",
       "8076  fffbb9ff-568a-41a5-a0c3-6866592f80d8    control  2020-07-10    14   \n",
       "\n",
       "             device_make  platform_os           browser  yes  no  \n",
       "8072  Generic Smartphone            6     Chrome Mobile    0   0  \n",
       "8073  Generic Smartphone            6     Chrome Mobile    0   0  \n",
       "8074  Generic Smartphone            6     Chrome Mobile    0   0  \n",
       "8075    Samsung SM-A515F            6  Samsung Internet    0   0  \n",
       "8076    Samsung SM-G960F            6          Facebook    0   0  "
      ]
     },
     "execution_count": 41,
     "metadata": {},
     "output_type": "execute_result"
    }
   ],
   "source": [
    "df.tail()"
   ]
  },
  {
   "cell_type": "code",
   "execution_count": 9,
   "id": "d272ab04",
   "metadata": {},
   "outputs": [
    {
     "data": {
      "text/plain": [
       "(8077, 9)"
      ]
     },
     "execution_count": 9,
     "metadata": {},
     "output_type": "execute_result"
    }
   ],
   "source": [
    "# checking the size of the data\n",
    "df.shape"
   ]
  },
  {
   "cell_type": "code",
   "execution_count": 10,
   "id": "1b110456",
   "metadata": {},
   "outputs": [
    {
     "data": {
      "text/plain": [
       "auction_id     0\n",
       "experiment     0\n",
       "date           0\n",
       "hour           0\n",
       "device_make    0\n",
       "platform_os    0\n",
       "browser        0\n",
       "yes            0\n",
       "no             0\n",
       "dtype: int64"
      ]
     },
     "execution_count": 10,
     "metadata": {},
     "output_type": "execute_result"
    }
   ],
   "source": [
    "# checking for missing values\n",
    "df.isnull().sum()"
   ]
  },
  {
   "cell_type": "markdown",
   "id": "cc311618",
   "metadata": {},
   "source": [
    "1. Which online users belong to the control and exposed groups?"
   ]
  },
  {
   "cell_type": "code",
   "execution_count": 15,
   "id": "ad8332c2",
   "metadata": {},
   "outputs": [
    {
     "data": {
      "text/plain": [
       "experiment\n",
       "control    4071\n",
       "exposed    4006\n",
       "Name: auction_id, dtype: int64"
      ]
     },
     "execution_count": 15,
     "metadata": {},
     "output_type": "execute_result"
    }
   ],
   "source": [
    "df.groupby(\"experiment\")[\"auction_id\"].count()"
   ]
  },
  {
   "cell_type": "markdown",
   "id": "91b77d6e",
   "metadata": {},
   "source": [
    "2. How are the users targeted?\n"
   ]
  },
  {
   "cell_type": "markdown",
   "id": "ac4bdb82",
   "metadata": {},
   "source": [
    "3. Could we use the counts of yes and no answers to make a judgement on which experiment is \n",
    "performing better? For example if #yes > #no for the exposed group than the control group, \n",
    "could we declare that the ad had a significant impact Why or why not?\n"
   ]
  },
  {
   "cell_type": "code",
   "execution_count": 90,
   "id": "09199f22",
   "metadata": {},
   "outputs": [],
   "source": [
    "agg = df.groupby(\"experiment\").agg(\n",
    "{\"yes\":\"sum\"})\n",
    "grouped.columns = [\"_\".join(x) for x in grouped.columns.ravel()]"
   ]
  },
  {
   "cell_type": "code",
   "execution_count": 91,
   "id": "ba3447e8",
   "metadata": {},
   "outputs": [
    {
     "data": {
      "text/html": [
       "<div>\n",
       "<style scoped>\n",
       "    .dataframe tbody tr th:only-of-type {\n",
       "        vertical-align: middle;\n",
       "    }\n",
       "\n",
       "    .dataframe tbody tr th {\n",
       "        vertical-align: top;\n",
       "    }\n",
       "\n",
       "    .dataframe thead th {\n",
       "        text-align: right;\n",
       "    }\n",
       "</style>\n",
       "<table border=\"1\" class=\"dataframe\">\n",
       "  <thead>\n",
       "    <tr style=\"text-align: right;\">\n",
       "      <th></th>\n",
       "      <th>y_e_s</th>\n",
       "    </tr>\n",
       "    <tr>\n",
       "      <th>experiment</th>\n",
       "      <th></th>\n",
       "    </tr>\n",
       "  </thead>\n",
       "  <tbody>\n",
       "    <tr>\n",
       "      <th>control</th>\n",
       "      <td>264</td>\n",
       "    </tr>\n",
       "    <tr>\n",
       "      <th>exposed</th>\n",
       "      <td>308</td>\n",
       "    </tr>\n",
       "  </tbody>\n",
       "</table>\n",
       "</div>"
      ],
      "text/plain": [
       "            y_e_s\n",
       "experiment       \n",
       "control       264\n",
       "exposed       308"
      ]
     },
     "execution_count": 91,
     "metadata": {},
     "output_type": "execute_result"
    }
   ],
   "source": [
    "agg"
   ]
  },
  {
   "cell_type": "code",
   "execution_count": 24,
   "id": "ac73a655",
   "metadata": {},
   "outputs": [],
   "source": [
    "agg = df.groupby(\"experiment\").agg(\n",
    "{\"no\":\"sum\"})"
   ]
  },
  {
   "cell_type": "code",
   "execution_count": 26,
   "id": "b40354e5",
   "metadata": {},
   "outputs": [
    {
     "data": {
      "text/html": [
       "<div>\n",
       "<style scoped>\n",
       "    .dataframe tbody tr th:only-of-type {\n",
       "        vertical-align: middle;\n",
       "    }\n",
       "\n",
       "    .dataframe tbody tr th {\n",
       "        vertical-align: top;\n",
       "    }\n",
       "\n",
       "    .dataframe thead th {\n",
       "        text-align: right;\n",
       "    }\n",
       "</style>\n",
       "<table border=\"1\" class=\"dataframe\">\n",
       "  <thead>\n",
       "    <tr style=\"text-align: right;\">\n",
       "      <th></th>\n",
       "      <th>no</th>\n",
       "    </tr>\n",
       "    <tr>\n",
       "      <th>experiment</th>\n",
       "      <th></th>\n",
       "    </tr>\n",
       "  </thead>\n",
       "  <tbody>\n",
       "    <tr>\n",
       "      <th>control</th>\n",
       "      <td>322</td>\n",
       "    </tr>\n",
       "    <tr>\n",
       "      <th>exposed</th>\n",
       "      <td>349</td>\n",
       "    </tr>\n",
       "  </tbody>\n",
       "</table>\n",
       "</div>"
      ],
      "text/plain": [
       "             no\n",
       "experiment     \n",
       "control     322\n",
       "exposed     349"
      ]
     },
     "execution_count": 26,
     "metadata": {},
     "output_type": "execute_result"
    }
   ],
   "source": [
    "agg"
   ]
  },
  {
   "cell_type": "markdown",
   "id": "059ad2a6",
   "metadata": {},
   "source": [
    "4. What is the statistical process that generates the data? Which kind of statistical model will you \n",
    "use if you were to simulate the data?\n"
   ]
  },
  {
   "cell_type": "code",
   "execution_count": 49,
   "id": "1f9ced48",
   "metadata": {},
   "outputs": [
    {
     "data": {
      "image/png": "[encoded data removed]",
      "text/plain": [
       "<Figure size 432x288 with 1 Axes>"
      ]
     },
     "metadata": {
      "needs_background": "light"
     },
     "output_type": "display_data"
    }
   ],
   "source": [
    "df.hist([\"hour\"]); # normal distribution"
   ]
  },
  {
   "cell_type": "code",
   "execution_count": 89,
   "id": "3a5c97b2",
   "metadata": {},
   "outputs": [
    {
     "data": {
      "image/png": "[encoded data removed]",
      "text/plain": [
       "<Figure size 432x288 with 1 Axes>"
      ]
     },
     "metadata": {
      "needs_background": "light"
     },
     "output_type": "display_data"
    }
   ],
   "source": [
    "df.hist([\"platform_os\"]);"
   ]
  },
  {
   "cell_type": "code",
   "execution_count": 46,
   "id": "0757cb14",
   "metadata": {},
   "outputs": [
    {
     "data": {
      "image/png": "[encoded data removed]",
      "text/plain": [
       "<Figure size 432x288 with 1 Axes>"
      ]
     },
     "metadata": {
      "needs_background": "light"
     },
     "output_type": "display_data"
    }
   ],
   "source": [
    "df.hist([\"yes\"]);"
   ]
  },
  {
   "cell_type": "code",
   "execution_count": 59,
   "id": "9e7cd2dc",
   "metadata": {},
   "outputs": [
    {
     "data": {
      "image/png": "[encoded data removed]",
      "text/plain": [
       "<Figure size 432x288 with 1 Axes>"
      ]
     },
     "metadata": {
      "needs_background": "light"
     },
     "output_type": "display_data"
    }
   ],
   "source": [
    "df.hist([\"no\"]);"
   ]
  },
  {
   "cell_type": "markdown",
   "id": "3ca1cbc5",
   "metadata": {},
   "source": [
    "5. Assessment of the statistical significance of an A/B test is dependent on what kind of probability \n",
    "distribution the experimental data follows. Given your answer above, which statistical \n",
    "tests (z-test, t-test, etc.) are appropriate to use for this project?\n"
   ]
  },
  {
   "cell_type": "code",
   "execution_count": 62,
   "id": "078117b0",
   "metadata": {},
   "outputs": [],
   "source": [
    "import statsmodels.api as sm"
   ]
  },
  {
   "cell_type": "code",
   "execution_count": 83,
   "id": "d6caeaee",
   "metadata": {},
   "outputs": [],
   "source": [
    "conditions = [df.yes == 1 , df.no == 1]\n",
    "choices = [1, 0]\n",
    "df['y'] = np.select(conditions, choices, default=2)"
   ]
  },
  {
   "cell_type": "code",
   "execution_count": 86,
   "id": "6d0e7fa3",
   "metadata": {},
   "outputs": [],
   "source": [
    "y = df.y\n",
    "x = df[['hour','platform_os','yes','no']]\n",
    "x = sm.add_constant(x)\n",
    "model = sm.OLS(y, x).fit()\n",
    "result =  model.summary()"
   ]
  },
  {
   "cell_type": "code",
   "execution_count": 87,
   "id": "1fb18973",
   "metadata": {},
   "outputs": [
    {
     "data": {
      "text/html": [
       "<table class=\"simpletable\">\n",
       "<caption>OLS Regression Results</caption>\n",
       "<tr>\n",
       "  <th>Dep. Variable:</th>            <td>y</td>        <th>  R-squared:         </th>  <td>   1.000</td> \n",
       "</tr>\n",
       "<tr>\n",
       "  <th>Model:</th>                   <td>OLS</td>       <th>  Adj. R-squared:    </th>  <td>   1.000</td> \n",
       "</tr>\n",
       "<tr>\n",
       "  <th>Method:</th>             <td>Least Squares</td>  <th>  F-statistic:       </th>  <td>7.345e+32</td>\n",
       "</tr>\n",
       "<tr>\n",
       "  <th>Date:</th>             <td>Mon, 16 May 2022</td> <th>  Prob (F-statistic):</th>   <td>  0.00</td>  \n",
       "</tr>\n",
       "<tr>\n",
       "  <th>Time:</th>                 <td>15:03:16</td>     <th>  Log-Likelihood:    </th> <td>2.6770e+05</td>\n",
       "</tr>\n",
       "<tr>\n",
       "  <th>No. Observations:</th>      <td>  8077</td>      <th>  AIC:               </th> <td>-5.354e+05</td>\n",
       "</tr>\n",
       "<tr>\n",
       "  <th>Df Residuals:</th>          <td>  8072</td>      <th>  BIC:               </th> <td>-5.354e+05</td>\n",
       "</tr>\n",
       "<tr>\n",
       "  <th>Df Model:</th>              <td>     4</td>      <th>                     </th>      <td> </td>    \n",
       "</tr>\n",
       "<tr>\n",
       "  <th>Covariance Type:</th>      <td>nonrobust</td>    <th>                     </th>      <td> </td>    \n",
       "</tr>\n",
       "</table>\n",
       "<table class=\"simpletable\">\n",
       "<tr>\n",
       "       <td></td>          <th>coef</th>     <th>std err</th>      <th>t</th>      <th>P>|t|</th>  <th>[0.025</th>    <th>0.975]</th>  \n",
       "</tr>\n",
       "<tr>\n",
       "  <th>const</th>       <td>    2.0000</td> <td>  2.9e-16</td> <td>  6.9e+15</td> <td> 0.000</td> <td>    2.000</td> <td>    2.000</td>\n",
       "</tr>\n",
       "<tr>\n",
       "  <th>hour</th>        <td>-1.095e-16</td> <td>  1.9e-18</td> <td>  -57.765</td> <td> 0.000</td> <td>-1.13e-16</td> <td>-1.06e-16</td>\n",
       "</tr>\n",
       "<tr>\n",
       "  <th>platform_os</th> <td>  1.84e-15</td> <td> 4.86e-17</td> <td>   37.874</td> <td> 0.000</td> <td> 1.74e-15</td> <td> 1.94e-15</td>\n",
       "</tr>\n",
       "<tr>\n",
       "  <th>yes</th>         <td>   -1.0000</td> <td> 4.26e-17</td> <td>-2.35e+16</td> <td> 0.000</td> <td>   -1.000</td> <td>   -1.000</td>\n",
       "</tr>\n",
       "<tr>\n",
       "  <th>no</th>          <td>   -2.0000</td> <td> 3.96e-17</td> <td>-5.05e+16</td> <td> 0.000</td> <td>   -2.000</td> <td>   -2.000</td>\n",
       "</tr>\n",
       "</table>\n",
       "<table class=\"simpletable\">\n",
       "<tr>\n",
       "  <th>Omnibus:</th>       <td>398.131</td> <th>  Durbin-Watson:     </th> <td>   1.367</td> \n",
       "</tr>\n",
       "<tr>\n",
       "  <th>Prob(Omnibus):</th> <td> 0.000</td>  <th>  Jarque-Bera (JB):  </th> <td> 510.259</td> \n",
       "</tr>\n",
       "<tr>\n",
       "  <th>Skew:</th>          <td> 0.497</td>  <th>  Prob(JB):          </th> <td>1.58e-111</td>\n",
       "</tr>\n",
       "<tr>\n",
       "  <th>Kurtosis:</th>      <td> 3.726</td>  <th>  Cond. No.          </th> <td>    380.</td> \n",
       "</tr>\n",
       "</table><br/><br/>Notes:<br/>[1] Standard Errors assume that the covariance matrix of the errors is correctly specified."
      ],
      "text/plain": [
       "<class 'statsmodels.iolib.summary.Summary'>\n",
       "\"\"\"\n",
       "                            OLS Regression Results                            \n",
       "==============================================================================\n",
       "Dep. Variable:                      y   R-squared:                       1.000\n",
       "Model:                            OLS   Adj. R-squared:                  1.000\n",
       "Method:                 Least Squares   F-statistic:                 7.345e+32\n",
       "Date:                Mon, 16 May 2022   Prob (F-statistic):               0.00\n",
       "Time:                        15:03:16   Log-Likelihood:             2.6770e+05\n",
       "No. Observations:                8077   AIC:                        -5.354e+05\n",
       "Df Residuals:                    8072   BIC:                        -5.354e+05\n",
       "Df Model:                           4                                         \n",
       "Covariance Type:            nonrobust                                         \n",
       "===============================================================================\n",
       "                  coef    std err          t      P>|t|      [0.025      0.975]\n",
       "-------------------------------------------------------------------------------\n",
       "const           2.0000    2.9e-16    6.9e+15      0.000       2.000       2.000\n",
       "hour        -1.095e-16    1.9e-18    -57.765      0.000   -1.13e-16   -1.06e-16\n",
       "platform_os   1.84e-15   4.86e-17     37.874      0.000    1.74e-15    1.94e-15\n",
       "yes            -1.0000   4.26e-17  -2.35e+16      0.000      -1.000      -1.000\n",
       "no             -2.0000   3.96e-17  -5.05e+16      0.000      -2.000      -2.000\n",
       "==============================================================================\n",
       "Omnibus:                      398.131   Durbin-Watson:                   1.367\n",
       "Prob(Omnibus):                  0.000   Jarque-Bera (JB):              510.259\n",
       "Skew:                           0.497   Prob(JB):                    1.58e-111\n",
       "Kurtosis:                       3.726   Cond. No.                         380.\n",
       "==============================================================================\n",
       "\n",
       "Notes:\n",
       "[1] Standard Errors assume that the covariance matrix of the errors is correctly specified.\n",
       "\"\"\""
      ]
     },
     "execution_count": 87,
     "metadata": {},
     "output_type": "execute_result"
    }
   ],
   "source": [
    "result"
   ]
  },
  {
   "cell_type": "markdown",
   "id": "aa51d56f",
   "metadata": {},
   "source": [
    "6. In classical (frequentist) A/B testing, we use p-values to measure the significance of the experimental \n",
    "feature (being exposed to an ad in our case)  over the null hypothesis (the hypothesis that there is no \n",
    "difference in brand awareness between the exposed and control groups in the current case). \n",
    "How are p-values computed? What information do p-values provide? \n",
    "What are the  type-I and type-II errors you may have in the analysis? \n",
    "Can you comment on which error types p-values are related?\n"
   ]
  },
  {
   "cell_type": "markdown",
   "id": "e6805055",
   "metadata": {},
   "source": [
    "7. Perform data exploration to count unique values of categorical variables, \n",
    "make histogram, relational, and other necessary plots to help understand the data. \n",
    "For each of the plots you produce, write a description of what the plot shows in markdown cells.\n"
   ]
  },
  {
   "cell_type": "code",
   "execution_count": 100,
   "id": "da7e8a6f",
   "metadata": {},
   "outputs": [],
   "source": [
    "from scipy.stats import binom\n",
    "import matplotlib.pyplot as plt\n",
    "import scipy.stats as scs"
   ]
  },
  {
   "cell_type": "code",
   "execution_count": 101,
   "id": "d9ec9a12",
   "metadata": {},
   "outputs": [],
   "source": [
    "def cont_distribution(C_aware, C_total, C_cr, E_cr):\n",
    "        fig, ax = plt.subplots(figsize=(12,6))\n",
    "        x = np.linspace(C_aware-49, C_aware+50, 100)\n",
    "        y = scs.binom(C_total, C_cr).pmf(x)\n",
    "        ax.bar(x, y, alpha=0.5)\n",
    "        ax.axvline(x=E_cr * C_total, c='blue', alpha=0.75, linestyle='--')\n",
    "        plt.xlabel('Aware')\n",
    "        plt.ylabel('probability')\n",
    "        plt.show()"
   ]
  },
  {
   "cell_type": "code",
   "execution_count": 116,
   "id": "786acb09",
   "metadata": {},
   "outputs": [
    {
     "data": {
      "image/png": "[encoded data removed]",
      "text/plain": [
       "<Figure size 864x432 with 1 Axes>"
      ]
     },
     "metadata": {
      "needs_background": "light"
     },
     "output_type": "display_data"
    }
   ],
   "source": [
    "cont_distribution(322,4071,0.95,0.2)"
   ]
  },
  {
   "cell_type": "code",
   "execution_count": 105,
   "id": "a4b9e645",
   "metadata": {},
   "outputs": [],
   "source": [
    "def cont_exp_distribution(C_aware, E_aware, C_total, E_total, C_cr, E_cr) -> None:\n",
    "        fig, ax = plt.subplots(figsize=(12,6))\n",
    "        xC = np.linspace(C_aware-49, C_aware+50, 100)\n",
    "        yC = scs.binom(C_total, C_cr).pmf(xC)\n",
    "        ax.bar(xC, yC, alpha=0.5)\n",
    "        xE = np.linspace(E_aware-49, E_aware+50, 100)\n",
    "        yE = scs.binom(E_total, E_cr).pmf(xE)\n",
    "        ax.bar(xE, yE, alpha=0.5)\n",
    "        plt.xlabel('Aware')\n",
    "        plt.ylabel('probability')\n",
    "        #plt.show()"
   ]
  },
  {
   "cell_type": "code",
   "execution_count": 118,
   "id": "64cfc7cb",
   "metadata": {},
   "outputs": [
    {
     "data": {
      "image/png": "[encoded data removed]",
      "text/plain": [
       "<Figure size 864x432 with 1 Axes>"
      ]
     },
     "metadata": {
      "needs_background": "light"
     },
     "output_type": "display_data"
    }
   ],
   "source": [
    "cont_exp_distribution(322,389,4071,4006,0.95,0.1)"
   ]
  },
  {
   "cell_type": "code",
   "execution_count": 138,
   "id": "69df0234",
   "metadata": {},
   "outputs": [],
   "source": [
    "class PlottingFunctions:\n",
    "    def _init_(self):\n",
    "        \"\"\"\n",
    "        Initializing PlottingFunctions class\n",
    "        \"\"\"\n",
    "        \n",
    "    def plot_norm_dist(self, ax, mu, std, with_CI=False, sig_level=0.05, label=None):\n",
    "        \"\"\"\n",
    "            Adds a normal distribution to the axes provided\n",
    "            Example:\n",
    "                plot_norm_dist(ax, 0, 1)  # plots a standard normal distribution\n",
    "            Parameters:\n",
    "                ax (matplotlib axes)\n",
    "                mu (float): mean of the normal distribution\n",
    "                std (float): standard deviation of the normal distribution\n",
    "            Returns:\n",
    "                None: the function adds a plot to the axes object provided\n",
    "        \"\"\"\n",
    "        x = np.linspace(mu - 12 * std, mu + 12 * std, 1000)\n",
    "        y = scs.norm(mu, std).pdf(x)\n",
    "        ax.plot(x, y, label=label)\n",
    "\n",
    "        if with_CI:\n",
    "            self.plot_CI(ax, mu, std, sig_level=sig_level)\n",
    "            \n",
    "    def plot_CI(self, ax, mu, s, sig_level=0.05, color='grey'):\n",
    "        \"\"\"\n",
    "        Calculates the two-tailed confidence interval and adds the plot to\n",
    "        an axes object.\n",
    "        Example:\n",
    "            plot_CI(ax, mu=0, s=stderr, sig_level=0.05)\n",
    "        Parameters:\n",
    "            ax (matplotlib axes)\n",
    "            mu (float): mean\n",
    "            s (float): standard deviation\n",
    "        Returns:\n",
    "            None: the function adds a plot to the axes object provided\n",
    "        \"\"\"\n",
    "        left, right = ABT.confidence_interval(sample_mean=mu, sample_std=s,\n",
    "                                      sig_level=sig_level)\n",
    "        ax.axvline(left, c=color, linestyle='--', alpha=0.5)\n",
    "        ax.axvline(right, c=color, linestyle='--', alpha=0.5)\n",
    "        \n",
    "    def plot_null(self, ax, stderr):\n",
    "        \"\"\"\n",
    "        Plots the null hypothesis distribution where if there is no real change,\n",
    "        the distribution of the differences between the test and the control groups\n",
    "        will be normally distributed.\n",
    "        The confidence band is also plotted.\n",
    "        Example:\n",
    "            plot_null(ax, stderr)\n",
    "        Parameters:\n",
    "            ax (matplotlib axes)\n",
    "            stderr (float): the pooled standard error of the control and test group\n",
    "        Returns:\n",
    "            None: the function adds a plot to the axes object provided\n",
    "        \"\"\"\n",
    "        self.plot_norm_dist(ax, 0, stderr, label=\"Null\")\n",
    "        self.plot_CI(ax, mu=0, s=stderr, sig_level=0.05)\n",
    "        \n",
    "    def plot_alt(self, ax, stderr, mde):\n",
    "        \"\"\"\n",
    "        Plots the alternative hypothesis distribution where if there is a real\n",
    "        change, the distribution of the differences between the test and the\n",
    "        control groups will be normally distributed and centered around d_hat\n",
    "        The confidence band is also plotted.\n",
    "        Example:\n",
    "            plot_alt(ax, stderr, mde=0.025)\n",
    "        Parameters:\n",
    "            ax (matplotlib axes)\n",
    "            stderr (float): the pooled standard error of the control and test group\n",
    "        Returns:\n",
    "            None: the function adds a plot to the axes object provided\n",
    "        \"\"\"\n",
    "        self.plot_norm_dist(ax, mde, stderr, label=\"Alternative\")\n",
    "        \n",
    "    def show_area(ax, mde, stderr, sig_level, area_type=None):\n",
    "        \"\"\"\n",
    "        Fill between upper significance boundary and distribution for\n",
    "        alternative hypothesis\n",
    "        \"\"\"\n",
    "        left, right = ABT.confidence_interval(sample_mean=0, sample_std=stderr,\n",
    "                                      sig_level=sig_level)\n",
    "        x = np.linspace(-12 * stderr, 12 * stderr, 1000)\n",
    "        null = ABT.ab_dist(stderr, 'control')\n",
    "        alternative = ABT.ab_dist(stderr, mde, 'exposed')\n",
    "        \n",
    "        # if area_type is power\n",
    "        # Fill between upper significance boundary and distribution for alternative\n",
    "        # hypothesis\n",
    "        if area_type == 'power':\n",
    "            ax.fill_between(x, 0, alternative.pdf(x), color='green', alpha='0.25',\n",
    "                            where=(x > right))\n",
    "            ax.text(-5 * stderr, null.pdf(0),\n",
    "                    'power = {0:.3f}'.format(1 - alternative.cdf(right)),\n",
    "                    fontsize=12, ha='right', color='k')\n",
    "            \n",
    "         # if area_type is alpha\n",
    "         # Fill between upper significance boundary and distribution for null\n",
    "         # hypothesis\n",
    "        if area_type == 'alpha':\n",
    "             ax.fill_between(x, 0, null.pdf(x), color='blue', alpha='0.25',\n",
    "                             where=(x > right))\n",
    "             ax.text(-3 * stderr, null.pdf(0),\n",
    "                     'alpha = {0:.3f}'.format(1 - null.cdf(right)),\n",
    "                     fontsize=12, ha='right', color='k')\n",
    "\n",
    "        # if area_type is beta\n",
    "        # Fill between distribution for alternative hypothesis and upper\n",
    "        # significance boundary\n",
    "        if area_type == 'beta':\n",
    "            ax.fill_between(x, 0, alternative.pdf(x), color='red', alpha='0.25',\n",
    "                            where=(x < right))\n",
    "            ax.text(-1 * stderr, null.pdf(0),\n",
    "                    'beta = {0:.3f}'.format(alternative.cdf(right)),\n",
    "                    fontsize=12, ha='right', color='k')"
   ]
  },
  {
   "cell_type": "code",
   "execution_count": 139,
   "id": "02a81aff",
   "metadata": {},
   "outputs": [],
   "source": [
    "class ABTesting:\n",
    "    def _init_(self):\n",
    "        \"\"\"\n",
    "        Initializing ABTesting class with functions used on ABTesting\n",
    "        \"\"\"\n",
    "        \n",
    "    def pooled_prob(self, Control, Exposed, X_A, X_B):\n",
    "        \"\"\"Returns pooled probability for two samples\n",
    "        \"\"\"\n",
    "        return (X_A + X_B) / (Control + Exposed)\n",
    "    \n",
    "    def pooled_SE(self, Control, Exposed, X_A, X_B):\n",
    "        \"\"\"Returns the pooled standard error for two samples\"\"\"\n",
    "        p_hat = self.pooled_prob(Control, Exposed, X_A, X_B)\n",
    "        SE = np.sqrt(p_hat * (1 - p_hat) * (1/Control + 1/Exposed))\n",
    "        return SE\n",
    "    \n",
    "    def z_val(self, sig_level=0.05, two_tailed=True):\n",
    "        \"\"\"\n",
    "            Returns the z value for a given significance level\n",
    "        \"\"\"\n",
    "        z_dist = scs.norm()\n",
    "        if two_tailed:\n",
    "            sig_level = sig_level/2\n",
    "            area = 1 - sig_level\n",
    "        else:\n",
    "            area = 1 - sig_level\n",
    "            \n",
    "        z = z_dist.ppf(area)\n",
    "        \n",
    "        return z\n",
    "    \n",
    "    def confidence_interval(self, sample_mean=0, sample_std=1, sample_size=1,\n",
    "                            sig_level=0.05):\n",
    "        \"\"\"\n",
    "            Returns the confidence interval as a tuple\n",
    "        \"\"\"\n",
    "        z = self.z_val(sig_level)\n",
    "        \n",
    "        left = sample_mean - z * sample_std/np.sqrt(sample_size)\n",
    "        right = sample_mean + z * sample_std/np.sqrt(sample_size)\n",
    "        \n",
    "        return (left,right)\n",
    "    \n",
    "    def ab_dist(self, stderr, mde=0, group_type='control'):\n",
    "        \"\"\"\n",
    "           Returns a distribution object depending on group type\n",
    "           Examples:\n",
    "           Parameters:\n",
    "               stderr (float): pooled standard error of two independent samples\n",
    "               mde (float): the mean difference between two independent samples\n",
    "               group_type (string): 'control' and 'exposed' are supported\n",
    "           Returns:\n",
    "               dist (scipy.stats distribution object) \n",
    "        \"\"\"\n",
    "        if group_type == 'control':\n",
    "            sample_mean = 0\n",
    "\n",
    "        elif group_type == 'exposed':\n",
    "            sample_mean = mde\n",
    "            \n",
    "        # create a normal distribution which is dependent on mean and std dev\n",
    "        dist = scs.norm(sample_mean, stderr)\n",
    "        \n",
    "        return dist\n",
    "    \n",
    "    def p_val(self, Control, Exposed, p_A, p_B):\n",
    "        \"\"\"\n",
    "            Returns the p_value for an A/B test\n",
    "        \"\"\"\n",
    "        return scs.binom(Control, p_A).pmf(p_B * Exposed)"
   ]
  },
  {
   "cell_type": "code",
   "execution_count": 145,
   "id": "bc9f3e4b",
   "metadata": {},
   "outputs": [],
   "source": [
    "class HypothesisPlot:\n",
    "    def _init_(self):\n",
    "        \"\"\"\n",
    "        Initializing HypothesisPlot class\n",
    "        \"\"\"\n",
    "        \n",
    "    def hypo_plot(self, Control, Exposed, bcr, mde, sig_level=0.05, show_power=False, show_beta=False,\n",
    "                  show_alpha=False, show_p_value=False, show_legend=True):\n",
    "        \"\"\"\n",
    "        Example plot of AB test\n",
    "        Example:\n",
    "            abplot(n=4000, bcr=0.11, mde=0.03)\n",
    "        Parameters:\n",
    "            n (int): total sample size for both control and test groups (N_A + N_B)\n",
    "            bcr (float): base conversion rate; conversion rate of control\n",
    "            mde: difference in conversion rate between the control and test\n",
    "                groups. It is the **minimal detectable effect** when\n",
    "                calculating minimum sample size or **lift** when discussing\n",
    "                positive improvement desired from launching a change.\n",
    "        Returns:\n",
    "            None: the function plots an AB test as two distributions for\n",
    "            visualization purposes\n",
    "        \"\"\"\n",
    "        #create a plot object\n",
    "        fig, ax = plt.subplots(figsize=(12, 6))\n",
    "        \n",
    "        # define parameters to find pooled standard error\n",
    "        X_C = bcr * Control\n",
    "        X_E = (bcr + mde) * Exposed\n",
    "        stderr = ABT.pooled_SE(Control, Exposed, X_C, X_E)\n",
    "        \n",
    "        # plot the distribution of the null and alternative hypothesis\n",
    "        PLTF.plot_null(ax, stderr)\n",
    "        PLTF.plot_alt(ax, stderr, mde)\n",
    "        \n",
    "        # set extent of plot area\n",
    "        ax.set_xlim(-8 * stderr, 8 * stderr)\n",
    "        \n",
    "        # shade areas according to user input\n",
    "#         if show_power:\n",
    "#             import pdb;pdb.set_trace()\n",
    "#             PLTF.show_area(ax, mde, stderr, sig_level, area_type='power')\n",
    "#         if show_alpha:\n",
    "#             PLTF.show_area(ax, mde, stderr, sig_level, area_type='alpha')\n",
    "#         if show_beta:\n",
    "#             PLTF.show_area(ax, mde, stderr, sig_level, area_type='beta')\n",
    "            \n",
    "        # show p_value based on the binomial distributions for the two groups\n",
    "        if show_p_value:\n",
    "            null = ABT.ab_dist(stderr, 'control')\n",
    "            p_value = ABT.p_val(Control, Exposed, bcr, bcr+mde)\n",
    "            ax.text(3 * stderr, null.pdf(0),\n",
    "                    'p-value = {0:.3f}'.format(p_value),\n",
    "                    fontsize=12, ha='left')\n",
    "            \n",
    "        # option to show legend\n",
    "        if show_legend:\n",
    "            plt.legend()\n",
    "\n",
    "        plt.xlabel('d')\n",
    "        plt.ylabel('PDF')\n",
    "        plt.show()\n",
    "        "
   ]
  },
  {
   "cell_type": "code",
   "execution_count": 146,
   "id": "1d75589e",
   "metadata": {},
   "outputs": [],
   "source": [
    "HPP = HypothesisPlot() "
   ]
  },
  {
   "cell_type": "code",
   "execution_count": 147,
   "id": "06cf3f92",
   "metadata": {},
   "outputs": [],
   "source": [
    "\n",
    "ABT = ABTesting() \n",
    "\n",
    "\n",
    "PLTF = PlottingFunctions() \n",
    "#plot_null, plot_alt, show_area"
   ]
  },
  {
   "cell_type": "code",
   "execution_count": 158,
   "id": "9debb449",
   "metadata": {},
   "outputs": [],
   "source": [
    "def null_alt_distribution(C_total, E_total, C_cr, E_cr) -> None:\n",
    "    bcr = C_cr\n",
    "    mde = E_cr - C_cr\n",
    "    HPP.hypo_plot(C_total, E_total, bcr, mde, show_power=True, show_beta=True, show_alpha=True, show_p_value=True)"
   ]
  },
  {
   "cell_type": "code",
   "execution_count": 159,
   "id": "8bf34bbf",
   "metadata": {},
   "outputs": [
    {
     "data": {
      "image/png": "[encoded data removed]",
      "text/plain": [
       "<Figure size 864x432 with 1 Axes>"
      ]
     },
     "metadata": {
      "needs_background": "light"
     },
     "output_type": "display_data"
    }
   ],
   "source": [
    "null_alt_distribution(4071,4006,0.05,0.1)"
   ]
  },
  {
   "cell_type": "code",
   "execution_count": 160,
   "id": "610a1f41",
   "metadata": {},
   "outputs": [
    {
     "ename": "IndentationError",
     "evalue": "unexpected indent (3815102859.py, line 34)",
     "output_type": "error",
     "traceback": [
      "\u001b[0;36m  Input \u001b[0;32mIn [160]\u001b[0;36m\u001b[0m\n\u001b[0;31m    if t1<=1:\u001b[0m\n\u001b[0m    ^\u001b[0m\n\u001b[0;31mIndentationError\u001b[0m\u001b[0;31m:\u001b[0m unexpected indent\n"
     ]
    }
   ],
   "source": [
    "#REFERENCE\n",
    "# A Conditional Sequential Test for the Equality of Two Binomial Proportions\n",
    "# William Q. Meeker, Jr\n",
    "# Journal of the Royal Statistical Society. Series C (Applied Statistics)\n",
    "# Vol. 30, No. 2 (1981), pp. 109-115\n",
    "class ConditionalSPRT:\n",
    "    def __init__(self,exposed,control,odd_ratio,alpha=0.05,beta=0.10,stop=None):\n",
    "        self.exposed = exposed\n",
    "        self.control = control\n",
    "        self.odd_ration = odd_ration\n",
    "            \n",
    "    def ConditionalSPRT(self,x,y,t1,alpha=0.05,beta=0.10,stop=None):\n",
    "      \"\"\"\n",
    "       #\n",
    "      # Meeker's SPRT for matched `x` (treatment) and `y` (control), \n",
    "      # both indicator responses, likelihood ratio t1, error rates alpha and beta,\n",
    "      # and (optionally) truncation after trial stop.\n",
    "      #\n",
    "      # The return variable contains these elements:\n",
    "      #(outcome,n, k,l,u,truncated,truncate_decision,x1,r,stats,limits)\n",
    "      # * outcome:   \"continue,\" \"reject null,\" or \"accept null\".\n",
    "      # * n: number observation used for the decsion\n",
    "      # * k:     Index at which the outcome decision was made (or NA)\n",
    "      # * l:     lower critical point\n",
    "      # * u:     upper critical point\n",
    "      # * truncate_decision: The approximate decision made after truncate point\n",
    "      # * truncated: If the test was truncated, the value of `n.0`; NA otherwise\n",
    "      # * x1:       Original data `x`, cumulative\n",
    "      # * r:         Cumulative sum of x+y\n",
    "      # * stats:     Series of cumulative sums of log probability ratios\n",
    "      # * limits:    Two rows giving lower and upper critical limits, respectively\n",
    "      #\n",
    "      \"\"\"\n",
    "            if t1<=1:\n",
    "                printLog('warning',\"Odd ratio should exceed 1.\")\n",
    "            if (alpha >0.5) | (beta >0.5):\n",
    "                printLog('warning',\"Unrealistic values of alpha or beta were passed.\"\n",
    "                         +\" You should have good reason to use large alpha & beta values\")\n",
    "            if stop!=None:\n",
    "                stop=math.floor(n0)\n",
    "\n",
    "            def comb(n, k):\n",
    "                return factorial(n) // factorial(k) // factorial(n - k)\n",
    "\n",
    "            def lchoose(b, j):\n",
    "                a=[]\n",
    "                if (type(j) is list) | (isinstance(j,np.ndarray)==True):\n",
    "                    if len(j)<2:\n",
    "                        j=j[0]\n",
    "                if (type(j) is list) | (isinstance(j,np.ndarray)==True):\n",
    "                    for k in j:\n",
    "                        n=b\n",
    "                        if (0 <= k) & (k<= n):\n",
    "                            a.append(math.log(comb(n,k)))\n",
    "                        else:\n",
    "                            a.append(0)\n",
    "                else:\n",
    "                    n=b\n",
    "                    k=j\n",
    "                    if (0 <= k) & (k<= n):\n",
    "                        a.append(math.log(comb(n,k)))\n",
    "                    else:\n",
    "                        a.append(0)\n",
    "\n",
    "                return np.array(a)\n",
    "\n",
    "            def g(x,r,n,t1,t0=1):\n",
    "              \"\"\"\n",
    "             #\n",
    "              # Meeker's (1981) function `g`, the log probability ratio.\n",
    "              # \n",
    "              \"\"\"\n",
    "                return -math.log(h(x,r,n,t1))+math.log(h(x,r,n,t0))\n",
    "\n",
    "            def h(x,r,n,t=1):\n",
    "              \"\"\"\n",
    "              #\n",
    "              # Reciprocal of Meeker's (1981) function `h`: the conditional probability of \n",
    "              # `x` given `r` and `n`, when the odds ratio is `t`.\n",
    "              #\n",
    "              # `x` is his \"x1\", the number of positives in `n` control trials.\n",
    "              # `r` is the total number of positives.\n",
    "              # `n` is the number of (control, treatment) pairs.\n",
    "              # `t` is the odds ratio.\n",
    "              #\n",
    "              \"\"\"\n",
    "                return f(r,n,t,offset=ftermlog(x,r,n,t))\n",
    "\n",
    "            def f(r,n,t,offset=0):\n",
    "              \"\"\"#\n",
    "              # Meeker's (1981) function exp(F(r,n,t)), proportional to the probability of \n",
    "              #  `r` (=x1+x2) in `n` paired trials with an odds ratio of `t`.\n",
    "              #\n",
    "              # This function does *not* vectorize over its arguments.\n",
    "              #\"\"\"\n",
    "                upper=max(0,r-n)\n",
    "                lower=min(n,r)\n",
    "                rng=list(range(upper,lower+1))\n",
    "                return np.sum(fterm(rng,r,n,t,offset))\n",
    "\n",
    "            def fterm(j,r,n,t,offset=0):\n",
    "                ftlog=ftermlog(j,r,n,t,offset)\n",
    "                return np.array([math.exp(ex) for ex in ftlog])\n",
    "\n",
    "            def ftermlog(j,r,n,t,offset=0):\n",
    "              \"\"\"\n",
    "              #\n",
    "              # Up to an additive constant, the log probability that (x1, x1+x2) = (j, r) \n",
    "              # in `n` paired trials with odds ratio of `t`.\n",
    "              #\n",
    "              # `offset` is used to adjust the result to avoid under/overflow.\n",
    "              #\n",
    "              \"\"\"\n",
    "                xx=r-j\n",
    "                lch=lchoose(n,j)\n",
    "                lchdiff=lchoose(n,xx)\n",
    "                lg=np.array(j)*math.log(t)\n",
    "                lgsum=lch+lchdiff\n",
    "                lgsum2=lgsum+lg\n",
    "                lgdiff=lgsum2-offset\n",
    "\n",
    "                return lgdiff\n",
    "\n",
    "            def logf(r,n,t,offset=0):\n",
    "              \"\"\"\n",
    "              #\n",
    "              # A protected vesion of log(f), Meeker's function `F`.\n",
    "              #\n",
    "              \"\"\"\n",
    "                z=f(r,n,t,offset)\n",
    "                if z>0:\n",
    "                    return math.log(z)\n",
    "                else:\n",
    "                    return np.nan\n",
    "\n",
    "            def clowerUpper(r,n,t1c,t0=1,alpha=0.05,beta=0.10):\n",
    "              \"\"\"\n",
    "               #\n",
    "              # Meeker's (1981) functions c_L(r,n) and c_U(r,n), the  critical values for x1.\n",
    "              # 0 <= r <= 2n; t1 >= t0 > 0.\n",
    "              #\n",
    "              \"\"\"\n",
    "                offset=ftermlog(math.ceil(r/2),r,n,t1c)\n",
    "                z=logf(r,n,t1c,logf(r,n,t0,offset)+offset)\n",
    "                a=-math.log(alpha/(1-beta))\n",
    "                b=math.log(beta/(1-alpha))\n",
    "                lower=b\n",
    "                upper=1+a\n",
    "                return (np.array([lower,upper])+z)/math.log(t1c/t0)\n",
    "\n",
    "            l=math.log(beta/(1-alpha))\n",
    "            u=-math.log(alpha/(1-beta))\n",
    "            sample_size=min(len(x),len(y))\n",
    "            n=np.array(range(1,sample_size+1))\n",
    "\n",
    "            if stop!=None:\n",
    "                n=np.array([z for z in n if z<=stop])\n",
    "            x1=np.cumsum(x[n-1])\n",
    "            r=x1+np.cumsum(y[n-1])\n",
    "            stats=np.array(list(map(g,x1, r, n, [t1]*len(x1)))) #recurcively calls g\n",
    "             #\n",
    "              # Perform the test by finding the first index, if any, at which `stats`\n",
    "              # falls outside the open interval (l, u).\n",
    "              #\n",
    "            clu=list(map(clowerUpper,r,n,[t1]*len(r),[1]*len(r),[alpha]*len(r), [beta]*len(r)))\n",
    "            limits=[]\n",
    "            for v in clu:\n",
    "                inArray=[]\n",
    "                for vin in v:\n",
    "                    inArray.append(math.floor(vin))\n",
    "                limits.append(np.array(inArray))\n",
    "            limits=np.array(limits)\n",
    "\n",
    "            k=np.where((stats>=u) | (stats<=l))\n",
    "            cvalues=stats[k]\n",
    "            if cvalues.shape[0]<1:\n",
    "                k= np.nan\n",
    "                outcome='Unable to conclude.Needs more sample.'\n",
    "            else:\n",
    "                k=np.min(k)\n",
    "                if stats[k]>=u:\n",
    "                    outcome=f'Exposed group produced a statistically significant increase.'\n",
    "                else:\n",
    "                    outcome='Their is no statistically significant difference between two test groups'\n",
    "            if (stop!=None) & (k==np.nan):\n",
    "              #\n",
    "              # Truncate at trial stop, using Meeker's H0-conservative formula (2.2).\n",
    "              # Leave k=NA to indicate the decision was made due to truncation.\n",
    "              #\n",
    "                c1=clowerUpper(r,stop,t1,alpha,beta)\n",
    "                c1=math.floor(np.mean(c1)-0.5)\n",
    "                if x1[n0]<=c1:\n",
    "                    truncate_decision='h0'\n",
    "                    outcome='Maximum Limit Decision. The aproximate decision point shows their is no statistically significant difference between two test groups'\n",
    "                else:\n",
    "                    truncate_decision='h1'\n",
    "                    outcome=f'Maximum Limit Decision. The aproximate decision point shows exposed group produced a statistically significant increase.'\n",
    "                truncated=stop\n",
    "            else:\n",
    "                truncate_decision='Non'\n",
    "                truncated=np.nan\n",
    "            return (outcome,n, k,l,u,truncated,truncate_decision,x1,r,stats,limits)"
   ]
  }
 ],
 "metadata": {
  "kernelspec": {
   "display_name": "Python 3 (ipykernel)",
   "language": "python",
   "name": "python3"
  },
  "language_info": {
   "codemirror_mode": {
    "name": "ipython",
    "version": 3
   },
   "file_extension": ".py",
   "mimetype": "text/x-python",
   "name": "python",
   "nbconvert_exporter": "python",
   "pygments_lexer": "ipython3",
   "version": "3.9.7"
  }
 },
 "nbformat": 4,
 "nbformat_minor": 5
}
