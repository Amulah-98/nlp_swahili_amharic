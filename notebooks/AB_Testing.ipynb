{
 "cells": [
  {
   "cell_type": "markdown",
   "id": "d920a369",
   "metadata": {},
   "source": [
    "AB Testing\n"
   ]
  },
  {
   "cell_type": "code",
   "execution_count": 1,
   "id": "b1ca8a82",
   "metadata": {},
   "outputs": [],
   "source": [
    "import pandas as pd"
   ]
  },
  {
   "cell_type": "code",
   "execution_count": 2,
   "id": "8c34460c",
   "metadata": {},
   "outputs": [],
   "source": [
    "df = pd.read_csv(\"../data/AdSmartABdata.csv\")"
   ]
  },
  {
   "cell_type": "code",
   "execution_count": 41,
   "id": "e62db997",
   "metadata": {},
   "outputs": [
    {
     "data": {
      "text/html": [
       "<div>\n",
       "<style scoped>\n",
       "    .dataframe tbody tr th:only-of-type {\n",
       "        vertical-align: middle;\n",
       "    }\n",
       "\n",
       "    .dataframe tbody tr th {\n",
       "        vertical-align: top;\n",
       "    }\n",
       "\n",
       "    .dataframe thead th {\n",
       "        text-align: right;\n",
       "    }\n",
       "</style>\n",
       "<table border=\"1\" class=\"dataframe\">\n",
       "  <thead>\n",
       "    <tr style=\"text-align: right;\">\n",
       "      <th></th>\n",
       "      <th>auction_id</th>\n",
       "      <th>experiment</th>\n",
       "      <th>date</th>\n",
       "      <th>hour</th>\n",
       "      <th>device_make</th>\n",
       "      <th>platform_os</th>\n",
       "      <th>browser</th>\n",
       "      <th>yes</th>\n",
       "      <th>no</th>\n",
       "    </tr>\n",
       "  </thead>\n",
       "  <tbody>\n",
       "    <tr>\n",
       "      <th>8072</th>\n",
       "      <td>ffea24ec-cec1-43fb-b1d1-8f93828c2be2</td>\n",
       "      <td>exposed</td>\n",
       "      <td>2020-07-05</td>\n",
       "      <td>7</td>\n",
       "      <td>Generic Smartphone</td>\n",
       "      <td>6</td>\n",
       "      <td>Chrome Mobile</td>\n",
       "      <td>0</td>\n",
       "      <td>0</td>\n",
       "    </tr>\n",
       "    <tr>\n",
       "      <th>8073</th>\n",
       "      <td>ffea3210-2c3e-426f-a77d-0aa72e73b20f</td>\n",
       "      <td>control</td>\n",
       "      <td>2020-07-03</td>\n",
       "      <td>15</td>\n",
       "      <td>Generic Smartphone</td>\n",
       "      <td>6</td>\n",
       "      <td>Chrome Mobile</td>\n",
       "      <td>0</td>\n",
       "      <td>0</td>\n",
       "    </tr>\n",
       "    <tr>\n",
       "      <th>8074</th>\n",
       "      <td>ffeaa0f1-1d72-4ba9-afb4-314b3b00a7c7</td>\n",
       "      <td>control</td>\n",
       "      <td>2020-07-04</td>\n",
       "      <td>9</td>\n",
       "      <td>Generic Smartphone</td>\n",
       "      <td>6</td>\n",
       "      <td>Chrome Mobile</td>\n",
       "      <td>0</td>\n",
       "      <td>0</td>\n",
       "    </tr>\n",
       "    <tr>\n",
       "      <th>8075</th>\n",
       "      <td>ffeeed62-3f7c-4a6e-8ba7-95d303d40969</td>\n",
       "      <td>exposed</td>\n",
       "      <td>2020-07-05</td>\n",
       "      <td>15</td>\n",
       "      <td>Samsung SM-A515F</td>\n",
       "      <td>6</td>\n",
       "      <td>Samsung Internet</td>\n",
       "      <td>0</td>\n",
       "      <td>0</td>\n",
       "    </tr>\n",
       "    <tr>\n",
       "      <th>8076</th>\n",
       "      <td>fffbb9ff-568a-41a5-a0c3-6866592f80d8</td>\n",
       "      <td>control</td>\n",
       "      <td>2020-07-10</td>\n",
       "      <td>14</td>\n",
       "      <td>Samsung SM-G960F</td>\n",
       "      <td>6</td>\n",
       "      <td>Facebook</td>\n",
       "      <td>0</td>\n",
       "      <td>0</td>\n",
       "    </tr>\n",
       "  </tbody>\n",
       "</table>\n",
       "</div>"
      ],
      "text/plain": [
       "                                auction_id experiment        date  hour  \\\n",
       "8072  ffea24ec-cec1-43fb-b1d1-8f93828c2be2    exposed  2020-07-05     7   \n",
       "8073  ffea3210-2c3e-426f-a77d-0aa72e73b20f    control  2020-07-03    15   \n",
       "8074  ffeaa0f1-1d72-4ba9-afb4-314b3b00a7c7    control  2020-07-04     9   \n",
       "8075  ffeeed62-3f7c-4a6e-8ba7-95d303d40969    exposed  2020-07-05    15   \n",
       "8076  fffbb9ff-568a-41a5-a0c3-6866592f80d8    control  2020-07-10    14   \n",
       "\n",
       "             device_make  platform_os           browser  yes  no  \n",
       "8072  Generic Smartphone            6     Chrome Mobile    0   0  \n",
       "8073  Generic Smartphone            6     Chrome Mobile    0   0  \n",
       "8074  Generic Smartphone            6     Chrome Mobile    0   0  \n",
       "8075    Samsung SM-A515F            6  Samsung Internet    0   0  \n",
       "8076    Samsung SM-G960F            6          Facebook    0   0  "
      ]
     },
     "execution_count": 41,
     "metadata": {},
     "output_type": "execute_result"
    }
   ],
   "source": [
    "df.tail()"
   ]
  },
  {
   "cell_type": "code",
   "execution_count": 9,
   "id": "3442d421",
   "metadata": {},
   "outputs": [
    {
     "data": {
      "text/plain": [
       "(8077, 9)"
      ]
     },
     "execution_count": 9,
     "metadata": {},
     "output_type": "execute_result"
    }
   ],
   "source": [
    "# checking the size of the data\n",
    "df.shape"
   ]
  },
  {
   "cell_type": "code",
   "execution_count": 10,
   "id": "2c980f5d",
   "metadata": {},
   "outputs": [
    {
     "data": {
      "text/plain": [
       "auction_id     0\n",
       "experiment     0\n",
       "date           0\n",
       "hour           0\n",
       "device_make    0\n",
       "platform_os    0\n",
       "browser        0\n",
       "yes            0\n",
       "no             0\n",
       "dtype: int64"
      ]
     },
     "execution_count": 10,
     "metadata": {},
     "output_type": "execute_result"
    }
   ],
   "source": [
    "# checking for missing values\n",
    "df.isnull().sum()"
   ]
  },
  {
   "cell_type": "markdown",
   "id": "20666a89",
   "metadata": {},
   "source": [
    "1. Which online users belong to the control and exposed groups?"
   ]
  },
  {
   "cell_type": "code",
   "execution_count": 15,
   "id": "4f43cd6c",
   "metadata": {},
   "outputs": [
    {
     "data": {
      "text/plain": [
       "experiment\n",
       "control    4071\n",
       "exposed    4006\n",
       "Name: auction_id, dtype: int64"
      ]
     },
     "execution_count": 15,
     "metadata": {},
     "output_type": "execute_result"
    }
   ],
   "source": [
    "df.groupby(\"experiment\")[\"auction_id\"].count()"
   ]
  },
  {
   "cell_type": "markdown",
   "id": "17107237",
   "metadata": {},
   "source": [
    "2. How are the users targeted?\n"
   ]
  },
  {
   "cell_type": "markdown",
   "id": "a5f7914f",
   "metadata": {},
   "source": [
    "3. Could we use the counts of yes and no answers to make a judgement on which experiment is \n",
    "performing better? For example if #yes > #no for the exposed group than the control group, \n",
    "could we declare that the ad had a significant impact Why or why not?\n"
   ]
  },
  {
   "cell_type": "code",
   "execution_count": 20,
   "id": "ef3ad48d",
   "metadata": {},
   "outputs": [],
   "source": [
    "agg = df.groupby(\"experiment\").agg(\n",
    "{\"yes\":\"sum\"})"
   ]
  },
  {
   "cell_type": "code",
   "execution_count": 22,
   "id": "af859e77",
   "metadata": {},
   "outputs": [
    {
     "data": {
      "text/html": [
       "<div>\n",
       "<style scoped>\n",
       "    .dataframe tbody tr th:only-of-type {\n",
       "        vertical-align: middle;\n",
       "    }\n",
       "\n",
       "    .dataframe tbody tr th {\n",
       "        vertical-align: top;\n",
       "    }\n",
       "\n",
       "    .dataframe thead th {\n",
       "        text-align: right;\n",
       "    }\n",
       "</style>\n",
       "<table border=\"1\" class=\"dataframe\">\n",
       "  <thead>\n",
       "    <tr style=\"text-align: right;\">\n",
       "      <th></th>\n",
       "      <th>yes</th>\n",
       "    </tr>\n",
       "    <tr>\n",
       "      <th>experiment</th>\n",
       "      <th></th>\n",
       "    </tr>\n",
       "  </thead>\n",
       "  <tbody>\n",
       "    <tr>\n",
       "      <th>control</th>\n",
       "      <td>264</td>\n",
       "    </tr>\n",
       "    <tr>\n",
       "      <th>exposed</th>\n",
       "      <td>308</td>\n",
       "    </tr>\n",
       "  </tbody>\n",
       "</table>\n",
       "</div>"
      ],
      "text/plain": [
       "            yes\n",
       "experiment     \n",
       "control     264\n",
       "exposed     308"
      ]
     },
     "execution_count": 22,
     "metadata": {},
     "output_type": "execute_result"
    }
   ],
   "source": [
    "agg"
   ]
  },
  {
   "cell_type": "code",
   "execution_count": 24,
   "id": "513336d1",
   "metadata": {},
   "outputs": [],
   "source": [
    "agg = df.groupby(\"experiment\").agg(\n",
    "{\"no\":\"sum\"})"
   ]
  },
  {
   "cell_type": "code",
   "execution_count": 26,
   "id": "c1380be8",
   "metadata": {},
   "outputs": [
    {
     "data": {
      "text/html": [
       "<div>\n",
       "<style scoped>\n",
       "    .dataframe tbody tr th:only-of-type {\n",
       "        vertical-align: middle;\n",
       "    }\n",
       "\n",
       "    .dataframe tbody tr th {\n",
       "        vertical-align: top;\n",
       "    }\n",
       "\n",
       "    .dataframe thead th {\n",
       "        text-align: right;\n",
       "    }\n",
       "</style>\n",
       "<table border=\"1\" class=\"dataframe\">\n",
       "  <thead>\n",
       "    <tr style=\"text-align: right;\">\n",
       "      <th></th>\n",
       "      <th>no</th>\n",
       "    </tr>\n",
       "    <tr>\n",
       "      <th>experiment</th>\n",
       "      <th></th>\n",
       "    </tr>\n",
       "  </thead>\n",
       "  <tbody>\n",
       "    <tr>\n",
       "      <th>control</th>\n",
       "      <td>322</td>\n",
       "    </tr>\n",
       "    <tr>\n",
       "      <th>exposed</th>\n",
       "      <td>349</td>\n",
       "    </tr>\n",
       "  </tbody>\n",
       "</table>\n",
       "</div>"
      ],
      "text/plain": [
       "             no\n",
       "experiment     \n",
       "control     322\n",
       "exposed     349"
      ]
     },
     "execution_count": 26,
     "metadata": {},
     "output_type": "execute_result"
    }
   ],
   "source": [
    "agg"
   ]
  },
  {
   "cell_type": "markdown",
   "id": "da1a2951",
   "metadata": {},
   "source": [
    "4. What is the statistical process that generates the data? Which kind of statistical model will you \n",
    "use if you were to simulate the data?\n"
   ]
  },
  {
   "cell_type": "code",
   "execution_count": 49,
   "id": "2bab8541",
   "metadata": {},
   "outputs": [
    {
     "data": {
      "image/png": "[encoded data removed]",
      "text/plain": [
       "<Figure size 432x288 with 1 Axes>"
      ]
     },
     "metadata": {
      "needs_background": "light"
     },
     "output_type": "display_data"
    }
   ],
   "source": [
    "df.hist([\"hour\"]); # normal distribution"
   ]
  },
  {
   "cell_type": "code",
   "execution_count": 51,
   "id": "6443c0ad",
   "metadata": {},
   "outputs": [
    {
     "data": {
      "text/plain": [
       "8077"
      ]
     },
     "execution_count": 51,
     "metadata": {},
     "output_type": "execute_result"
    }
   ],
   "source": [
    "len(df.hour)"
   ]
  },
  {
   "cell_type": "code",
   "execution_count": 52,
   "id": "3c0e791a",
   "metadata": {},
   "outputs": [],
   "source": [
    "import numpy as np"
   ]
  },
  {
   "cell_type": "code",
   "execution_count": 56,
   "id": "20736d4c",
   "metadata": {},
   "outputs": [],
   "source": [
    "s = pd.DataFrame(np.random.normal(0, 1, 8077))"
   ]
  },
  {
   "cell_type": "code",
   "execution_count": 58,
   "id": "c6295597",
   "metadata": {},
   "outputs": [
    {
     "data": {
      "text/plain": [
       "array([[<AxesSubplot:title={'center':'0'}>]], dtype=object)"
      ]
     },
     "execution_count": 58,
     "metadata": {},
     "output_type": "execute_result"
    },
    {
     "data": {
      "image/png": "[encoded data removed]",
      "text/plain": [
       "<Figure size 432x288 with 1 Axes>"
      ]
     },
     "metadata": {
      "needs_background": "light"
     },
     "output_type": "display_data"
    }
   ],
   "source": [
    "s.hist()"
   ]
  },
  {
   "cell_type": "code",
   "execution_count": 44,
   "id": "24a7f606",
   "metadata": {},
   "outputs": [
    {
     "data": {
      "image/png": "[encoded data removed]",
      "text/plain": [
       "<Figure size 432x288 with 1 Axes>"
      ]
     },
     "metadata": {
      "needs_background": "light"
     },
     "output_type": "display_data"
    }
   ],
   "source": [
    "df.hist([\"platform_os\"]);"
   ]
  },
  {
   "cell_type": "code",
   "execution_count": 46,
   "id": "12bfe241",
   "metadata": {},
   "outputs": [
    {
     "data": {
      "image/png": "[encoded data removed]",
      "text/plain": [
       "<Figure size 432x288 with 1 Axes>"
      ]
     },
     "metadata": {
      "needs_background": "light"
     },
     "output_type": "display_data"
    }
   ],
   "source": [
    "df.hist([\"yes\"]);"
   ]
  },
  {
   "cell_type": "code",
   "execution_count": 59,
   "id": "877b88eb",
   "metadata": {},
   "outputs": [
    {
     "data": {
      "image/png": "[encoded data removed]",
      "text/plain": [
       "<Figure size 432x288 with 1 Axes>"
      ]
     },
     "metadata": {
      "needs_background": "light"
     },
     "output_type": "display_data"
    }
   ],
   "source": [
    "df.hist([\"no\"]);"
   ]
  },
  {
   "cell_type": "markdown",
   "id": "83b58094",
   "metadata": {},
   "source": [
    "5. Assessment of the statistical significance of an A/B test is dependent on what kind of probability \n",
    "distribution the experimental data follows. Given your answer above, which statistical \n",
    "tests (z-test, t-test, etc.) are appropriate to use for this project?\n"
   ]
  },
  {
   "cell_type": "code",
   "execution_count": 62,
   "id": "e5699839",
   "metadata": {},
   "outputs": [],
   "source": [
    "import statsmodels.api as sm"
   ]
  },
  {
   "cell_type": "code",
   "execution_count": 83,
   "id": "a42b90f3",
   "metadata": {},
   "outputs": [],
   "source": [
    "conditions = [df.yes == 1 , df.no == 1]\n",
    "choices = [1, 0]\n",
    "df['y'] = np.select(conditions, choices, default=2)"
   ]
  },
  {
   "cell_type": "code",
   "execution_count": 86,
   "id": "bec7053d",
   "metadata": {},
   "outputs": [],
   "source": [
    "y = df.y\n",
    "x = df[['hour','platform_os','yes','no']]\n",
    "x = sm.add_constant(x)\n",
    "model = sm.OLS(y, x).fit()\n",
    "result =  model.summary()"
   ]
  },
  {
   "cell_type": "code",
   "execution_count": 87,
   "id": "11a1ed08",
   "metadata": {},
   "outputs": [
    {
     "data": {
      "text/html": [
       "<table class=\"simpletable\">\n",
       "<caption>OLS Regression Results</caption>\n",
       "<tr>\n",
       "  <th>Dep. Variable:</th>            <td>y</td>        <th>  R-squared:         </th>  <td>   1.000</td> \n",
       "</tr>\n",
       "<tr>\n",
       "  <th>Model:</th>                   <td>OLS</td>       <th>  Adj. R-squared:    </th>  <td>   1.000</td> \n",
       "</tr>\n",
       "<tr>\n",
       "  <th>Method:</th>             <td>Least Squares</td>  <th>  F-statistic:       </th>  <td>7.345e+32</td>\n",
       "</tr>\n",
       "<tr>\n",
       "  <th>Date:</th>             <td>Mon, 16 May 2022</td> <th>  Prob (F-statistic):</th>   <td>  0.00</td>  \n",
       "</tr>\n",
       "<tr>\n",
       "  <th>Time:</th>                 <td>15:03:16</td>     <th>  Log-Likelihood:    </th> <td>2.6770e+05</td>\n",
       "</tr>\n",
       "<tr>\n",
       "  <th>No. Observations:</th>      <td>  8077</td>      <th>  AIC:               </th> <td>-5.354e+05</td>\n",
       "</tr>\n",
       "<tr>\n",
       "  <th>Df Residuals:</th>          <td>  8072</td>      <th>  BIC:               </th> <td>-5.354e+05</td>\n",
       "</tr>\n",
       "<tr>\n",
       "  <th>Df Model:</th>              <td>     4</td>      <th>                     </th>      <td> </td>    \n",
       "</tr>\n",
       "<tr>\n",
       "  <th>Covariance Type:</th>      <td>nonrobust</td>    <th>                     </th>      <td> </td>    \n",
       "</tr>\n",
       "</table>\n",
       "<table class=\"simpletable\">\n",
       "<tr>\n",
       "       <td></td>          <th>coef</th>     <th>std err</th>      <th>t</th>      <th>P>|t|</th>  <th>[0.025</th>    <th>0.975]</th>  \n",
       "</tr>\n",
       "<tr>\n",
       "  <th>const</th>       <td>    2.0000</td> <td>  2.9e-16</td> <td>  6.9e+15</td> <td> 0.000</td> <td>    2.000</td> <td>    2.000</td>\n",
       "</tr>\n",
       "<tr>\n",
       "  <th>hour</th>        <td>-1.095e-16</td> <td>  1.9e-18</td> <td>  -57.765</td> <td> 0.000</td> <td>-1.13e-16</td> <td>-1.06e-16</td>\n",
       "</tr>\n",
       "<tr>\n",
       "  <th>platform_os</th> <td>  1.84e-15</td> <td> 4.86e-17</td> <td>   37.874</td> <td> 0.000</td> <td> 1.74e-15</td> <td> 1.94e-15</td>\n",
       "</tr>\n",
       "<tr>\n",
       "  <th>yes</th>         <td>   -1.0000</td> <td> 4.26e-17</td> <td>-2.35e+16</td> <td> 0.000</td> <td>   -1.000</td> <td>   -1.000</td>\n",
       "</tr>\n",
       "<tr>\n",
       "  <th>no</th>          <td>   -2.0000</td> <td> 3.96e-17</td> <td>-5.05e+16</td> <td> 0.000</td> <td>   -2.000</td> <td>   -2.000</td>\n",
       "</tr>\n",
       "</table>\n",
       "<table class=\"simpletable\">\n",
       "<tr>\n",
       "  <th>Omnibus:</th>       <td>398.131</td> <th>  Durbin-Watson:     </th> <td>   1.367</td> \n",
       "</tr>\n",
       "<tr>\n",
       "  <th>Prob(Omnibus):</th> <td> 0.000</td>  <th>  Jarque-Bera (JB):  </th> <td> 510.259</td> \n",
       "</tr>\n",
       "<tr>\n",
       "  <th>Skew:</th>          <td> 0.497</td>  <th>  Prob(JB):          </th> <td>1.58e-111</td>\n",
       "</tr>\n",
       "<tr>\n",
       "  <th>Kurtosis:</th>      <td> 3.726</td>  <th>  Cond. No.          </th> <td>    380.</td> \n",
       "</tr>\n",
       "</table><br/><br/>Notes:<br/>[1] Standard Errors assume that the covariance matrix of the errors is correctly specified."
      ],
      "text/plain": [
       "<class 'statsmodels.iolib.summary.Summary'>\n",
       "\"\"\"\n",
       "                            OLS Regression Results                            \n",
       "==============================================================================\n",
       "Dep. Variable:                      y   R-squared:                       1.000\n",
       "Model:                            OLS   Adj. R-squared:                  1.000\n",
       "Method:                 Least Squares   F-statistic:                 7.345e+32\n",
       "Date:                Mon, 16 May 2022   Prob (F-statistic):               0.00\n",
       "Time:                        15:03:16   Log-Likelihood:             2.6770e+05\n",
       "No. Observations:                8077   AIC:                        -5.354e+05\n",
       "Df Residuals:                    8072   BIC:                        -5.354e+05\n",
       "Df Model:                           4                                         \n",
       "Covariance Type:            nonrobust                                         \n",
       "===============================================================================\n",
       "                  coef    std err          t      P>|t|      [0.025      0.975]\n",
       "-------------------------------------------------------------------------------\n",
       "const           2.0000    2.9e-16    6.9e+15      0.000       2.000       2.000\n",
       "hour        -1.095e-16    1.9e-18    -57.765      0.000   -1.13e-16   -1.06e-16\n",
       "platform_os   1.84e-15   4.86e-17     37.874      0.000    1.74e-15    1.94e-15\n",
       "yes            -1.0000   4.26e-17  -2.35e+16      0.000      -1.000      -1.000\n",
       "no             -2.0000   3.96e-17  -5.05e+16      0.000      -2.000      -2.000\n",
       "==============================================================================\n",
       "Omnibus:                      398.131   Durbin-Watson:                   1.367\n",
       "Prob(Omnibus):                  0.000   Jarque-Bera (JB):              510.259\n",
       "Skew:                           0.497   Prob(JB):                    1.58e-111\n",
       "Kurtosis:                       3.726   Cond. No.                         380.\n",
       "==============================================================================\n",
       "\n",
       "Notes:\n",
       "[1] Standard Errors assume that the covariance matrix of the errors is correctly specified.\n",
       "\"\"\""
      ]
     },
     "execution_count": 87,
     "metadata": {},
     "output_type": "execute_result"
    }
   ],
   "source": [
    "result"
   ]
  },
  {
   "cell_type": "markdown",
   "id": "2385b833",
   "metadata": {},
   "source": [
    "In classical (frequentist) A/B testing, we use p-values to measure the significance of the experimental \n",
    "feature (being exposed to an ad in our case)  over the null hypothesis (the hypothesis that there is no \n",
    "difference in brand awareness between the exposed and control groups in the current case). \n",
    "How are p-values computed? What information do p-values provide? \n",
    "What are the  type-I and type-II errors you may have in the analysis? \n",
    "Can you comment on which error types p-values are related?\n"
   ]
  },
  {
   "cell_type": "code",
   "execution_count": null,
   "id": "1d62a57b",
   "metadata": {},
   "outputs": [],
   "source": []
  }
 ],
 "metadata": {
  "kernelspec": {
   "display_name": "Python 3 (ipykernel)",
   "language": "python",
   "name": "python3"
  },
  "language_info": {
   "codemirror_mode": {
    "name": "ipython",
    "version": 3
   },
   "file_extension": ".py",
   "mimetype": "text/x-python",
   "name": "python",
   "nbconvert_exporter": "python",
   "pygments_lexer": "ipython3",
   "version": "3.9.7"
  }
 },
 "nbformat": 4,
 "nbformat_minor": 5
}
