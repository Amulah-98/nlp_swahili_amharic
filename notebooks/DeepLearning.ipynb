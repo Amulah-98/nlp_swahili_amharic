{
 "cells": [
  {
   "cell_type": "markdown",
   "id": "3af66be5",
   "metadata": {},
   "source": [
    "# Deep Learning\n",
    "Deep Learning techniques can be used to predict various outcomes including but not limited to future sales. Your task is to create a deep learning model of the Long Short Term Memory which is a type of Recurrent Neural Network .\n",
    "\n",
    "You can use either Tensorflow or Pytorch libraries for model building. The model should not be very deep (Two layers) due to the computational requirements, it should comfortably run in google colab."
   ]
  },
  {
   "cell_type": "code",
   "execution_count": 1,
   "id": "504bed17",
   "metadata": {},
   "outputs": [
    {
     "name": "stderr",
     "output_type": "stream",
     "text": [
      "2022-05-28 22:21:50.995392: W tensorflow/stream_executor/platform/default/dso_loader.cc:64] Could not load dynamic library 'libcudart.so.11.0'; dlerror: libcudart.so.11.0: cannot open shared object file: No such file or directory\n",
      "2022-05-28 22:21:50.995438: I tensorflow/stream_executor/cuda/cudart_stub.cc:29] Ignore above cudart dlerror if you do not have a GPU set up on your machine.\n"
     ]
    },
    {
     "name": "stdout",
     "output_type": "stream",
     "text": [
      "/home/martin/Documents/pharm_sales/notebooks\n",
      "/home/martin/Documents/pharm_sales/notebooks\n",
      "The Zen of Python, by Tim Peters\n",
      "\n",
      "Beautiful is better than ugly.\n",
      "Explicit is better than implicit.\n",
      "Simple is better than complex.\n",
      "Complex is better than complicated.\n",
      "Flat is better than nested.\n",
      "Sparse is better than dense.\n",
      "Readability counts.\n",
      "Special cases aren't special enough to break the rules.\n",
      "Although practicality beats purity.\n",
      "Errors should never pass silently.\n",
      "Unless explicitly silenced.\n",
      "In the face of ambiguity, refuse the temptation to guess.\n",
      "There should be one-- and preferably only one --obvious way to do it.\n",
      "Although that way may not be obvious at first unless you're Dutch.\n",
      "Now is better than never.\n",
      "Although never is often better than *right* now.\n",
      "If the implementation is hard to explain, it's a bad idea.\n",
      "If the implementation is easy to explain, it may be a good idea.\n",
      "Namespaces are one honking great idea -- let's do more of those!\n"
     ]
    }
   ],
   "source": [
    "# importing of libraries\n",
    "import numpy as np\n",
    "import pandas as pd\n",
    "import warnings\n",
    "import matplotlib.pyplot as plt\n",
    "from statsmodels.tsa.stattools import adfuller, acf, pacf\n",
    "import tensorflow as tf\n",
    "import seaborn as sns\n",
    "import os,sys\n",
    "sys.path.append(os.path.abspath(os.path.join('../scripts')))\n",
    "from timeseries import TimeSeries\n",
    "from deep_learner import DeepLearn\n",
    "sns.set()\n"
   ]
  },
  {
   "cell_type": "code",
   "execution_count": 2,
   "id": "fd91e485",
   "metadata": {},
   "outputs": [],
   "source": [
    "train_ = pd.read_csv(\"../data/cleaned_train.csv\")\n",
    "test = pd.read_csv(\"../data/cleaned_test.csv\")\n",
    "train=train_.loc[:,train_.columns!='Sales']\n",
    "train['Sales']=train_['Sales']\n",
    "train = train.set_index('Date')\n"
   ]
  },
  {
   "cell_type": "markdown",
   "id": "5d73445e",
   "metadata": {},
   "source": [
    "### Tasks\n",
    "- Isolate the Rossmann Store Sales dataset into time series data\n"
   ]
  },
  {
   "cell_type": "code",
   "execution_count": 3,
   "id": "866bbdb5",
   "metadata": {},
   "outputs": [
    {
     "name": "stderr",
     "output_type": "stream",
     "text": [
      "2022-05-28 21:51:32,930:logger:Initialized the time series class\n"
     ]
    }
   ],
   "source": [
    "timeseries = TimeSeries(train)"
   ]
  },
  {
   "cell_type": "markdown",
   "id": "7af141a5",
   "metadata": {},
   "source": [
    "So for the conversion of the time series data, it is simple we take the date and split the data, into week, day, month, year, so that we can get a real time scope of what we are working on majorly."
   ]
  },
  {
   "cell_type": "markdown",
   "id": "a3d4b993",
   "metadata": {},
   "source": [
    "- Check whether your time Series Data is Stationary"
   ]
  },
  {
   "cell_type": "code",
   "execution_count": 6,
   "id": "b93106a1",
   "metadata": {},
   "outputs": [],
   "source": [
    "timeseries.perform_adfuller('Sales')"
   ]
  },
  {
   "cell_type": "markdown",
   "id": "87597d38",
   "metadata": {},
   "source": [
    "So we realize that the data is stationary because the p-value is less than 0.005"
   ]
  },
  {
   "cell_type": "markdown",
   "id": "ce439a12",
   "metadata": {},
   "source": [
    "- Depending on your conclusion from 2 above difference your time series data\n",
    "\n"
   ]
  },
  {
   "cell_type": "code",
   "execution_count": 21,
   "id": "cda424a4",
   "metadata": {},
   "outputs": [],
   "source": [
    "train['Sales'] = timeseries.remove_stationarity(train.Sales.values)"
   ]
  },
  {
   "cell_type": "markdown",
   "id": "82d0e07e",
   "metadata": {},
   "source": [
    "- Check for autocorrelation and partial autocorrelation of your data\n"
   ]
  },
  {
   "cell_type": "code",
   "execution_count": 28,
   "id": "d0bf3e3e",
   "metadata": {},
   "outputs": [],
   "source": [
    "acfSalesScaled = acf(train.Sales.values, fft=True, nlags=40)\n",
    "acfSalesScaledArray = np.array(acfSalesScaled)"
   ]
  },
  {
   "cell_type": "code",
   "execution_count": 29,
   "id": "c52eebf1",
   "metadata": {},
   "outputs": [
    {
     "data": {
      "image/png": "[encoded data removed]",
      "text/plain": [
       "<Figure size 2160x360 with 1 Axes>"
      ]
     },
     "metadata": {
      "needs_background": "light"
     },
     "output_type": "display_data"
    },
    {
     "name": "stderr",
     "output_type": "stream",
     "text": [
      "2022-05-28 21:11:44,196:logger:Successfully displayed the autocorelation plots\n"
     ]
    }
   ],
   "source": [
    "timeseries.corrPlots(acfSalesScaledArray, '')"
   ]
  },
  {
   "cell_type": "markdown",
   "id": "5c926445",
   "metadata": {},
   "source": [
    "When we plot the data we realize that there is a consistent flow, and this shows that there is a partial autocorelation in the data"
   ]
  },
  {
   "cell_type": "markdown",
   "id": "77c6104d",
   "metadata": {},
   "source": [
    "- Transform the time series data into supervised learning data by creating a new y(target) column. For example as illustrated here in the Sliding Window For Time Series Data section\n"
   ]
  },
  {
   "cell_type": "code",
   "execution_count": 117,
   "id": "81dcf47e",
   "metadata": {},
   "outputs": [],
   "source": [
    "n = len(train)\n",
    "train_df = train[0:int(n*0.7)]\n",
    "val_df = train[int(n*0.7):int(n*0.9)]\n",
    "test_df = train[int(n*0.9):]\n",
    "num_features = train.shape[1]"
   ]
  },
  {
   "cell_type": "markdown",
   "id": "1b13ae38",
   "metadata": {},
   "source": [
    "- Build a LSTM Regression model to predict the next sale."
   ]
  },
  {
   "cell_type": "code",
   "execution_count": 120,
   "id": "54514f01",
   "metadata": {},
   "outputs": [],
   "source": [
    "learn = DeepLearn(input_width=24, label_width=1, shift=24,epochs=5,\n",
    "                    train_df=train_df, val_df=val_df, test_df=test_df,\n",
    "                    label_columns=['Sales'])\n",
    "model_obj = tf.keras.models.Sequential([\n",
    "            # Shape [batch, time, features] => [batch, time, lstm_units]\n",
    "            tf.keras.layers.LSTM(32, return_sequences=True),\n",
    "            # Shape => [batch, time, features]\n",
    "            tf.keras.layers.Dense(units=1)\n",
    "        ])"
   ]
  },
  {
   "cell_type": "code",
   "execution_count": 5,
   "id": "78bb6695",
   "metadata": {},
   "outputs": [
    {
     "name": "stderr",
     "output_type": "stream",
     "text": [
      "2022-05-28 21:51:33.858330: W tensorflow/stream_executor/platform/default/dso_loader.cc:64] Could not load dynamic library 'libcuda.so.1'; dlerror: libcuda.so.1: cannot open shared object file: No such file or directory\n",
      "2022-05-28 21:51:33.858384: W tensorflow/stream_executor/cuda/cuda_driver.cc:269] failed call to cuInit: UNKNOWN ERROR (303)\n",
      "2022-05-28 21:51:33.858422: I tensorflow/stream_executor/cuda/cuda_diagnostics.cc:156] kernel driver does not appear to be running on this host (martin-HP-EliteBook-Folio-9470m): /proc/driver/nvidia/version does not exist\n",
      "2022/05/28 21:51:33 WARNING mlflow.utils.autologging_utils: You are using an unsupported version of tensorflow. If you encounter errors during autologging, try upgrading / downgrading tensorflow to a supported version, or try upgrading MLflow.\n"
     ]
    },
    {
     "name": "stdout",
     "output_type": "stream",
     "text": [
      "Epoch 1/5\n",
      "7093/7093 [==============================] - 134s 18ms/step - loss: 41992464.0000 - mean_absolute_error: 5437.3071 - val_loss: 36895024.0000 - val_mean_absolute_error: 5107.6650\n",
      "Epoch 2/5\n",
      "7093/7093 [==============================] - 128s 18ms/step - loss: 40918856.0000 - mean_absolute_error: 5366.2339 - val_loss: 35866872.0000 - val_mean_absolute_error: 5034.2124\n",
      "Epoch 3/5\n",
      "7093/7093 [==============================] - 145s 20ms/step - loss: 39807912.0000 - mean_absolute_error: 5290.6553 - val_loss: 34816728.0000 - val_mean_absolute_error: 4957.4668\n",
      "Epoch 4/5\n",
      "7093/7093 [==============================] - 141s 20ms/step - loss: 38707756.0000 - mean_absolute_error: 5214.3921 - val_loss: 33788368.0000 - val_mean_absolute_error: 4880.8584\n",
      "Epoch 5/5\n",
      "7093/7093 [==============================] - 161s 23ms/step - loss: 37628160.0000 - mean_absolute_error: 5138.1748 - val_loss: 32779850.0000 - val_mean_absolute_error: 4804.2480\n"
     ]
    },
    {
     "name": "stderr",
     "output_type": "stream",
     "text": [
      "2022/05/28 22:03:25 WARNING mlflow.utils.autologging_utils: Encountered unexpected error during tensorflow autologging: 'MapDataset' object has no attribute '_batch_size'\n",
      "2022-05-28 22:03:25,701:logger:Successfully executed the model\n"
     ]
    }
   ],
   "source": [
    "forecast = learn.model(\n",
    "    model_=model_obj\n",
    ")"
   ]
  },
  {
   "cell_type": "code",
   "execution_count": 2,
   "id": "086d0884",
   "metadata": {},
   "outputs": [
    {
     "data": {
      "text/plain": [
       "<AxesSubplot:xlabel='timepoint', ylabel='signal'>"
      ]
     },
     "execution_count": 2,
     "metadata": {},
     "output_type": "execute_result"
    },
    {
     "data": {
      "image/png": "[encoded data removed]",
      "text/plain": [
       "<Figure size 432x288 with 1 Axes>"
      ]
     },
     "metadata": {},
     "output_type": "display_data"
    }
   ],
   "source": [
    "learn.plot(model=model_obj)"
   ]
  },
  {
   "cell_type": "markdown",
   "id": "3ac21de6",
   "metadata": {},
   "source": [
    "# Conclusion"
   ]
  },
  {
   "cell_type": "markdown",
   "id": "c425907c",
   "metadata": {},
   "source": [
    "We see that through the analysis the predictions and the actual are close, making our model fit enough for the analysis. What I can conclude is that there are more predictions that are closer, in the lstm model than the lightgbm or random forest regressors. Therefore I would advise that they use the lstm for the predictions of the sales."
   ]
  }
 ],
 "metadata": {
  "kernelspec": {
   "display_name": "Python 3 (ipykernel)",
   "language": "python",
   "name": "python3"
  },
  "language_info": {
   "codemirror_mode": {
    "name": "ipython",
    "version": 3
   },
   "file_extension": ".py",
   "mimetype": "text/x-python",
   "name": "python",
   "nbconvert_exporter": "python",
   "pygments_lexer": "ipython3",
   "version": "3.10.4"
  }
 },
 "nbformat": 4,
 "nbformat_minor": 5
}
